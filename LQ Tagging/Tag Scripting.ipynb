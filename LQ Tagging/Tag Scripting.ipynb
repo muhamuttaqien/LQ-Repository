{
 "cells": [
  {
   "cell_type": "markdown",
   "metadata": {},
   "source": [
    "References:\n",
    "\n",
    "- https://docs.python.org/2/library/sqlite3.html\n",
    "- https://docs.python.org/3/library/sqlite3.html\n",
    "- https://www.pythoncentral.io/introduction-to-sqlite-in-python/\n",
    "- http://sebastianraschka.com/Articles/2014_sqlite_in_python_tutorial.html\n",
    "- https://www.tutorialspoint.com/sqlite/sqlite_python.htm"
   ]
  },
  {
   "cell_type": "markdown",
   "metadata": {},
   "source": [
    "SCRIPTING INDEX TERPOPULAR\n",
    "\n",
    "1. Detect parent => Keutamaan dan pahala iman, Cabang-cabang iman, \n",
    "2. Detect child & if there is child or not or empty space (x)\n",
    "3. Detect ayah & if empty or not\n",
    "4. Detect ayah & if hitting the end or not\n",
    "5. Detect child & if below empty or not (child + 1)\n",
    "\n",
    "max-depth: 5 layers\n",
    "\n",
    "Outliers: Bangsa-bangsa terdahulu, Hukum privat"
   ]
  },
  {
   "cell_type": "code",
   "execution_count": 1,
   "metadata": {
    "collapsed": true
   },
   "outputs": [],
   "source": [
    "import xlrd\n",
    "import sqlite3"
   ]
  },
  {
   "cell_type": "code",
   "execution_count": 2,
   "metadata": {
    "collapsed": true
   },
   "outputs": [],
   "source": [
    "# Open the workbook and define the worksheet\n",
    "\n",
    "book = xlrd.open_workbook(filename=\"/Users/muhamuttaqien/Downloads/IndeksQuranTercanggih.xlsx\")\n",
    "\n",
    "grtopic = book.sheet_by_name(\"ILMU\")"
   ]
  },
  {
   "cell_type": "code",
   "execution_count": 3,
   "metadata": {
    "collapsed": true
   },
   "outputs": [],
   "source": [
    "conn = sqlite3.connect('/Users/muhamuttaqien/Downloads/IbnKathirTafsirs-formatted2 (1).db3')\n",
    "c = conn.cursor()"
   ]
  },
  {
   "cell_type": "markdown",
   "metadata": {},
   "source": [
    "### Count rows and columns"
   ]
  },
  {
   "cell_type": "code",
   "execution_count": 4,
   "metadata": {},
   "outputs": [
    {
     "data": {
      "text/plain": [
       "6236"
      ]
     },
     "execution_count": 4,
     "metadata": {},
     "output_type": "execute_result"
    }
   ],
   "source": [
    "table = \"tafsir_id_content\"\n",
    "rowsQuery = \"SELECT Count() FROM %s\" % table\n",
    "c.execute(rowsQuery)\n",
    "numberOfRows = c.fetchone()[0]\n",
    "numberOfRows"
   ]
  },
  {
   "cell_type": "code",
   "execution_count": 5,
   "metadata": {},
   "outputs": [
    {
     "data": {
      "text/plain": [
       "5"
      ]
     },
     "execution_count": 5,
     "metadata": {},
     "output_type": "execute_result"
    }
   ],
   "source": [
    "columnsQuery = \"PRAGMA table_info(%s)\" % table\n",
    "c.execute(columnsQuery)\n",
    "numberOfColumns = len(c.fetchall())\n",
    "numberOfColumns"
   ]
  },
  {
   "cell_type": "code",
   "execution_count": 6,
   "metadata": {},
   "outputs": [
    {
     "data": {
      "text/plain": [
       "80"
      ]
     },
     "execution_count": 6,
     "metadata": {},
     "output_type": "execute_result"
    }
   ],
   "source": [
    "nrows = grtopic.nrows\n",
    "nrows"
   ]
  },
  {
   "cell_type": "code",
   "execution_count": 7,
   "metadata": {},
   "outputs": [
    {
     "data": {
      "text/plain": [
       "97"
      ]
     },
     "execution_count": 7,
     "metadata": {},
     "output_type": "execute_result"
    }
   ],
   "source": [
    "ncols = grtopic.ncols\n",
    "ncols"
   ]
  },
  {
   "cell_type": "markdown",
   "metadata": {},
   "source": [
    "### 1. Detect parent and child topics"
   ]
  },
  {
   "cell_type": "code",
   "execution_count": 8,
   "metadata": {},
   "outputs": [
    {
     "data": {
      "text/plain": [
       "'Keutamaan ilmu'"
      ]
     },
     "execution_count": 8,
     "metadata": {},
     "output_type": "execute_result"
    }
   ],
   "source": [
    "topic = grtopic.cell_value(rowx=2, colx=1)\n",
    "topic"
   ]
  },
  {
   "cell_type": "code",
   "execution_count": 9,
   "metadata": {},
   "outputs": [
    {
     "data": {
      "text/plain": [
       "'Qs.18:70'"
      ]
     },
     "execution_count": 9,
     "metadata": {},
     "output_type": "execute_result"
    }
   ],
   "source": [
    "verse = grtopic.cell_value(rowx=8, colx=7)\n",
    "verse"
   ]
  },
  {
   "cell_type": "code",
   "execution_count": 10,
   "metadata": {},
   "outputs": [
    {
     "data": {
      "text/plain": [
       "'Etika seorang murid'"
      ]
     },
     "execution_count": 10,
     "metadata": {},
     "output_type": "execute_result"
    }
   ],
   "source": [
    "grtopic.cell_value(rowx=20, colx=2).strip()"
   ]
  },
  {
   "cell_type": "code",
   "execution_count": 11,
   "metadata": {
    "scrolled": true
   },
   "outputs": [
    {
     "name": "stdout",
     "output_type": "stream",
     "text": [
      "Keutamaan ilmu\n",
      "Kedudukan orang alim\n",
      "Menuntut ilmu dan mengamalkannya\n",
      "Kebodohan dan akibat orang bodoh\n",
      "Majlis ilmu atau tempat pendidikan\n",
      "#1 Duduk dalam majlis ilmu\n",
      "#1 Memutus pembicaraan guru\n",
      "Menyampaikan ilmu\n",
      "#1 Yang hadir menyampaikan kepada yang tidak hadir\n",
      "#1 Hukum menuntut ilmu fardhu kifayah\n",
      "#1 Menyembunyikan ilmu\n",
      "Etika ilmu\n",
      "#1 Etika orang alim\n",
      "Ilmu Hadis\n",
      "#1 Kedudukan sunnah Rasul\n",
      "#1 Berpegang pada hadits\n",
      "#1 Meneliti kesahihan hadis\n",
      "#1 Kemakruhan berbeda pendapat dalam hadits\n",
      "Fatwa\n",
      "#1 Fatwa halal dan haram\n",
      "Mimpi\n",
      "#1 Jenis mimpi\n",
      "Pengobatan atau meditasi\n",
      "#1 Penyakit\n",
      "Perhitungan tahun\n",
      "#1 Satu tahun ada 12 bulan\n",
      "#1 Bulan-bulan haram\n",
      "#1 Cara mengetahui hari dan tahun\n"
     ]
    },
    {
     "ename": "IndexError",
     "evalue": "list index out of range",
     "output_type": "error",
     "traceback": [
      "\u001b[0;31m---------------------------------------------------------------------------\u001b[0m",
      "\u001b[0;31mIndexError\u001b[0m                                Traceback (most recent call last)",
      "\u001b[0;32m<ipython-input-11-db27156e1085>\u001b[0m in \u001b[0;36m<module>\u001b[0;34m()\u001b[0m\n\u001b[1;32m     10\u001b[0m             \u001b[0mprint\u001b[0m\u001b[0;34m(\u001b[0m\u001b[0;34m\"#1 \"\u001b[0m \u001b[0;34m+\u001b[0m \u001b[0msubtopic\u001b[0m\u001b[0;34m.\u001b[0m\u001b[0mstrip\u001b[0m\u001b[0;34m(\u001b[0m\u001b[0;34m)\u001b[0m\u001b[0;34m)\u001b[0m\u001b[0;34m\u001b[0m\u001b[0m\n\u001b[1;32m     11\u001b[0m             \u001b[0msrow\u001b[0m\u001b[0;34m+=\u001b[0m\u001b[0;36m1\u001b[0m\u001b[0;34m\u001b[0m\u001b[0m\n\u001b[0;32m---> 12\u001b[0;31m             \u001b[0msubtopic\u001b[0m \u001b[0;34m=\u001b[0m \u001b[0mgrtopic\u001b[0m\u001b[0;34m.\u001b[0m\u001b[0mcell_value\u001b[0m\u001b[0;34m(\u001b[0m\u001b[0mrowx\u001b[0m\u001b[0;34m=\u001b[0m\u001b[0msrow\u001b[0m\u001b[0;34m,\u001b[0m \u001b[0mcolx\u001b[0m\u001b[0;34m=\u001b[0m\u001b[0;34m(\u001b[0m\u001b[0mpcol\u001b[0m\u001b[0;34m+\u001b[0m\u001b[0;36m1\u001b[0m\u001b[0;34m)\u001b[0m\u001b[0;34m)\u001b[0m\u001b[0;34m\u001b[0m\u001b[0m\n\u001b[0m",
      "\u001b[0;32m/anaconda3/lib/python3.6/site-packages/xlrd/sheet.py\u001b[0m in \u001b[0;36mcell_value\u001b[0;34m(self, rowx, colx)\u001b[0m\n\u001b[1;32m    413\u001b[0m     \u001b[0;32mdef\u001b[0m \u001b[0mcell_value\u001b[0m\u001b[0;34m(\u001b[0m\u001b[0mself\u001b[0m\u001b[0;34m,\u001b[0m \u001b[0mrowx\u001b[0m\u001b[0;34m,\u001b[0m \u001b[0mcolx\u001b[0m\u001b[0;34m)\u001b[0m\u001b[0;34m:\u001b[0m\u001b[0;34m\u001b[0m\u001b[0m\n\u001b[1;32m    414\u001b[0m         \u001b[0;34m\"Value of the cell in the given row and column.\"\u001b[0m\u001b[0;34m\u001b[0m\u001b[0m\n\u001b[0;32m--> 415\u001b[0;31m         \u001b[0;32mreturn\u001b[0m \u001b[0mself\u001b[0m\u001b[0;34m.\u001b[0m\u001b[0m_cell_values\u001b[0m\u001b[0;34m[\u001b[0m\u001b[0mrowx\u001b[0m\u001b[0;34m]\u001b[0m\u001b[0;34m[\u001b[0m\u001b[0mcolx\u001b[0m\u001b[0;34m]\u001b[0m\u001b[0;34m\u001b[0m\u001b[0m\n\u001b[0m\u001b[1;32m    416\u001b[0m \u001b[0;34m\u001b[0m\u001b[0m\n\u001b[1;32m    417\u001b[0m     \u001b[0;32mdef\u001b[0m \u001b[0mcell_type\u001b[0m\u001b[0;34m(\u001b[0m\u001b[0mself\u001b[0m\u001b[0;34m,\u001b[0m \u001b[0mrowx\u001b[0m\u001b[0;34m,\u001b[0m \u001b[0mcolx\u001b[0m\u001b[0;34m)\u001b[0m\u001b[0;34m:\u001b[0m\u001b[0;34m\u001b[0m\u001b[0m\n",
      "\u001b[0;31mIndexError\u001b[0m: list index out of range"
     ]
    }
   ],
   "source": [
    "for prow in range(nrows):\n",
    "    pcol = 1 # index where parent topics positioned\n",
    "    topic = grtopic.cell_value(rowx=prow, colx=pcol)\n",
    "    if(topic):\n",
    "        print(topic.strip())\n",
    "        srow = prow+1\n",
    "        subtopic = grtopic.cell_value(rowx=prow+1, colx=(pcol+1))\n",
    "        while (subtopic != ''):\n",
    "            # print(srow)\n",
    "            print(\"#1 \" + subtopic.strip())     \n",
    "            srow+=1\n",
    "            subtopic = grtopic.cell_value(rowx=srow, colx=(pcol+1))"
   ]
  },
  {
   "cell_type": "markdown",
   "metadata": {},
   "source": [
    "### 2. Detect subtopics"
   ]
  },
  {
   "cell_type": "markdown",
   "metadata": {},
   "source": [
    "### Commit tagging"
   ]
  },
  {
   "cell_type": "code",
   "execution_count": 12,
   "metadata": {},
   "outputs": [
    {
     "ename": "NameError",
     "evalue": "name 'iman' is not defined",
     "output_type": "error",
     "traceback": [
      "\u001b[0;31m---------------------------------------------------------------------------\u001b[0m",
      "\u001b[0;31mNameError\u001b[0m                                 Traceback (most recent call last)",
      "\u001b[0;32m<ipython-input-12-ac22a087b220>\u001b[0m in \u001b[0;36m<module>\u001b[0;34m()\u001b[0m\n\u001b[1;32m      2\u001b[0m \u001b[0;34m\u001b[0m\u001b[0m\n\u001b[1;32m      3\u001b[0m \u001b[0;32mfor\u001b[0m \u001b[0mcol\u001b[0m \u001b[0;32min\u001b[0m \u001b[0mrange\u001b[0m \u001b[0;34m(\u001b[0m\u001b[0;36m7\u001b[0m\u001b[0;34m,\u001b[0m\u001b[0;36m1000\u001b[0m\u001b[0;34m)\u001b[0m\u001b[0;34m:\u001b[0m\u001b[0;34m\u001b[0m\u001b[0m\n\u001b[0;32m----> 4\u001b[0;31m     \u001b[0;32mif\u001b[0m \u001b[0;34m(\u001b[0m\u001b[0;34m(\u001b[0m\u001b[0;34m\"{0}\"\u001b[0m\u001b[0;34m.\u001b[0m\u001b[0mformat\u001b[0m\u001b[0;34m(\u001b[0m\u001b[0miman\u001b[0m\u001b[0;34m.\u001b[0m\u001b[0mcell_value\u001b[0m\u001b[0;34m(\u001b[0m\u001b[0mrowx\u001b[0m\u001b[0;34m=\u001b[0m\u001b[0;36m8\u001b[0m\u001b[0;34m,\u001b[0m \u001b[0mcolx\u001b[0m\u001b[0;34m=\u001b[0m\u001b[0mcol\u001b[0m\u001b[0;34m)\u001b[0m\u001b[0;34m)\u001b[0m\u001b[0;34m)\u001b[0m\u001b[0;34m==\u001b[0m \u001b[0;34m\"\"\u001b[0m\u001b[0;34m)\u001b[0m\u001b[0;34m:\u001b[0m\u001b[0;34m\u001b[0m\u001b[0m\n\u001b[0m\u001b[1;32m      5\u001b[0m         \u001b[0;32mbreak\u001b[0m\u001b[0;34m\u001b[0m\u001b[0m\n\u001b[1;32m      6\u001b[0m     \u001b[0;32melse\u001b[0m\u001b[0;34m:\u001b[0m\u001b[0;34m\u001b[0m\u001b[0m\n",
      "\u001b[0;31mNameError\u001b[0m: name 'iman' is not defined"
     ]
    }
   ],
   "source": [
    "# Insert tagging\n",
    "\n",
    "for col in range (7,1000):\n",
    "    if ((\"{0}\".format(iman.cell_value(rowx=8, colx=col)))== \"\"):\n",
    "        break\n",
    "    else:\n",
    "        verse = iman.cell_value(rowx=8, colx=col)\n",
    "        splitted_verse = verse[3:].split(\":\")\n",
    "        surah = splitted_verse[0]\n",
    "        ayah = splitted_verse[1]\n",
    "        \n",
    "        c.execute('UPDATE tafsir_id_content SET keywords = \"'+ topic +'\" WHERE c0sura = '+ surah +' AND c1aya = ' + ayah)        "
   ]
  },
  {
   "cell_type": "code",
   "execution_count": null,
   "metadata": {
    "collapsed": true
   },
   "outputs": [],
   "source": [
    "conn.commit()"
   ]
  }
 ],
 "metadata": {
  "kernelspec": {
   "display_name": "Python 3",
   "language": "python",
   "name": "python3"
  },
  "language_info": {
   "codemirror_mode": {
    "name": "ipython",
    "version": 3
   },
   "file_extension": ".py",
   "mimetype": "text/x-python",
   "name": "python",
   "nbconvert_exporter": "python",
   "pygments_lexer": "ipython3",
   "version": "3.6.3"
  }
 },
 "nbformat": 4,
 "nbformat_minor": 2
}
