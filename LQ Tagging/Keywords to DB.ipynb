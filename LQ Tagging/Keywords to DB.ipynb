{
 "cells": [
  {
   "cell_type": "code",
   "execution_count": 1,
   "metadata": {
    "collapsed": true
   },
   "outputs": [],
   "source": [
    "import pymysql\n",
    "import sqlite3"
   ]
  },
  {
   "cell_type": "code",
   "execution_count": 2,
   "metadata": {
    "collapsed": true
   },
   "outputs": [],
   "source": [
    "conn = sqlite3.connect(\"/Users/muhamuttaqien/Documents/workspace/learnquran-tafsir-web/lqtafsir-server/app/resource/IbnKathirTafsirs-tagged-parented.db3\")\n",
    "c = conn.cursor()"
   ]
  },
  {
   "cell_type": "markdown",
   "metadata": {},
   "source": [
    "### Count rows and columns"
   ]
  },
  {
   "cell_type": "code",
   "execution_count": 3,
   "metadata": {},
   "outputs": [
    {
     "data": {
      "text/plain": [
       "6236"
      ]
     },
     "execution_count": 3,
     "metadata": {},
     "output_type": "execute_result"
    }
   ],
   "source": [
    "table = \"tafsir_id_content\"\n",
    "rowsQuery = \"SELECT Count() FROM %s\" % table\n",
    "c.execute(rowsQuery)\n",
    "numberOfRows = c.fetchone()[0]\n",
    "numberOfRows"
   ]
  },
  {
   "cell_type": "code",
   "execution_count": 4,
   "metadata": {},
   "outputs": [
    {
     "data": {
      "text/plain": [
       "5"
      ]
     },
     "execution_count": 4,
     "metadata": {},
     "output_type": "execute_result"
    }
   ],
   "source": [
    "columnsQuery = \"PRAGMA table_info(%s)\" % table\n",
    "c.execute(columnsQuery)\n",
    "numberOfColumns = len(c.fetchall())\n",
    "numberOfColumns"
   ]
  },
  {
   "cell_type": "markdown",
   "metadata": {},
   "source": [
    "### Connect to DB"
   ]
  },
  {
   "cell_type": "code",
   "execution_count": 11,
   "metadata": {},
   "outputs": [
    {
     "ename": "OperationalError",
     "evalue": "(1045, \"Access denied for user 'learnqur'@'110.138.47.244' (using password: YES)\")",
     "output_type": "error",
     "traceback": [
      "\u001b[0;31m---------------------------------------------------------------------------\u001b[0m",
      "\u001b[0;31mOperationalError\u001b[0m                          Traceback (most recent call last)",
      "\u001b[0;32m<ipython-input-11-32f4781a1202>\u001b[0m in \u001b[0;36m<module>\u001b[0;34m()\u001b[0m\n\u001b[1;32m      1\u001b[0m \u001b[0;31m# db = pymysql.connect(\"127.0.0.1\", \"root\", \"\", \"learnqur_lqtafsir\") # localhost\u001b[0m\u001b[0;34m\u001b[0m\u001b[0;34m\u001b[0m\u001b[0m\n\u001b[0;32m----> 2\u001b[0;31m \u001b[0mdb\u001b[0m \u001b[0;34m=\u001b[0m \u001b[0mpymysql\u001b[0m\u001b[0;34m.\u001b[0m\u001b[0mconnect\u001b[0m\u001b[0;34m(\u001b[0m\u001b[0;34m\"45.114.117.33\"\u001b[0m\u001b[0;34m,\u001b[0m \u001b[0;34m\"learnqur\"\u001b[0m\u001b[0;34m,\u001b[0m \u001b[0;34m\"N!@t1khl455555\"\u001b[0m\u001b[0;34m,\u001b[0m \u001b[0;34m\"learnqur_lqtafsir\"\u001b[0m\u001b[0;34m)\u001b[0m \u001b[0;31m# dev cpanel\u001b[0m\u001b[0;34m\u001b[0m\u001b[0m\n\u001b[0m",
      "\u001b[0;32m/anaconda3/lib/python3.6/site-packages/pymysql/__init__.py\u001b[0m in \u001b[0;36mConnect\u001b[0;34m(*args, **kwargs)\u001b[0m\n\u001b[1;32m     88\u001b[0m     \"\"\"\n\u001b[1;32m     89\u001b[0m     \u001b[0;32mfrom\u001b[0m \u001b[0;34m.\u001b[0m\u001b[0mconnections\u001b[0m \u001b[0;32mimport\u001b[0m \u001b[0mConnection\u001b[0m\u001b[0;34m\u001b[0m\u001b[0m\n\u001b[0;32m---> 90\u001b[0;31m     \u001b[0;32mreturn\u001b[0m \u001b[0mConnection\u001b[0m\u001b[0;34m(\u001b[0m\u001b[0;34m*\u001b[0m\u001b[0margs\u001b[0m\u001b[0;34m,\u001b[0m \u001b[0;34m**\u001b[0m\u001b[0mkwargs\u001b[0m\u001b[0;34m)\u001b[0m\u001b[0;34m\u001b[0m\u001b[0m\n\u001b[0m\u001b[1;32m     91\u001b[0m \u001b[0;34m\u001b[0m\u001b[0m\n\u001b[1;32m     92\u001b[0m \u001b[0;32mfrom\u001b[0m \u001b[0;34m.\u001b[0m \u001b[0;32mimport\u001b[0m \u001b[0mconnections\u001b[0m \u001b[0;32mas\u001b[0m \u001b[0m_orig_conn\u001b[0m\u001b[0;34m\u001b[0m\u001b[0m\n",
      "\u001b[0;32m/anaconda3/lib/python3.6/site-packages/pymysql/connections.py\u001b[0m in \u001b[0;36m__init__\u001b[0;34m(self, host, user, password, database, port, unix_socket, charset, sql_mode, read_default_file, conv, use_unicode, client_flag, cursorclass, init_command, connect_timeout, ssl, read_default_group, compress, named_pipe, no_delay, autocommit, db, passwd, local_infile, max_allowed_packet, defer_connect, auth_plugin_map, read_timeout, write_timeout, bind_address, binary_prefix)\u001b[0m\n\u001b[1;32m    697\u001b[0m             \u001b[0mself\u001b[0m\u001b[0;34m.\u001b[0m\u001b[0m_sock\u001b[0m \u001b[0;34m=\u001b[0m \u001b[0;32mNone\u001b[0m\u001b[0;34m\u001b[0m\u001b[0m\n\u001b[1;32m    698\u001b[0m         \u001b[0;32melse\u001b[0m\u001b[0;34m:\u001b[0m\u001b[0;34m\u001b[0m\u001b[0m\n\u001b[0;32m--> 699\u001b[0;31m             \u001b[0mself\u001b[0m\u001b[0;34m.\u001b[0m\u001b[0mconnect\u001b[0m\u001b[0;34m(\u001b[0m\u001b[0;34m)\u001b[0m\u001b[0;34m\u001b[0m\u001b[0m\n\u001b[0m\u001b[1;32m    700\u001b[0m \u001b[0;34m\u001b[0m\u001b[0m\n\u001b[1;32m    701\u001b[0m     \u001b[0;32mdef\u001b[0m \u001b[0m_create_ssl_ctx\u001b[0m\u001b[0;34m(\u001b[0m\u001b[0mself\u001b[0m\u001b[0;34m,\u001b[0m \u001b[0msslp\u001b[0m\u001b[0;34m)\u001b[0m\u001b[0;34m:\u001b[0m\u001b[0;34m\u001b[0m\u001b[0m\n",
      "\u001b[0;32m/anaconda3/lib/python3.6/site-packages/pymysql/connections.py\u001b[0m in \u001b[0;36mconnect\u001b[0;34m(self, sock)\u001b[0m\n\u001b[1;32m    934\u001b[0m \u001b[0;34m\u001b[0m\u001b[0m\n\u001b[1;32m    935\u001b[0m             \u001b[0mself\u001b[0m\u001b[0;34m.\u001b[0m\u001b[0m_get_server_information\u001b[0m\u001b[0;34m(\u001b[0m\u001b[0;34m)\u001b[0m\u001b[0;34m\u001b[0m\u001b[0m\n\u001b[0;32m--> 936\u001b[0;31m             \u001b[0mself\u001b[0m\u001b[0;34m.\u001b[0m\u001b[0m_request_authentication\u001b[0m\u001b[0;34m(\u001b[0m\u001b[0;34m)\u001b[0m\u001b[0;34m\u001b[0m\u001b[0m\n\u001b[0m\u001b[1;32m    937\u001b[0m \u001b[0;34m\u001b[0m\u001b[0m\n\u001b[1;32m    938\u001b[0m             \u001b[0;32mif\u001b[0m \u001b[0mself\u001b[0m\u001b[0;34m.\u001b[0m\u001b[0msql_mode\u001b[0m \u001b[0;32mis\u001b[0m \u001b[0;32mnot\u001b[0m \u001b[0;32mNone\u001b[0m\u001b[0;34m:\u001b[0m\u001b[0;34m\u001b[0m\u001b[0m\n",
      "\u001b[0;32m/anaconda3/lib/python3.6/site-packages/pymysql/connections.py\u001b[0m in \u001b[0;36m_request_authentication\u001b[0;34m(self)\u001b[0m\n\u001b[1;32m   1154\u001b[0m \u001b[0;34m\u001b[0m\u001b[0m\n\u001b[1;32m   1155\u001b[0m         \u001b[0mself\u001b[0m\u001b[0;34m.\u001b[0m\u001b[0mwrite_packet\u001b[0m\u001b[0;34m(\u001b[0m\u001b[0mdata\u001b[0m\u001b[0;34m)\u001b[0m\u001b[0;34m\u001b[0m\u001b[0m\n\u001b[0;32m-> 1156\u001b[0;31m         \u001b[0mauth_packet\u001b[0m \u001b[0;34m=\u001b[0m \u001b[0mself\u001b[0m\u001b[0;34m.\u001b[0m\u001b[0m_read_packet\u001b[0m\u001b[0;34m(\u001b[0m\u001b[0;34m)\u001b[0m\u001b[0;34m\u001b[0m\u001b[0m\n\u001b[0m\u001b[1;32m   1157\u001b[0m \u001b[0;34m\u001b[0m\u001b[0m\n\u001b[1;32m   1158\u001b[0m         \u001b[0;31m# if authentication method isn't accepted the first byte\u001b[0m\u001b[0;34m\u001b[0m\u001b[0;34m\u001b[0m\u001b[0m\n",
      "\u001b[0;32m/anaconda3/lib/python3.6/site-packages/pymysql/connections.py\u001b[0m in \u001b[0;36m_read_packet\u001b[0;34m(self, packet_type)\u001b[0m\n\u001b[1;32m   1016\u001b[0m \u001b[0;34m\u001b[0m\u001b[0m\n\u001b[1;32m   1017\u001b[0m         \u001b[0mpacket\u001b[0m \u001b[0;34m=\u001b[0m \u001b[0mpacket_type\u001b[0m\u001b[0;34m(\u001b[0m\u001b[0mbuff\u001b[0m\u001b[0;34m,\u001b[0m \u001b[0mself\u001b[0m\u001b[0;34m.\u001b[0m\u001b[0mencoding\u001b[0m\u001b[0;34m)\u001b[0m\u001b[0;34m\u001b[0m\u001b[0m\n\u001b[0;32m-> 1018\u001b[0;31m         \u001b[0mpacket\u001b[0m\u001b[0;34m.\u001b[0m\u001b[0mcheck_error\u001b[0m\u001b[0;34m(\u001b[0m\u001b[0;34m)\u001b[0m\u001b[0;34m\u001b[0m\u001b[0m\n\u001b[0m\u001b[1;32m   1019\u001b[0m         \u001b[0;32mreturn\u001b[0m \u001b[0mpacket\u001b[0m\u001b[0;34m\u001b[0m\u001b[0m\n\u001b[1;32m   1020\u001b[0m \u001b[0;34m\u001b[0m\u001b[0m\n",
      "\u001b[0;32m/anaconda3/lib/python3.6/site-packages/pymysql/connections.py\u001b[0m in \u001b[0;36mcheck_error\u001b[0;34m(self)\u001b[0m\n\u001b[1;32m    382\u001b[0m             \u001b[0merrno\u001b[0m \u001b[0;34m=\u001b[0m \u001b[0mself\u001b[0m\u001b[0;34m.\u001b[0m\u001b[0mread_uint16\u001b[0m\u001b[0;34m(\u001b[0m\u001b[0;34m)\u001b[0m\u001b[0;34m\u001b[0m\u001b[0m\n\u001b[1;32m    383\u001b[0m             \u001b[0;32mif\u001b[0m \u001b[0mDEBUG\u001b[0m\u001b[0;34m:\u001b[0m \u001b[0mprint\u001b[0m\u001b[0;34m(\u001b[0m\u001b[0;34m\"errno =\"\u001b[0m\u001b[0;34m,\u001b[0m \u001b[0merrno\u001b[0m\u001b[0;34m)\u001b[0m\u001b[0;34m\u001b[0m\u001b[0m\n\u001b[0;32m--> 384\u001b[0;31m             \u001b[0merr\u001b[0m\u001b[0;34m.\u001b[0m\u001b[0mraise_mysql_exception\u001b[0m\u001b[0;34m(\u001b[0m\u001b[0mself\u001b[0m\u001b[0;34m.\u001b[0m\u001b[0m_data\u001b[0m\u001b[0;34m)\u001b[0m\u001b[0;34m\u001b[0m\u001b[0m\n\u001b[0m\u001b[1;32m    385\u001b[0m \u001b[0;34m\u001b[0m\u001b[0m\n\u001b[1;32m    386\u001b[0m     \u001b[0;32mdef\u001b[0m \u001b[0mdump\u001b[0m\u001b[0;34m(\u001b[0m\u001b[0mself\u001b[0m\u001b[0;34m)\u001b[0m\u001b[0;34m:\u001b[0m\u001b[0;34m\u001b[0m\u001b[0m\n",
      "\u001b[0;32m/anaconda3/lib/python3.6/site-packages/pymysql/err.py\u001b[0m in \u001b[0;36mraise_mysql_exception\u001b[0;34m(data)\u001b[0m\n\u001b[1;32m    105\u001b[0m         \u001b[0merrval\u001b[0m \u001b[0;34m=\u001b[0m \u001b[0mdata\u001b[0m\u001b[0;34m[\u001b[0m\u001b[0;36m3\u001b[0m\u001b[0;34m:\u001b[0m\u001b[0;34m]\u001b[0m\u001b[0;34m.\u001b[0m\u001b[0mdecode\u001b[0m\u001b[0;34m(\u001b[0m\u001b[0;34m'utf-8'\u001b[0m\u001b[0;34m,\u001b[0m \u001b[0;34m'replace'\u001b[0m\u001b[0;34m)\u001b[0m\u001b[0;34m\u001b[0m\u001b[0m\n\u001b[1;32m    106\u001b[0m     \u001b[0merrorclass\u001b[0m \u001b[0;34m=\u001b[0m \u001b[0merror_map\u001b[0m\u001b[0;34m.\u001b[0m\u001b[0mget\u001b[0m\u001b[0;34m(\u001b[0m\u001b[0merrno\u001b[0m\u001b[0;34m,\u001b[0m \u001b[0mInternalError\u001b[0m\u001b[0;34m)\u001b[0m\u001b[0;34m\u001b[0m\u001b[0m\n\u001b[0;32m--> 107\u001b[0;31m     \u001b[0;32mraise\u001b[0m \u001b[0merrorclass\u001b[0m\u001b[0;34m(\u001b[0m\u001b[0merrno\u001b[0m\u001b[0;34m,\u001b[0m \u001b[0merrval\u001b[0m\u001b[0;34m)\u001b[0m\u001b[0;34m\u001b[0m\u001b[0m\n\u001b[0m",
      "\u001b[0;31mOperationalError\u001b[0m: (1045, \"Access denied for user 'learnqur'@'110.138.47.244' (using password: YES)\")"
     ]
    }
   ],
   "source": [
    "# db = pymysql.connect(\"127.0.0.1\", \"root\", \"\", \"learnqur_lqtafsir\") # localhost\n",
    "db = pymysql.connect(\"45.114.117.33\", \"learnqur\", \"N!@t1khl455555\", \"learnqur_lqtafsir\") # dev cpanel"
   ]
  },
  {
   "cell_type": "code",
   "execution_count": 6,
   "metadata": {
    "collapsed": true
   },
   "outputs": [],
   "source": [
    "cursor = db.cursor()"
   ]
  },
  {
   "cell_type": "markdown",
   "metadata": {},
   "source": [
    "### Reset all keywords"
   ]
  },
  {
   "cell_type": "code",
   "execution_count": null,
   "metadata": {
    "collapsed": true
   },
   "outputs": [],
   "source": [
    "for idx, row in enumerate(c.execute('SELECT keywords FROM tafsir_id_content')):\n",
    "    query = \"UPDATE quran_id_complete SET keywords ='\"\"' WHERE id = \" + str(idx+1)\n",
    "    cursor.execute(query)"
   ]
  },
  {
   "cell_type": "markdown",
   "metadata": {},
   "source": [
    "### Set keywords into DB"
   ]
  },
  {
   "cell_type": "code",
   "execution_count": 7,
   "metadata": {
    "collapsed": true
   },
   "outputs": [],
   "source": [
    "row = \"pasar\"\n",
    "idx = 1"
   ]
  },
  {
   "cell_type": "code",
   "execution_count": 8,
   "metadata": {
    "collapsed": true
   },
   "outputs": [],
   "source": [
    "text = \"Saya pergi ke\" + row + \"jam \" + str(idx)"
   ]
  },
  {
   "cell_type": "code",
   "execution_count": 9,
   "metadata": {},
   "outputs": [
    {
     "data": {
      "text/plain": [
       "'Saya pergi kepasarjam 1'"
      ]
     },
     "execution_count": 9,
     "metadata": {},
     "output_type": "execute_result"
    }
   ],
   "source": [
    "text"
   ]
  },
  {
   "cell_type": "code",
   "execution_count": 10,
   "metadata": {
    "collapsed": true
   },
   "outputs": [],
   "source": [
    "row = \"Keingkaran dan kedurhakaan orang kafir 3, Kufur 2, Hal-hal yang merusak iman 1, Para nabi memiliki sifat-sifat manusia lainnya 3, Kekhususan para nabi 2, Nabi-nabi 1, Pendustaan Quraisy terhadap Nabi saw. 3, Penghinaan kaum Quraisy 2, Sejarah di Mekah 1, Kaum Quraisy meminta mukjizat 3, Penghinaan kaum Quraisy 2, Sejarah di Mekah 1, Sabda Rasul saw. Aku ini hanya seorang manusia biasa 4, Kerendah-hatian Nabi saw. 3, Akhlak Nabi saw. 2, Sifat-sifat nabi Muhammad saw. 1, Ayat yang berhubungan dengan Abu Jahal 3, Beberapa orang yang menjadi sebab turunnya ayat Al Qur'an 2, Turunnya Al Qur'an 1, Ayat yang berhubungan dengan Abu Sufyan 3, Beberapa orang yang menjadi sebab turunnya ayat Al Qur'an 2, Turunnya Al Qur'an 1, Ayat yang berhubungan dengan Umayyah bin Khalaf 3, Beberapa orang yang menjadi sebab turunnya ayat Al Qur'an 2, Turunnya Al Qur'an 1, Ayat yang berhubungan dengan Syaibah bin Rabi'ah 3, Beberapa orang yang menjadi sebab turunnya ayat Al Qur'an 2, Turunnya Al Qur'an 1, Ayat yang berhubungan dengan Abdullah bin Umayah 3, Beberapa orang yang menjadi sebab turunnya ayat Al Qur'an 2, Turunnya Al Qur'an 1, Ayat yang berhubungan dengan 'Utbah bin Abi Rabi'ah 3, Beberapa orang yang menjadi sebab turunnya ayat Al Qur'an 2, Turunnya Al Qur'an 1, Ayat yang berhubungan dengan An Nadhr bin Al Harits 3, Beberapa orang yang menjadi sebab turunnya ayat Al Qur'an 2, Turunnya Al Qur'an 1, Ayat yang berhubungan dengan Al Walid bin Al Mughirah 3, Beberapa orang yang menjadi sebab turunnya ayat Al Qur'an 2, Turunnya Al Qur'an 1, Tasbih sebagai tanda kesucian Allah 4, Tasbih 3, Klasifikasi zikir 2, Zikir 1, Tasbih ketika takjub 4, Tasbih 3, Klasifikasi zikir 2, Zikir 1\""
   ]
  },
  {
   "cell_type": "code",
   "execution_count": 11,
   "metadata": {},
   "outputs": [
    {
     "data": {
      "text/plain": [
       "1"
      ]
     },
     "execution_count": 11,
     "metadata": {},
     "output_type": "execute_result"
    }
   ],
   "source": [
    "row_no_apostrophe = row.replace(\"'\", \"\\\\'\")\n",
    "query = \"UPDATE quran_id_complete SET keywords ='\" + row_no_apostrophe + \"' WHERE id = 2122\"\n",
    "cursor.execute(query)"
   ]
  },
  {
   "cell_type": "code",
   "execution_count": 12,
   "metadata": {
    "collapsed": true
   },
   "outputs": [],
   "source": [
    "for idx, row in enumerate(c.execute('SELECT keywords FROM tafsir_id_content')):\n",
    "    if ((idx+1) == 2122):\n",
    "        row = \"Keingkaran dan kedurhakaan orang kafir 3, Kufur 2, Hal-hal yang merusak iman 1, Para nabi memiliki sifat-sifat manusia lainnya 3, Kekhususan para nabi 2, Nabi-nabi 1, Pendustaan Quraisy terhadap Nabi saw. 3, Penghinaan kaum Quraisy 2, Sejarah di Mekah 1, Kaum Quraisy meminta mukjizat 3, Penghinaan kaum Quraisy 2, Sejarah di Mekah 1, Sabda Rasul saw. Aku ini hanya seorang manusia biasa 4, Kerendah-hatian Nabi saw. 3, Akhlak Nabi saw. 2, Sifat-sifat nabi Muhammad saw. 1, Ayat yang berhubungan dengan Abu Jahal 3, Beberapa orang yang menjadi sebab turunnya ayat Al Qur'an 2, Turunnya Al Qur'an 1, Ayat yang berhubungan dengan Abu Sufyan 3, Beberapa orang yang menjadi sebab turunnya ayat Al Qur'an 2, Turunnya Al Qur'an 1, Ayat yang berhubungan dengan Umayyah bin Khalaf 3, Beberapa orang yang menjadi sebab turunnya ayat Al Qur'an 2, Turunnya Al Qur'an 1, Ayat yang berhubungan dengan Syaibah bin Rabi'ah 3, Beberapa orang yang menjadi sebab turunnya ayat Al Qur'an 2, Turunnya Al Qur'an 1, Ayat yang berhubungan dengan Abdullah bin Umayah 3, Beberapa orang yang menjadi sebab turunnya ayat Al Qur'an 2, Turunnya Al Qur'an 1, Ayat yang berhubungan dengan 'Utbah bin Abi Rabi'ah 3, Beberapa orang yang menjadi sebab turunnya ayat Al Qur'an 2, Turunnya Al Qur'an 1, Ayat yang berhubungan dengan An Nadhr bin Al Harits 3, Beberapa orang yang menjadi sebab turunnya ayat Al Qur'an 2, Turunnya Al Qur'an 1, Ayat yang berhubungan dengan Al Walid bin Al Mughirah 3, Beberapa orang yang menjadi sebab turunnya ayat Al Qur'an 2, Turunnya Al Qur'an 1, Tasbih sebagai tanda kesucian Allah 4, Tasbih 3, Klasifikasi zikir 2, Zikir 1, Tasbih ketika takjub 4, Tasbih 3, Klasifikasi zikir 2, Zikir 1\"\n",
    "        row_no_apostrophe = row.replace(\"'\", \"\\\\'\")\n",
    "    else:\n",
    "        row_no_apostrophe = row[0].replace(\"'\", \"\\\\'\")\n",
    "    \n",
    "    query = \"UPDATE quran_id_complete SET keywords ='\" + row_no_apostrophe + \"' WHERE id = \" + str(idx+1)\n",
    "    cursor.execute(query)"
   ]
  },
  {
   "cell_type": "code",
   "execution_count": null,
   "metadata": {
    "collapsed": true
   },
   "outputs": [],
   "source": [
    "db.commit()"
   ]
  },
  {
   "cell_type": "code",
   "execution_count": null,
   "metadata": {
    "collapsed": true
   },
   "outputs": [],
   "source": [
    "db.close()"
   ]
  }
 ],
 "metadata": {
  "kernelspec": {
   "display_name": "Python 3",
   "language": "python",
   "name": "python3"
  },
  "language_info": {
   "codemirror_mode": {
    "name": "ipython",
    "version": 3
   },
   "file_extension": ".py",
   "mimetype": "text/x-python",
   "name": "python",
   "nbconvert_exporter": "python",
   "pygments_lexer": "ipython3",
   "version": "3.6.3"
  }
 },
 "nbformat": 4,
 "nbformat_minor": 2
}
