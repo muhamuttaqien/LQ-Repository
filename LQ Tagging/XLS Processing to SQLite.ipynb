{
 "cells": [
  {
   "cell_type": "markdown",
   "metadata": {},
   "source": [
    "Credit to:\n",
    "- https://docs.python.org/2/library/sqlite3.html\n",
    "- https://github.com/python-excel/xlrd\n",
    "- https://docs.google.com/spreadsheets/d/15dI7QChydxrwiOzxmaMKdTp0KJNwTsYzTdAFDucgJsk/edit#gid=558299255"
   ]
  },
  {
   "cell_type": "code",
   "execution_count": 1,
   "metadata": {
    "collapsed": true
   },
   "outputs": [],
   "source": [
    "import xlrd\n",
    "import sqlite3"
   ]
  },
  {
   "cell_type": "code",
   "execution_count": 2,
   "metadata": {
    "collapsed": true
   },
   "outputs": [],
   "source": [
    "# Open the workbook and define the worksheet\n",
    "\n",
    "book = xlrd.open_workbook(filename=\"IndeksQuranTercanggih.xlsx\")\n",
    "\n",
    "iman = book.sheet_by_name(\"IMAN\")"
   ]
  },
  {
   "cell_type": "code",
   "execution_count": 4,
   "metadata": {},
   "outputs": [],
   "source": [
    "conn = sqlite3.connect('/Users/muhamuttaqien/Documents/workspace/learn-quran-tafsir-git/lqtafsir-server/app/resource/IbnKathirTafsirs-formatted2.db3')"
   ]
  },
  {
   "cell_type": "code",
   "execution_count": 5,
   "metadata": {
    "collapsed": true
   },
   "outputs": [],
   "source": [
    "c = conn.cursor()"
   ]
  },
  {
   "cell_type": "code",
   "execution_count": 6,
   "metadata": {},
   "outputs": [
    {
     "name": "stdout",
     "output_type": "stream",
     "text": [
      "Orang mukmin selalu dalam lindungan Allah Ta'ala\n"
     ]
    }
   ],
   "source": [
    "# Display topic\n",
    "\n",
    "topic = iman.cell_value(rowx=4, colx=2)\n",
    "print(topic)"
   ]
  },
  {
   "cell_type": "code",
   "execution_count": 7,
   "metadata": {},
   "outputs": [
    {
     "ename": "OperationalError",
     "evalue": "near \"ala\": syntax error",
     "output_type": "error",
     "traceback": [
      "\u001b[0;31m---------------------------------------------------------------------------\u001b[0m",
      "\u001b[0;31mOperationalError\u001b[0m                          Traceback (most recent call last)",
      "\u001b[0;32m<ipython-input-7-c561d879ed4d>\u001b[0m in \u001b[0;36m<module>\u001b[0;34m()\u001b[0m\n\u001b[1;32m     10\u001b[0m         \u001b[0mayah\u001b[0m \u001b[0;34m=\u001b[0m \u001b[0msplitted_verse\u001b[0m\u001b[0;34m[\u001b[0m\u001b[0;36m1\u001b[0m\u001b[0;34m]\u001b[0m\u001b[0;34m\u001b[0m\u001b[0m\n\u001b[1;32m     11\u001b[0m \u001b[0;34m\u001b[0m\u001b[0m\n\u001b[0;32m---> 12\u001b[0;31m     \u001b[0mc\u001b[0m\u001b[0;34m.\u001b[0m\u001b[0mexecute\u001b[0m\u001b[0;34m(\u001b[0m\u001b[0;34m\"UPDATE tafsir_id_content SET keywords = '\"\u001b[0m\u001b[0;34m+\u001b[0m \u001b[0mtopic\u001b[0m \u001b[0;34m+\u001b[0m\u001b[0;34m\"' WHERE c0sura = \"\u001b[0m\u001b[0;34m+\u001b[0m \u001b[0msurah\u001b[0m \u001b[0;34m+\u001b[0m\u001b[0;34m\" AND c1aya = \"\u001b[0m \u001b[0;34m+\u001b[0m \u001b[0mayah\u001b[0m\u001b[0;34m)\u001b[0m\u001b[0;34m\u001b[0m\u001b[0m\n\u001b[0m",
      "\u001b[0;31mOperationalError\u001b[0m: near \"ala\": syntax error"
     ]
    }
   ],
   "source": [
    "# Insert tagging\n",
    "\n",
    "for col in range (7,1000):\n",
    "    if ((\"{0}\".format(iman.cell_value(rowx=4, colx=col)))== \"\"):\n",
    "        break\n",
    "    else:\n",
    "        verse = iman.cell_value(rowx=4, colx=col)\n",
    "        splitted_verse = verse[3:].split(\":\")\n",
    "        surah = splitted_verse[0]\n",
    "        ayah = splitted_verse[1]\n",
    "        \n",
    "    c.execute(\"UPDATE tafsir_id_content SET keywords = '\"+ topic +\"' WHERE c0sura = \"+ surah +\" AND c1aya = \" + ayah)"
   ]
  },
  {
   "cell_type": "code",
   "execution_count": null,
   "metadata": {
    "collapsed": true
   },
   "outputs": [],
   "source": [
    "conn.commit()"
   ]
  },
  {
   "cell_type": "code",
   "execution_count": null,
   "metadata": {
    "collapsed": true
   },
   "outputs": [],
   "source": [
    "conn.close()"
   ]
  }
 ],
 "metadata": {
  "kernelspec": {
   "display_name": "Python 3",
   "language": "python",
   "name": "python3"
  },
  "language_info": {
   "codemirror_mode": {
    "name": "ipython",
    "version": 3
   },
   "file_extension": ".py",
   "mimetype": "text/x-python",
   "name": "python",
   "nbconvert_exporter": "python",
   "pygments_lexer": "ipython3",
   "version": "3.6.3"
  }
 },
 "nbformat": 4,
 "nbformat_minor": 2
}
