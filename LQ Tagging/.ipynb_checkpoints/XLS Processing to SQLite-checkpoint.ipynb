{
 "cells": [
  {
   "cell_type": "markdown",
   "metadata": {},
   "source": [
    "Credit to:\n",
    "- https://docs.python.org/2/library/sqlite3.html\n",
    "- https://github.com/python-excel/xlrd\n",
    "- https://docs.google.com/spreadsheets/d/15dI7QChydxrwiOzxmaMKdTp0KJNwTsYzTdAFDucgJsk/edit#gid=558299255"
   ]
  },
  {
   "cell_type": "code",
   "execution_count": 1,
   "metadata": {
    "collapsed": true
   },
   "outputs": [],
   "source": [
    "import xlrd\n",
    "import sqlite3"
   ]
  },
  {
   "cell_type": "code",
   "execution_count": 2,
   "metadata": {
    "collapsed": true
   },
   "outputs": [],
   "source": [
    "# Open the workbook and define the worksheet\n",
    "\n",
    "book = xlrd.open_workbook(filename=\"IndeksQuranTercanggih.xlsx\")\n",
    "\n",
    "iman = book.sheet_by_name(\"IMAN\")"
   ]
  },
  {
   "cell_type": "code",
   "execution_count": 7,
   "metadata": {},
   "outputs": [
    {
     "name": "stdout",
     "output_type": "stream",
     "text": [
      "IMAN 475 253\n"
     ]
    }
   ],
   "source": [
    "# Counts data\n",
    "\n",
    "print(\"{0} {1} {2}\".format(iman.name, iman.nrows, iman.ncols))"
   ]
  },
  {
   "cell_type": "code",
   "execution_count": 18,
   "metadata": {},
   "outputs": [
    {
     "name": "stdout",
     "output_type": "stream",
     "text": [
      "Cell D4 is Keutamaan dan pahala iman\n"
     ]
    }
   ],
   "source": [
    "# Select specific data\n",
    "\n",
    "print(\"Cell D4 is {0}\".format(iman.cell_value(rowx=2, colx=1)))"
   ]
  },
  {
   "cell_type": "code",
   "execution_count": 34,
   "metadata": {},
   "outputs": [
    {
     "name": "stdout",
     "output_type": "stream",
     "text": [
      "Kesentosaan orang mukmin di dunia dan di akhirat refers to: \n"
     ]
    }
   ],
   "source": [
    "# Select specific data\n",
    "\n",
    "print(\"{0} refers to: \".format(iman.cell_value(rowx=3, colx=2)))\n",
    "for i in range (7,0):\n",
    "    print(\"{0}\".format(iman.cell_value(rowx=3, colx=i)))"
   ]
  },
  {
   "cell_type": "code",
   "execution_count": 36,
   "metadata": {
    "collapsed": true
   },
   "outputs": [],
   "source": [
    "conn = sqlite3.connect('IbnKathirTafsirs-formatted2.db3')"
   ]
  },
  {
   "cell_type": "code",
   "execution_count": 37,
   "metadata": {
    "collapsed": true
   },
   "outputs": [],
   "source": [
    "c = conn.cursor()"
   ]
  },
  {
   "cell_type": "code",
   "execution_count": 41,
   "metadata": {},
   "outputs": [
    {
     "data": {
      "text/plain": [
       "<sqlite3.Cursor at 0x11244eea0>"
      ]
     },
     "execution_count": 41,
     "metadata": {},
     "output_type": "execute_result"
    }
   ],
   "source": [
    "c.execute(\"SELECT * FROM tafsir_id_content WHERE c0sura = 1 AND c1aya = 1\")"
   ]
  },
  {
   "cell_type": "code",
   "execution_count": 38,
   "metadata": {},
   "outputs": [
    {
     "data": {
      "text/plain": [
       "<sqlite3.Cursor at 0x11244eea0>"
      ]
     },
     "execution_count": 38,
     "metadata": {},
     "output_type": "execute_result"
    }
   ],
   "source": [
    "c.execute(\"UPDATE tafsir_id_content SET keywords = 'keywords' WHERE c0sura = 1 AND c1aya = 1\")"
   ]
  },
  {
   "cell_type": "code",
   "execution_count": 6,
   "metadata": {
    "collapsed": true
   },
   "outputs": [],
   "source": [
    "conn.commit()\n",
    "conn.close()"
   ]
  }
 ],
 "metadata": {
  "kernelspec": {
   "display_name": "Python 3",
   "language": "python",
   "name": "python3"
  },
  "language_info": {
   "codemirror_mode": {
    "name": "ipython",
    "version": 3
   },
   "file_extension": ".py",
   "mimetype": "text/x-python",
   "name": "python",
   "nbconvert_exporter": "python",
   "pygments_lexer": "ipython3",
   "version": "3.6.3"
  }
 },
 "nbformat": 4,
 "nbformat_minor": 2
}
