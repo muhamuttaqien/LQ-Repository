{
 "cells": [
  {
   "cell_type": "code",
   "execution_count": 1,
   "metadata": {
    "collapsed": true
   },
   "outputs": [],
   "source": [
    "import pymysql\n",
    "import re"
   ]
  },
  {
   "cell_type": "code",
   "execution_count": 2,
   "metadata": {
    "collapsed": true
   },
   "outputs": [],
   "source": [
    "db = pymysql.connect(\"127.0.0.1\", \"root\", \"\", \"learnqur_lqtafsir\", charset=\"utf8\", init_command='SET NAMES UTF8') # localhost learnqur_lqtafsir\n",
    "# db = pymysql.connect(\"45.114.117.33\", \"learnqur\", \"N!@t1khl45\", \"learnqur_lqtafsir\", charset=\"utf8\", init_command='SET NAMES UTF8') # dev cpanel"
   ]
  },
  {
   "cell_type": "code",
   "execution_count": 3,
   "metadata": {
    "collapsed": true
   },
   "outputs": [],
   "source": [
    "c = db.cursor()"
   ]
  },
  {
   "cell_type": "code",
   "execution_count": 31,
   "metadata": {
    "collapsed": true
   },
   "outputs": [],
   "source": [
    "with db.cursor() as c:\n",
    "    # Read a single record\n",
    "    # sql = \"SELECT `chapter`, `verse`, `tafsir_ibnu_katsir`, `tafsir_ringkas` FROM `quran_id_complete`\" # tafsir id\n",
    "    sql = \"SELECT `chapter`, `verse`, `tafsir` FROM `quran_en_complete`\" # tafsir en\n",
    "    # sql = \"SELECT `chapter`, `verse`, `translation` FROM `quran_id_complete`\" # translation id\n",
    "    # sql = \"SELECT `chapter`, `verse`, `translation` FROM `quran_en_complete`\" # translation en\n",
    "    # sql = \"SELECT `chapter`, `verse`, `arabic` FROM `quran_en_complete`\" # ayat\n",
    "    # sql = \"SELECT `chapter`, `verse`, `keywords` FROM `quran_id_complete`\" # keyword id\n",
    "    c.execute(sql)\n",
    "    result = c.fetchall()"
   ]
  },
  {
   "cell_type": "markdown",
   "metadata": {},
   "source": [
    "### Set to local or develop"
   ]
  },
  {
   "cell_type": "code",
   "execution_count": 32,
   "metadata": {
    "collapsed": true
   },
   "outputs": [],
   "source": [
    "db = pymysql.connect(\"127.0.0.1\", \"root\", \"\", \"learnqur_lqtafsir\", charset=\"utf8\", init_command='SET NAMES UTF8') # localhost learnqur_lqtafsir#\n",
    "# db = pymysql.connect(\"45.114.117.33\", \"learnqur\", \"N!@t1khl45\", \"learnqur_lqtafsir\", charset=\"utf8\", init_command='SET NAMES UTF8') # dev cpanel"
   ]
  },
  {
   "cell_type": "code",
   "execution_count": 33,
   "metadata": {
    "collapsed": true
   },
   "outputs": [],
   "source": [
    "c = db.cursor()"
   ]
  },
  {
   "cell_type": "code",
   "execution_count": 34,
   "metadata": {
    "scrolled": true
   },
   "outputs": [
    {
     "ename": "IndexError",
     "evalue": "tuple index out of range",
     "output_type": "error",
     "traceback": [
      "\u001b[0;31m---------------------------------------------------------------------------\u001b[0m",
      "\u001b[0;31mIndexError\u001b[0m                                Traceback (most recent call last)",
      "\u001b[0;32m<ipython-input-34-bc094d8a0730>\u001b[0m in \u001b[0;36m<module>\u001b[0;34m()\u001b[0m\n\u001b[0;32m----> 1\u001b[0;31m \u001b[0mresult\u001b[0m\u001b[0;34m[\u001b[0m\u001b[0;36m6235\u001b[0m\u001b[0;34m]\u001b[0m\u001b[0;34m[\u001b[0m\u001b[0;36m3\u001b[0m\u001b[0;34m]\u001b[0m \u001b[0;31m# content\u001b[0m\u001b[0;34m\u001b[0m\u001b[0m\n\u001b[0m",
      "\u001b[0;31mIndexError\u001b[0m: tuple index out of range"
     ]
    }
   ],
   "source": [
    "result[6235][3] # content"
   ]
  },
  {
   "cell_type": "markdown",
   "metadata": {},
   "source": [
    "### tafsir_id"
   ]
  },
  {
   "cell_type": "code",
   "execution_count": 35,
   "metadata": {},
   "outputs": [
    {
     "name": "stderr",
     "output_type": "stream",
     "text": [
      "/anaconda3/lib/python3.6/site-packages/pymysql/cursors.py:165: Warning: (1364, \"Field 'ringkas_kemenag' doesn't have a default value\")\n",
      "  result = self._query(query)\n",
      "/anaconda3/lib/python3.6/site-packages/pymysql/cursors.py:165: Warning: (1364, \"Field 'jalalayn' doesn't have a default value\")\n",
      "  result = self._query(query)\n"
     ]
    }
   ],
   "source": [
    "for idx, row in enumerate(result):\n",
    "    # print(row[0])\n",
    "    \n",
    "    row_0 = str(row[0]) # chapter\n",
    "    row_1 = str(row[1]) # verse\n",
    "    row_2 = row[2].replace(\"'\", \"\\\\'\")\n",
    "    # row_3 = row[3].replace(\"'\", \"\\\\'\")\n",
    "    query = \"INSERT INTO tafsir_id (chapter_id, verse_id, ibnu_katsir) VALUES ('\" + row_0 + \"', '\" + row_1 + \"', '\" + row_2 + \"')\"\n",
    "     \n",
    "    c.execute(query)"
   ]
  },
  {
   "cell_type": "markdown",
   "metadata": {},
   "source": [
    "### tafsir_en"
   ]
  },
  {
   "cell_type": "code",
   "execution_count": null,
   "metadata": {
    "collapsed": true
   },
   "outputs": [],
   "source": [
    "for idx, row in enumerate(result):\n",
    "    # print(row[0])\n",
    "    \n",
    "    row_0 = str(row[0]) # chapter\n",
    "    row_1 = str(row[1]) # verse\n",
    "    row_2 = row[2].replace(\"'\", \"\\\\'\")\n",
    "    query = \"INSERT INTO tafsir_en (chapter_id, verse_id, ibn_kathir) VALUES ('\" + row_0 + \"', '\" + row_1 + \"', '\" + row_2 + \"')\"\n",
    "      \n",
    "    c.execute(query)"
   ]
  },
  {
   "cell_type": "markdown",
   "metadata": {},
   "source": [
    "### translation_id"
   ]
  },
  {
   "cell_type": "code",
   "execution_count": null,
   "metadata": {
    "collapsed": true
   },
   "outputs": [],
   "source": [
    "for idx, row in enumerate(result):\n",
    "    # print(row[0])\n",
    "    \n",
    "    row_0 = str(row[0]) # chapter\n",
    "    row_1 = str(row[1]) # verse\n",
    "    row_2 = row[2].replace(\"'\", \"\\\\'\")\n",
    "    \n",
    "    query = \"INSERT INTO translation_id (chapter_id, verse_id, kemenag) VALUES ('\" + row_0 + \"', '\" + row_1 + \"', '\" + row_2 + \"')\"\n",
    "      \n",
    "    c.execute(query)"
   ]
  },
  {
   "cell_type": "markdown",
   "metadata": {},
   "source": [
    "### translation_en"
   ]
  },
  {
   "cell_type": "code",
   "execution_count": null,
   "metadata": {
    "collapsed": true
   },
   "outputs": [],
   "source": [
    "for idx, row in enumerate(result):\n",
    "    # print(row[0])\n",
    "    \n",
    "    row_0 = str(row[0]) # chapter\n",
    "    row_1 = str(row[1]) # verse\n",
    "    row_2 = row[2].replace(\"'\", \"\\\\'\")\n",
    "    \n",
    "    query = \"INSERT INTO translation_en (chapter_id, verse_id, saheeh_international) VALUES ('\" + row_0 + \"', '\" + row_1 + \"', '\" + row_2 + \"')\"\n",
    "      \n",
    "    c.execute(query)"
   ]
  },
  {
   "cell_type": "markdown",
   "metadata": {},
   "source": [
    "### ayat"
   ]
  },
  {
   "cell_type": "code",
   "execution_count": null,
   "metadata": {
    "collapsed": true,
    "scrolled": true
   },
   "outputs": [],
   "source": [
    "for idx, row in enumerate(result):\n",
    "    # print(row[0])\n",
    "    \n",
    "    row_0 = str(row[0]) # chapter\n",
    "    row_1 = str(row[1]) # verse\n",
    "    row_2 = row[2].replace(\"'\", \"\\\\'\")\n",
    "    \n",
    "    query = \"INSERT INTO ayat (chapter_id, verse_id, quran_simple_clean) VALUES ('\" + row_0 + \"', '\" + row_1 + \"', '\" + row_2 + \"')\"\n",
    "      \n",
    "    c.execute(query)"
   ]
  },
  {
   "cell_type": "markdown",
   "metadata": {},
   "source": [
    "### keyword"
   ]
  },
  {
   "cell_type": "code",
   "execution_count": null,
   "metadata": {
    "collapsed": true
   },
   "outputs": [],
   "source": [
    "for idx, row in enumerate(result):\n",
    "    # print(row[0])\n",
    "    \n",
    "    row_0 = str(row[0]) # chapter\n",
    "    row_1 = str(row[1]) # verse\n",
    "    row_2 = row[2].replace(\"'\", \"\\\\'\")\n",
    "    \n",
    "    query = \"INSERT INTO keyword_id (chapter_id, verse_id, keyword) VALUES ('\" + row_0 + \"', '\" + row_1 + \"', '\" + row_2 + \"')\"\n",
    "      \n",
    "    c.execute(query)"
   ]
  },
  {
   "cell_type": "code",
   "execution_count": 23,
   "metadata": {
    "collapsed": true
   },
   "outputs": [],
   "source": [
    "db.commit()"
   ]
  },
  {
   "cell_type": "code",
   "execution_count": null,
   "metadata": {
    "collapsed": true
   },
   "outputs": [],
   "source": [
    "db.close()"
   ]
  },
  {
   "cell_type": "markdown",
   "metadata": {},
   "source": [
    "### Delete rows"
   ]
  },
  {
   "cell_type": "code",
   "execution_count": 7,
   "metadata": {},
   "outputs": [
    {
     "data": {
      "text/plain": [
       "6236"
      ]
     },
     "execution_count": 7,
     "metadata": {},
     "output_type": "execute_result"
    }
   ],
   "source": [
    "query = \"DELETE FROM tafsir_en WHERE id > 0\"    \n",
    "c.execute(query)"
   ]
  },
  {
   "cell_type": "code",
   "execution_count": 36,
   "metadata": {
    "collapsed": true
   },
   "outputs": [],
   "source": [
    "db.commit()"
   ]
  },
  {
   "cell_type": "code",
   "execution_count": null,
   "metadata": {
    "collapsed": true
   },
   "outputs": [],
   "source": [
    "db.close()"
   ]
  },
  {
   "cell_type": "markdown",
   "metadata": {},
   "source": [
    "<hr/>"
   ]
  }
 ],
 "metadata": {
  "kernelspec": {
   "display_name": "Python 3",
   "language": "python",
   "name": "python3"
  },
  "language_info": {
   "codemirror_mode": {
    "name": "ipython",
    "version": 3
   },
   "file_extension": ".py",
   "mimetype": "text/x-python",
   "name": "python",
   "nbconvert_exporter": "python",
   "pygments_lexer": "ipython3",
   "version": "3.6.3"
  }
 },
 "nbformat": 4,
 "nbformat_minor": 2
}
