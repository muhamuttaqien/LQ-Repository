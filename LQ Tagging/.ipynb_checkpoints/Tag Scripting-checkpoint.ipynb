{
 "cells": [
  {
   "cell_type": "markdown",
   "metadata": {},
   "source": [
    "References:\n",
    "\n",
    "- https://docs.python.org/2/library/sqlite3.html\n",
    "- https://docs.python.org/3/library/sqlite3.html\n",
    "- https://www.pythoncentral.io/introduction-to-sqlite-in-python/\n",
    "- http://sebastianraschka.com/Articles/2014_sqlite_in_python_tutorial.html\n",
    "- https://www.tutorialspoint.com/sqlite/sqlite_python.htm"
   ]
  },
  {
   "cell_type": "markdown",
   "metadata": {},
   "source": [
    "SCRIPTING INDEX TERPOPULAR\n",
    "\n",
    "1. Detect parent => Keutamaan dan pahala iman, Cabang-cabang iman, \n",
    "2. Detect child & if there is child or not or empty space (x)\n",
    "3. Detect ayah & if empty or not\n",
    "4. Detect ayah & if hitting the end or not\n",
    "5. Detect child & if below empty or not (child + 1)\n",
    "\n",
    "max-depth: 5 layers\n",
    "\n",
    "Outliers: Bangsa-bangsa terdahulu, Hukum privat"
   ]
  },
  {
   "cell_type": "code",
   "execution_count": null,
   "metadata": {
    "collapsed": true
   },
   "outputs": [],
   "source": [
    "import xlrd\n",
    "import sqlite3"
   ]
  },
  {
   "cell_type": "code",
   "execution_count": null,
   "metadata": {
    "collapsed": true
   },
   "outputs": [],
   "source": [
    "# Open the workbook and define the worksheet\n",
    "\n",
    "book = xlrd.open_workbook(filename=\"/Users/muhamuttaqien/Downloads/IndeksQuranTercanggih.xlsx\")\n",
    "\n",
    "grtopic = book.sheet_by_name(\"ILMU\")"
   ]
  },
  {
   "cell_type": "code",
   "execution_count": null,
   "metadata": {
    "collapsed": true
   },
   "outputs": [],
   "source": [
    "conn = sqlite3.connect('/Users/muhamuttaqien/Downloads/IbnKathirTafsirs-formatted2 (1).db3')\n",
    "c = conn.cursor()"
   ]
  },
  {
   "cell_type": "markdown",
   "metadata": {},
   "source": [
    "### Count rows and columns"
   ]
  },
  {
   "cell_type": "code",
   "execution_count": null,
   "metadata": {},
   "outputs": [],
   "source": [
    "table = \"tafsir_id_content\"\n",
    "rowsQuery = \"SELECT Count() FROM %s\" % table\n",
    "c.execute(rowsQuery)\n",
    "numberOfRows = c.fetchone()[0]\n",
    "numberOfRows"
   ]
  },
  {
   "cell_type": "code",
   "execution_count": null,
   "metadata": {},
   "outputs": [],
   "source": [
    "columnsQuery = \"PRAGMA table_info(%s)\" % table\n",
    "c.execute(columnsQuery)\n",
    "numberOfColumns = len(c.fetchall())\n",
    "numberOfColumns"
   ]
  },
  {
   "cell_type": "code",
   "execution_count": null,
   "metadata": {},
   "outputs": [],
   "source": [
    "nrows = grtopic.nrows\n",
    "nrows"
   ]
  },
  {
   "cell_type": "code",
   "execution_count": null,
   "metadata": {},
   "outputs": [],
   "source": [
    "ncols = grtopic.ncols\n",
    "ncols"
   ]
  },
  {
   "cell_type": "markdown",
   "metadata": {},
   "source": [
    "### 1. Detect parent and child topics"
   ]
  },
  {
   "cell_type": "code",
   "execution_count": null,
   "metadata": {},
   "outputs": [],
   "source": [
    "topic = grtopic.cell_value(rowx=2, colx=1)\n",
    "topic"
   ]
  },
  {
   "cell_type": "code",
   "execution_count": null,
   "metadata": {},
   "outputs": [],
   "source": [
    "verse = grtopic.cell_value(rowx=8, colx=7)\n",
    "verse"
   ]
  },
  {
   "cell_type": "code",
   "execution_count": null,
   "metadata": {},
   "outputs": [],
   "source": [
    "grtopic.cell_value(rowx=20, colx=2).strip()"
   ]
  },
  {
   "cell_type": "code",
   "execution_count": null,
   "metadata": {
    "scrolled": true
   },
   "outputs": [],
   "source": [
    "for prow in range(nrows):\n",
    "    pcol = 1 # index where parent topics positioned\n",
    "    topic = grtopic.cell_value(rowx=prow, colx=pcol)\n",
    "    if(topic):\n",
    "        print(topic.strip())\n",
    "        srow = prow+1\n",
    "        subtopic = grtopic.cell_value(rowx=prow+1, colx=(pcol+1))\n",
    "        while (subtopic != ''):\n",
    "            # print(srow)\n",
    "            print(\"#1 \" + subtopic.strip())     \n",
    "            srow+=1\n",
    "            subtopic = grtopic.cell_value(rowx=srow, colx=(pcol+1))"
   ]
  },
  {
   "cell_type": "markdown",
   "metadata": {},
   "source": [
    "### 2. Detect subtopics"
   ]
  },
  {
   "cell_type": "markdown",
   "metadata": {},
   "source": [
    "### Commit tagging"
   ]
  },
  {
   "cell_type": "code",
   "execution_count": null,
   "metadata": {
    "collapsed": true
   },
   "outputs": [],
   "source": [
    "# Insert tagging\n",
    "\n",
    "for col in range (7,1000):\n",
    "    if ((\"{0}\".format(iman.cell_value(rowx=8, colx=col)))== \"\"):\n",
    "        break\n",
    "    else:\n",
    "        verse = iman.cell_value(rowx=8, colx=col)\n",
    "        splitted_verse = verse[3:].split(\":\")\n",
    "        surah = splitted_verse[0]\n",
    "        ayah = splitted_verse[1]\n",
    "        \n",
    "        c.execute('UPDATE tafsir_id_content SET keywords = \"'+ topic +'\" WHERE c0sura = '+ surah +' AND c1aya = ' + ayah)        "
   ]
  },
  {
   "cell_type": "code",
   "execution_count": null,
   "metadata": {
    "collapsed": true
   },
   "outputs": [],
   "source": [
    "conn.commit()"
   ]
  }
 ],
 "metadata": {
  "kernelspec": {
   "display_name": "Python 3",
   "language": "python",
   "name": "python3"
  },
  "language_info": {
   "codemirror_mode": {
    "name": "ipython",
    "version": 3
   },
   "file_extension": ".py",
   "mimetype": "text/x-python",
   "name": "python",
   "nbconvert_exporter": "python",
   "pygments_lexer": "ipython3",
   "version": "3.6.3"
  }
 },
 "nbformat": 4,
 "nbformat_minor": 2
}
