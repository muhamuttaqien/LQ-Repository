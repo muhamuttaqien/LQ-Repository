{
 "cells": [
  {
   "cell_type": "code",
   "execution_count": 2,
   "metadata": {
    "collapsed": true
   },
   "outputs": [],
   "source": [
    "import pymysql\n",
    "import sqlite3"
   ]
  },
  {
   "cell_type": "code",
   "execution_count": 3,
   "metadata": {
    "collapsed": true
   },
   "outputs": [],
   "source": [
    "conn = sqlite3.connect(\"/Users/muhamuttaqien/Documents/workspace/learnquran-tafsir-web/lqtafsir-server/app/resource/IbnKathirTafsirs-tagged-parented.db3\")\n",
    "c = conn.cursor()"
   ]
  },
  {
   "cell_type": "markdown",
   "metadata": {},
   "source": [
    "### Count rows and columns"
   ]
  },
  {
   "cell_type": "code",
   "execution_count": 4,
   "metadata": {},
   "outputs": [
    {
     "data": {
      "text/plain": [
       "6236"
      ]
     },
     "execution_count": 4,
     "metadata": {},
     "output_type": "execute_result"
    }
   ],
   "source": [
    "table = \"tafsir_id_content\"\n",
    "rowsQuery = \"SELECT Count() FROM %s\" % table\n",
    "c.execute(rowsQuery)\n",
    "numberOfRows = c.fetchone()[0]\n",
    "numberOfRows"
   ]
  },
  {
   "cell_type": "code",
   "execution_count": 4,
   "metadata": {},
   "outputs": [
    {
     "data": {
      "text/plain": [
       "5"
      ]
     },
     "execution_count": 4,
     "metadata": {},
     "output_type": "execute_result"
    }
   ],
   "source": [
    "columnsQuery = \"PRAGMA table_info(%s)\" % table\n",
    "c.execute(columnsQuery)\n",
    "numberOfColumns = len(c.fetchall())\n",
    "numberOfColumns"
   ]
  },
  {
   "cell_type": "markdown",
   "metadata": {},
   "source": [
    "### Set keywords into DB"
   ]
  },
  {
   "cell_type": "code",
   "execution_count": 5,
   "metadata": {
    "collapsed": true
   },
   "outputs": [],
   "source": [
    "row = \"pasar\"\n",
    "idx = 1"
   ]
  },
  {
   "cell_type": "code",
   "execution_count": 6,
   "metadata": {
    "collapsed": true
   },
   "outputs": [],
   "source": [
    "text = \"Saya pergi ke\" + row + \"jam \" + str(idx)"
   ]
  },
  {
   "cell_type": "code",
   "execution_count": 7,
   "metadata": {},
   "outputs": [
    {
     "data": {
      "text/plain": [
       "'Saya pergi kepasarjam 1'"
      ]
     },
     "execution_count": 7,
     "metadata": {},
     "output_type": "execute_result"
    }
   ],
   "source": [
    "text"
   ]
  },
  {
   "cell_type": "code",
   "execution_count": 23,
   "metadata": {},
   "outputs": [],
   "source": [
    "# db = pymysql.connect(\"127.0.0.1\", \"root\", \"\", \"learnqur_lqtafsir\") # localhost\n",
    "db = pymysql.connect(\"45.114.117.33\", \"learnqur\", \"N!@t1khl45\", \"learnqur_lqtafsir\") # dev cpanel"
   ]
  },
  {
   "cell_type": "code",
   "execution_count": 24,
   "metadata": {
    "collapsed": true
   },
   "outputs": [],
   "source": [
    "cursor = db.cursor()"
   ]
  },
  {
   "cell_type": "code",
   "execution_count": 25,
   "metadata": {},
   "outputs": [
    {
     "data": {
      "text/plain": [
       "1"
      ]
     },
     "execution_count": 25,
     "metadata": {},
     "output_type": "execute_result"
    }
   ],
   "source": [
    "row_no_apostrophe = \"Kasih sayang Allah yang luas 5, Zat dan sifat Allah 4, Beriman pada Allah Ta\\\\'ala 3, Akidah 2, Cabang-cabang iman 1, Al Rahman (Maha Pengasih) 6, Nama-nama Allah (Asma\\\\'ul Husna) 5, Tentang nama-nama Allah 4, Beriman pada Allah Ta\\\\'ala 3, Akidah 2, Cabang-cabang iman 1, Al Rahim (Maha Penyayang) 6, Nama-nama Allah (Asma\\\\'ul Husna) 5, Tentang nama-nama Allah 4, Beriman pada Allah Ta\\\\'ala 3, Akidah 2, Cabang-cabang iman 1\"\n",
    "query = \"UPDATE quran_id_complete SET keywords ='\" + row_no_apostrophe + \"' WHERE id = 1\"\n",
    "cursor.execute(query)"
   ]
  },
  {
   "cell_type": "code",
   "execution_count": 26,
   "metadata": {
    "collapsed": true
   },
   "outputs": [],
   "source": [
    "for idx, row in enumerate(c.execute('SELECT keywords FROM tafsir_id_content')):\n",
    "    row_no_apostrophe = row[0].replace(\"'\", \"\\\\'\")\n",
    "\n",
    "    query = \"UPDATE quran_id_complete SET keywords ='\" + row_no_apostrophe + \"' WHERE id = \" + str(idx+1)\n",
    "    cursor.execute(query)"
   ]
  },
  {
   "cell_type": "code",
   "execution_count": 27,
   "metadata": {
    "collapsed": true
   },
   "outputs": [],
   "source": [
    "db.commit()"
   ]
  },
  {
   "cell_type": "code",
   "execution_count": 92,
   "metadata": {
    "collapsed": true
   },
   "outputs": [],
   "source": [
    "db.close()"
   ]
  }
 ],
 "metadata": {
  "kernelspec": {
   "display_name": "Python 3",
   "language": "python",
   "name": "python3"
  },
  "language_info": {
   "codemirror_mode": {
    "name": "ipython",
    "version": 3
   },
   "file_extension": ".py",
   "mimetype": "text/x-python",
   "name": "python",
   "nbconvert_exporter": "python",
   "pygments_lexer": "ipython3",
   "version": "3.6.3"
  }
 },
 "nbformat": 4,
 "nbformat_minor": 2
}
