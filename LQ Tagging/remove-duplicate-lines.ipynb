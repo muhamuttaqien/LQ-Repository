{
 "cells": [
  {
   "cell_type": "code",
   "execution_count": 26,
   "metadata": {},
   "outputs": [],
   "source": [
    "lines_seen = set() # holds lines already seen\n",
    "outfile = open(\"reading-writing-test.txt\", \"w\")\n",
    "\n",
    "outfile.write(\"\"\"\n",
    "            Hello\n",
    "            \n",
    "            \n",
    "            My name is angga!\n",
    "            \n",
    "            Who is your name.\"\"\") \n",
    "\n",
    "outfile.close()"
   ]
  },
  {
   "cell_type": "markdown",
   "metadata": {},
   "source": [
    "## approach 1 (failed)"
   ]
  },
  {
   "cell_type": "code",
   "execution_count": 25,
   "metadata": {},
   "outputs": [
    {
     "name": "stdout",
     "output_type": "stream",
     "text": [
      "Hello\n",
      "My\n",
      "name\n",
      "is\n",
      "angga!\n",
      "Who\n",
      "is\n",
      "your\n",
      "name.\n",
      "['Hello', 'My', 'name', 'is', 'angga!', 'Who', 'is', 'your', 'name.']\n"
     ]
    }
   ],
   "source": [
    "lines_cleaned = []\n",
    "\n",
    "for lines in open(\"reading-writing-test.txt\", \"r\"):\n",
    "    # print(lines)\n",
    "    lines_splitted = lines.split()\n",
    "    for line in lines_splitted:\n",
    "        if line is not '':\n",
    "            print(line)\n",
    "            lines_cleaned.append(line)\n",
    "            \n",
    "print(lines_cleaned)"
   ]
  },
  {
   "cell_type": "code",
   "execution_count": 13,
   "metadata": {},
   "outputs": [],
   "source": [
    "outfile.close()"
   ]
  },
  {
   "cell_type": "markdown",
   "metadata": {},
   "source": [
    "## approach 2 (succeeded)"
   ]
  },
  {
   "cell_type": "code",
   "execution_count": 30,
   "metadata": {
    "scrolled": true
   },
   "outputs": [
    {
     "name": "stdout",
     "output_type": "stream",
     "text": [
      "            Hello\r\n",
      "\r\n",
      "            My name is angga!\r\n",
      "\r\n",
      "            Who is your name.\r\n",
      "\r\n",
      "            Before I'm studying I tried it.\r\n",
      "\r\n",
      "            Yes. I am scholar right now.\n"
     ]
    }
   ],
   "source": [
    "text = \"\"\"\n",
    "            Hello\n",
    "            \n",
    "            \n",
    "            My name is angga!\n",
    "            \n",
    "            Who is your name.\n",
    "            \n",
    "            \n",
    "            Before I'm studying I tried it.\n",
    "            Yes. I am scholar right now.\"\"\"\n",
    "\n",
    "print('\\r\\n\\r\\n'.join([x for x in text.splitlines() if x.strip()]))"
   ]
  },
  {
   "cell_type": "markdown",
   "metadata": {},
   "source": [
    "<hr/>"
   ]
  }
 ],
 "metadata": {
  "kernelspec": {
   "display_name": "Python 3",
   "language": "python",
   "name": "python3"
  },
  "language_info": {
   "codemirror_mode": {
    "name": "ipython",
    "version": 3
   },
   "file_extension": ".py",
   "mimetype": "text/x-python",
   "name": "python",
   "nbconvert_exporter": "python",
   "pygments_lexer": "ipython3",
   "version": "3.6.3"
  }
 },
 "nbformat": 4,
 "nbformat_minor": 2
}
