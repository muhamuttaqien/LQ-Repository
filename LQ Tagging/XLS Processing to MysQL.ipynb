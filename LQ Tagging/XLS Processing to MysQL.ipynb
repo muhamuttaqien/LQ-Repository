{
 "cells": [
  {
   "cell_type": "markdown",
   "metadata": {},
   "source": [
    "Credit to: \n",
    "- https://www.youtube.com/watch?v=YLXFEQLCogM\n",
    "- https://dev.mysql.com/doc/mysql-getting-started/en/\n",
    "- https://github.com/PyMySQL/PyMySQL\n",
    "- https://github.com/python-excel/xlrd\n",
    "- https://docs.google.com/spreadsheets/d/15dI7QChydxrwiOzxmaMKdTp0KJNwTsYzTdAFDucgJsk/edit#gid=558299255"
   ]
  },
  {
   "cell_type": "code",
   "execution_count": null,
   "metadata": {
    "collapsed": true
   },
   "outputs": [],
   "source": [
    "import xlrd\n",
    "import pymysql"
   ]
  },
  {
   "cell_type": "code",
   "execution_count": null,
   "metadata": {
    "collapsed": true
   },
   "outputs": [],
   "source": [
    "# Open the workbook and define the worksheet\n",
    "\n",
    "book = xlrd.open_workbook(filename=\"IndeksQuranTercanggih.xlsx\")\n",
    "\n",
    "indeks = book.sheet_by_name(\"INDEKS\")\n",
    "alquran = book.sheet_by_name(\"AL QUR'AN\")\n",
    "iman = book.sheet_by_name(\"IMAN\")"
   ]
  },
  {
   "cell_type": "code",
   "execution_count": null,
   "metadata": {
    "scrolled": true
   },
   "outputs": [],
   "source": [
    "# Counts data\n",
    "\n",
    "print(\"{0} {1} {2}\".format(indeks.name, indeks.nrows, indeks.ncols))"
   ]
  },
  {
   "cell_type": "code",
   "execution_count": null,
   "metadata": {
    "scrolled": true
   },
   "outputs": [],
   "source": [
    "# Select specific data\n",
    "\n",
    "print(\"Cell D4 is {0}\".format(indeks.cell_value(rowx=3, colx=3)))"
   ]
  },
  {
   "cell_type": "code",
   "execution_count": null,
   "metadata": {
    "collapsed": true
   },
   "outputs": [],
   "source": [
    "# Establish a MySQL connection\n",
    "db = pymysql.connect(\"localhost\",\"root\",\"\",\"lqtagging\")\n",
    "cursor = db.cursor()"
   ]
  },
  {
   "cell_type": "code",
   "execution_count": null,
   "metadata": {},
   "outputs": [],
   "source": [
    "# Create a for loop to retrieve all data\n",
    "\n",
    "for r in range(3, 32): # indeks.nrows\n",
    "    for c in range(0, indeks.ncols):\n",
    "        if indeks.cell(r,c).value and (r is not 0 and c is not 0):\n",
    "            # print(\"{}\".format(indeks.cell(r,c).value))\n",
    "            cell_value = indeks.cell(r,c).value\n",
    "            cell_value_split = cell_value.split('. ')\n",
    "            chapter_id = cell_value_split[0]\n",
    "            chapter_name = cell_value_split[1]\n",
    "            print(chapter_name)\n",
    "        else:\n",
    "            continue\n",
    "            \n",
    "        # Assign values from each rows\n",
    "        values = (chapter_id, chapter_name)\n",
    "        \n",
    "        # Create the INSERT INTO sql query\n",
    "        query = \"\"\"\n",
    "        INSERT INTO quran_chapter_names(chapter_id, chapter_name)\n",
    "        VALUES (%s, %s)\n",
    "        \"\"\"\n",
    "        \n",
    "        # Execute sql query\n",
    "        cursor.execute(query, values)"
   ]
  },
  {
   "cell_type": "code",
   "execution_count": null,
   "metadata": {},
   "outputs": [],
   "source": [
    "db.commit()\n",
    "db.close()"
   ]
  }
 ],
 "metadata": {
  "kernelspec": {
   "display_name": "Python 3",
   "language": "python",
   "name": "python3"
  },
  "language_info": {
   "codemirror_mode": {
    "name": "ipython",
    "version": 3
   },
   "file_extension": ".py",
   "mimetype": "text/x-python",
   "name": "python",
   "nbconvert_exporter": "python",
   "pygments_lexer": "ipython3",
   "version": "3.6.3"
  }
 },
 "nbformat": 4,
 "nbformat_minor": 2
}
