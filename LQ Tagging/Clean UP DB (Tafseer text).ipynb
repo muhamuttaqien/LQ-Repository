{
 "cells": [
  {
   "cell_type": "code",
   "execution_count": 1,
   "metadata": {
    "collapsed": true
   },
   "outputs": [],
   "source": [
    "import pymysql\n",
    "import re"
   ]
  },
  {
   "cell_type": "code",
   "execution_count": 39,
   "metadata": {
    "collapsed": true
   },
   "outputs": [],
   "source": [
    "# db = pymysql.connect(\"127.0.0.1\", \"root\", \"\", \"learnqur_lqtafsir\") # localhost learnqur_lqtafsir\n",
    "db = pymysql.connect(\"94.237.67.148\", \"learnqur\", \"N!@t1khl455555\", \"learnqur_lqtafsir\") # dev cpanel"
   ]
  },
  {
   "cell_type": "code",
   "execution_count": 40,
   "metadata": {
    "collapsed": true
   },
   "outputs": [],
   "source": [
    "c = db.cursor()"
   ]
  },
  {
   "cell_type": "code",
   "execution_count": 41,
   "metadata": {
    "collapsed": true
   },
   "outputs": [],
   "source": [
    "tafsir_name = \"jalalayn\" # ibnu_katsir, ringkas_kemenag, jalalayn"
   ]
  },
  {
   "cell_type": "code",
   "execution_count": 42,
   "metadata": {},
   "outputs": [
    {
     "data": {
      "text/plain": [
       "6236"
      ]
     },
     "execution_count": 42,
     "metadata": {},
     "output_type": "execute_result"
    }
   ],
   "source": [
    "c.execute('SELECT {} FROM tafsir_id'.format(tafsir_name)) "
   ]
  },
  {
   "cell_type": "code",
   "execution_count": 43,
   "metadata": {
    "collapsed": true
   },
   "outputs": [],
   "source": [
    "with db.cursor() as c:\n",
    "    # Read a single record\n",
    "    sql = \"SELECT `{}` FROM `tafsir_id`\".format(tafsir_name)\n",
    "    c.execute(sql)\n",
    "    result = c.fetchall()"
   ]
  },
  {
   "cell_type": "code",
   "execution_count": 44,
   "metadata": {
    "scrolled": true
   },
   "outputs": [
    {
     "data": {
      "text/plain": [
       "'Al-Fatihah (Pebukaan)\\r\\n\\r\\n(Dengan nama Allah Yang Maha Pemurah lagi Maha Penyayang)'"
      ]
     },
     "execution_count": 44,
     "metadata": {},
     "output_type": "execute_result"
    }
   ],
   "source": [
    "# check to ensure that you grasp the right tafsir\n",
    "result[0][0]"
   ]
  },
  {
   "cell_type": "code",
   "execution_count": 8,
   "metadata": {
    "collapsed": true
   },
   "outputs": [],
   "source": [
    "db.close()"
   ]
  },
  {
   "cell_type": "code",
   "execution_count": 45,
   "metadata": {
    "collapsed": true
   },
   "outputs": [],
   "source": [
    "# db = pymysql.connect(\"127.0.0.1\", \"root\", \"\", \"learnqur_lqtafsir\") # localhost db_tafsir_ringkas\n",
    "db = pymysql.connect(\"94.237.67.148\", \"learnqur\", \"N!@t1khl455555\", \"learnqur_lqtafsir\") # dev cpanel"
   ]
  },
  {
   "cell_type": "code",
   "execution_count": 46,
   "metadata": {
    "collapsed": true
   },
   "outputs": [],
   "source": [
    "c = db.cursor()"
   ]
  },
  {
   "cell_type": "markdown",
   "metadata": {},
   "source": [
    "### Remove Duplicate Tafsir"
   ]
  },
  {
   "cell_type": "code",
   "execution_count": 11,
   "metadata": {
    "collapsed": true
   },
   "outputs": [],
   "source": [
    "# sentences = \"Inilah kitab yang sempurna dan penuh keagungan, yaitu Al-Qur'an yang kami turunkan kepada nabi muhammad, tidak ada keraguan padanya tentang kebenaran apa-apa yang terkandung di dalamnya, dan orang-orang yang berakal sehat tidak akan dihinggapi keraguan bahwa Al-Qur'an berasal dari Allah karena sangat jelas kebenarannya. Alqur'an juga menjadi petunjuk yang sempurna bagi mereka yang mempersiapkan diri untuk menerima kebenaran dengan bertakwa, yaitu mengikuti segala perintah Allah dan menjauhi segala larangan-Nya agar terhindar dari siksa Allah. Meski petunjuk Al-Qur'an diperuntukkan bagi seluruh umat manusia, hanya orang-orang bertakwa saja yang siap dan mampu mengambil manfaat darinya. Inilah kitab yang sempurna dan penuh keagungan, yaitu Al-Qur'an yang kami turunkan kepada nabi muhammad, tidak ada keraguan padanya tentang kebenaran apa-apa yang terkandung di dalamnya, dan orang-orang yang berakal sehat tidak akan dihinggapi keraguan bahwa Al-Qur'an berasal dari Allah karena sangat jelas kebenarannya. Alqur'an juga menjadi petunjuk yang sempurna bagi mereka yang mempersiapkan diri untuk menerima kebenaran dengan bertakwa, yaitu mengikuti segala perintah Allah dan menjauhi segala larangan-Nya agar terhindar dari siksa Allah. Meski petunjuk Al-Qur'an diperuntukkan bagi seluruh umat manusia, hanya orang-orang bertakwa saja yang siap dan mampu mengambil manfaat darinya.\"\n",
    "# sentences_processed = make_it_distinct(sentences)\n",
    "\n",
    "def make_it_distinct(sentences):\n",
    "    words_array = sentences.split(\". \")\n",
    "    for words in words_array:\n",
    "        count = 0\n",
    "        #print(\"-- words: \", words)\n",
    "        for words_idx in words_array:\n",
    "            #print(\"-- words_idx: \", words_idx)\n",
    "            if words in words_idx:\n",
    "                count+=1\n",
    "                #print(\"counted!\")\n",
    "                if count > 1:\n",
    "                    #print(\"found!\")\n",
    "                    seen = set()\n",
    "                    words_distinct = [x for x in sentences.split(\".\") if x not in seen and not seen.add(x)]\n",
    "                    words_distinct.pop(-1) # remove \"\"\n",
    "                    words_distinct.pop(-1) # remove last duplicate\n",
    "                    words_joint = \". \".join(words_distinct)\n",
    "\n",
    "                    return words_joint\n",
    "                    break\n",
    "        \n",
    "        return sentences            \n",
    "        break"
   ]
  },
  {
   "cell_type": "code",
   "execution_count": 12,
   "metadata": {
    "collapsed": true
   },
   "outputs": [],
   "source": [
    "def remove_line_spacing(sentences):\n",
    "    # remove multiple line breaks\n",
    "    text_processed = '\\r\\n\\r\\n'.join([x for x in sentences.splitlines() if x.strip()])\n",
    "    text_processed = text_processed.split('\\r\\n\\r\\n')\n",
    "    text_processed = ' '.join(text_processed)\n",
    "    \n",
    "    return text_processed"
   ]
  },
  {
   "cell_type": "markdown",
   "metadata": {},
   "source": [
    "### Set DB into DB"
   ]
  },
  {
   "cell_type": "code",
   "execution_count": 13,
   "metadata": {
    "collapsed": true
   },
   "outputs": [],
   "source": [
    "def preprocessDoc(text):\n",
    "       \n",
    "    # remove multiple whitespaces\n",
    "    text_processed = re.sub(' +',' ',text)\n",
    "    \n",
    "    # capitalize first letter of every sentence (should not be used for ibnu katsir & jalalayn)\n",
    "    # text_processed = '. '.join(map(lambda s: s.strip().capitalize(), text_processed.split('.')))\n",
    "    \n",
    "    # print(text_processed)\n",
    "    \n",
    "    # preprocess specific typos    \n",
    "    text_processed = text_processed.replace(\"allah\", \"Allah\")\n",
    "    text_processed = text_processed.replace(\"muhammad\", \"Muhammad\")\n",
    "    text_processed = text_processed.replace(\"Al-Qur?an\", \"Al-Qur'an\")\n",
    "    text_processed = text_processed.replace(\"al-Qur?an\", \"Al-Qur'an\")\n",
    "    text_processed = text_processed.replace(\"al-qur?an\", \"Al-Qur'an\")\n",
    "    text_processed = text_processed.replace(\"al-qur'an\", \"Al-Qur'an\")\n",
    "    text_processed = text_processed.replace(\"AlQur'an\", \"Al-Qur'an\")\n",
    "    text_processed = text_processed.replace(\"Alqur'an\", \"Al-Qur'an\")\n",
    "    \n",
    "    # preprocess apostrophe symbol\n",
    "    text_no_apostrophe = text_processed.replace(\"'\", \"\\\\'\")\n",
    "\n",
    "    text_processed = text_no_apostrophe.replace(\".\", \". \")\n",
    "    text_processed = text_processed.replace(\"?\", \"? \")\n",
    "    text_processed = text_processed.replace(\",\", \", \")\n",
    "    text_processed = text_processed.replace(\"kejadiankejadian\", \"kejadian-kejadian\")\n",
    "    text_processed = text_processed.replace(\"hurufhuruf\", \"huruf-huruf\")\n",
    "    text_processed = text_processed.replace(\"kitabkitab\", \"kitab-kitab\")\n",
    "    text_processed = text_processed.replace(\"Najr? n\", \"Najran\")\n",
    "    text_processed = text_processed.replace(\"? Arsy\", \"Arsy\")\n",
    "    text_processed = text_processed.replace(\"? \", \"\\\\'\")\n",
    "    text_processed = text_processed.replace(\"\\\\'am\\\\'d\", \"Samud\")\n",
    "    text_processed = text_processed.replace(\"Mahf\\\\'z\", \"Mahfuz\")\n",
    "    text_processed = text_processed.replace(\"berimandialah\", \"beriman. Dialah\")\n",
    "    text_processed = text_processed.replace(\"makhlukdialah\", \"makhluk. Dialah\")\n",
    "    text_processed = text_processed.replace(\".Dialah\", \". Dialah\")\n",
    "    text_processed = text_processed.replace(\"-nya\", \"-Nya\")\n",
    "    text_processed = text_processed.replace(\"-mu\", \"-Mu\")\n",
    "    text_processed = text_processed.replace(\"an-nisa\\'\\'/4: 69\", \"an-nisa 4:69\")\n",
    "    text_processed = text_processed.replace(\"''/4: 69\", \" 4:69\") \n",
    "    text_processed = text_processed.replace(\"-Mualif\", \"-Mu. Alif\") \n",
    "    \n",
    "    text_processed = text_processed.replace(\"swt\", \"Subhanahu wa ta\\\\'ala\")\n",
    "    text_processed = text_processed.replace(\"saw\", \"Shallallahu \\\\'alaihi wa sallam\")\n",
    "    \n",
    "    text_processed = text_processed.replace(\"Swt\", \"Subhanahu wa ta\\\\'ala\")\n",
    "    text_processed = text_processed.replace(\"Saw\", \"Shallallahu \\\\'alaihi wa sallam\")\n",
    "    \n",
    "    text_processed = text_processed.replace(\"swt.\", \"Subhanahu wa ta\\\\'ala\")\n",
    "    text_processed = text_processed.replace(\"saw.\", \"Shallallahu \\\\'alaihi wa sallam\")\n",
    "    \n",
    "    text_processed = text_processed.replace(\"Swt.\", \"Subhanahu wa ta\\\\'ala\")\n",
    "    text_processed = text_processed.replace(\"Saw.\", \"Shallallahu \\\\'alaihi wa sallam\")\n",
    "    \n",
    "    text_processed = text_processed.replace(\"swt:\", \"Subhanahu wa ta\\\\'ala\")\n",
    "    text_processed = text_processed.replace(\"saw:\", \"Shallallahu \\\\'alaihi wa sallam\")\n",
    "    \n",
    "    text_processed = text_processed.replace(\"Swt:\", \"Subhanahu wa ta\\\\'ala:\")\n",
    "    text_processed = text_processed.replace(\"Saw:\", \"Shallallahu \\\\'alaihi wa sallam:\")\n",
    "    \n",
    "    # remove multiple whitespaces should not be used for ibnu katsir & jalalayn)\n",
    "    # text_processed = re.sub(' +',' ',text_processed)\n",
    "    \n",
    "    # remove multiple line breaks should not be used for ibnu katsir & jalalayn)\n",
    "    # text_processed = '\\r\\n\\r\\n'.join([x for x in text_processed.splitlines() if x.strip()])\n",
    "    \n",
    "    # remove multiple full stop\n",
    "    text_processed = text_processed.replace(\". .\", \".\") \n",
    "    \n",
    "    # remove redundant ayah should not be used for ibnu katsir & jalalayn)\n",
    "    # text_processed = make_it_distinct(text_processed)\n",
    "    \n",
    "    # remove line spacing (should not be used for ibnu katsir & jalalayn)\n",
    "    # text_processed = remove_line_spacing(text_processed)\n",
    "     \n",
    "    # print(text_processed)\n",
    "    \n",
    "    return text_processed"
   ]
  },
  {
   "cell_type": "code",
   "execution_count": 14,
   "metadata": {},
   "outputs": [
    {
     "data": {
      "text/plain": [
       "6236"
      ]
     },
     "execution_count": 14,
     "metadata": {},
     "output_type": "execute_result"
    }
   ],
   "source": [
    "len(result)"
   ]
  },
  {
   "cell_type": "code",
   "execution_count": 15,
   "metadata": {
    "scrolled": true
   },
   "outputs": [
    {
     "data": {
      "text/plain": [
       "''"
      ]
     },
     "execution_count": 15,
     "metadata": {},
     "output_type": "execute_result"
    }
   ],
   "source": [
    "# check to ensure that you grasp the right tafsir\n",
    "result[0][0]"
   ]
  },
  {
   "cell_type": "code",
   "execution_count": 16,
   "metadata": {},
   "outputs": [
    {
     "name": "stdout",
     "output_type": "stream",
     "text": [
      "0...\n"
     ]
    },
    {
     "ename": "IndexError",
     "evalue": "string index out of range",
     "output_type": "error",
     "traceback": [
      "\u001b[0;31m---------------------------------------------------------------------------\u001b[0m",
      "\u001b[0;31mIndexError\u001b[0m                                Traceback (most recent call last)",
      "\u001b[0;32m<ipython-input-16-7df7c8f5f713>\u001b[0m in \u001b[0;36m<module>\u001b[0;34m()\u001b[0m\n\u001b[1;32m      4\u001b[0m \u001b[0;34m\u001b[0m\u001b[0m\n\u001b[1;32m      5\u001b[0m     \u001b[0;31m# add dot at the end of paragraph\u001b[0m\u001b[0;34m\u001b[0m\u001b[0;34m\u001b[0m\u001b[0m\n\u001b[0;32m----> 6\u001b[0;31m     \u001b[0;32mif\u001b[0m \u001b[0mrow\u001b[0m\u001b[0;34m[\u001b[0m\u001b[0;36m0\u001b[0m\u001b[0;34m]\u001b[0m\u001b[0;34m[\u001b[0m\u001b[0mlen\u001b[0m\u001b[0;34m(\u001b[0m\u001b[0mrow\u001b[0m\u001b[0;34m[\u001b[0m\u001b[0;36m0\u001b[0m\u001b[0;34m]\u001b[0m\u001b[0;34m)\u001b[0m\u001b[0;34m-\u001b[0m\u001b[0;36m1\u001b[0m\u001b[0;34m]\u001b[0m \u001b[0;32mis\u001b[0m \u001b[0;32mnot\u001b[0m \u001b[0;34m'.'\u001b[0m \u001b[0;32mand\u001b[0m \u001b[0mrow\u001b[0m\u001b[0;34m[\u001b[0m\u001b[0;36m0\u001b[0m\u001b[0;34m]\u001b[0m\u001b[0;34m[\u001b[0m\u001b[0mlen\u001b[0m\u001b[0;34m(\u001b[0m\u001b[0mrow\u001b[0m\u001b[0;34m[\u001b[0m\u001b[0;36m0\u001b[0m\u001b[0;34m]\u001b[0m\u001b[0;34m)\u001b[0m\u001b[0;34m-\u001b[0m\u001b[0;36m1\u001b[0m\u001b[0;34m]\u001b[0m \u001b[0;32mis\u001b[0m \u001b[0;32mnot\u001b[0m \u001b[0;34m' '\u001b[0m\u001b[0;34m:\u001b[0m\u001b[0;34m\u001b[0m\u001b[0m\n\u001b[0m\u001b[1;32m      7\u001b[0m         \u001b[0;31m# print(row[0][len(row[0])-1])\u001b[0m\u001b[0;34m\u001b[0m\u001b[0;34m\u001b[0m\u001b[0m\n\u001b[1;32m      8\u001b[0m         \u001b[0mrow_arr\u001b[0m\u001b[0;34m.\u001b[0m\u001b[0mappend\u001b[0m\u001b[0;34m(\u001b[0m\u001b[0mrow\u001b[0m\u001b[0;34m[\u001b[0m\u001b[0;36m0\u001b[0m\u001b[0;34m]\u001b[0m \u001b[0;34m+\u001b[0m \u001b[0;34m\".\"\u001b[0m\u001b[0;34m)\u001b[0m\u001b[0;34m\u001b[0m\u001b[0m\n",
      "\u001b[0;31mIndexError\u001b[0m: string index out of range"
     ]
    }
   ],
   "source": [
    "row_arr = []\n",
    "for idx, row in enumerate(result): # result[0:20]\n",
    "    print(\"%d...\" % idx)\n",
    "\n",
    "    # add dot at the end of paragraph\n",
    "    if row[0][len(row[0])-1] is not '.' and row[0][len(row[0])-1] is not ' ':\n",
    "        # print(row[0][len(row[0])-1])\n",
    "        row_arr.append(row[0] + \".\")\n",
    "    else:\n",
    "        #print(row[0][len(row[0])-1])\n",
    "        row_arr.append(row[0])\n",
    "\n",
    "    # print(row_arr[idx])\n",
    "    row_text_processed = preprocessDoc(row_arr[idx])\n",
    "  \n",
    "    query = \"UPDATE tafsir_id SET {} ='\".format(tafsir_name) + row_text_processed + \"' WHERE id = \" + str(idx+1) # tafsir_id changes quran_id_complete, tafsir_ringkas changes ringkas_kemenag\n",
    "    c.execute(query)"
   ]
  },
  {
   "cell_type": "code",
   "execution_count": null,
   "metadata": {
    "collapsed": true,
    "scrolled": true
   },
   "outputs": [],
   "source": [
    "# row_arr = []\n",
    "# for idx, row in enumerate(result): # result[0:20]\n",
    "#     print(\"%d...\" % idx)\n",
    "\n",
    "#     if((idx+1) != 3188 and (idx+1) != 3189 and (idx+1) != 3190 and (idx+1) != 3266 and \n",
    "#        (idx+1) != 3267 and (idx+1) != 3270 and (idx+1) != 3271 and (idx+1) != 4625 and \n",
    "#        (idx+1) != 4626 and (idx+1) != 4809 and (idx+1) != 4810 and (idx+1) != 5187 and \n",
    "#        (idx+1) != 5188 and (idx+1) != 5249 and (idx+1) != 5250 and (idx+1) != 5298 and \n",
    "#        (idx+1) != 5299 and (idx+1) != 5300 and (idx+1) != 5331 and (idx+1) != 5332 and \n",
    "#        (idx+1) != 5447 and (idx+1) != 5448):\n",
    "        \n",
    "#         # add dot at the end of paragraph\n",
    "#         if row[0][len(row[0])-1] is not '.' and row[0][len(row[0])-1] is not ' ':\n",
    "#             # print(row[0][len(row[0])-1])\n",
    "#             row_arr.append(row[0] + \".\")\n",
    "#         else:\n",
    "#             #print(row[0][len(row[0])-1])\n",
    "#             row_arr.append(row[0])\n",
    "             \n",
    "#         # print(row_arr[idx])\n",
    "#         row_text_processed = preprocessDoc(row_arr[idx])\n",
    "#     else:\n",
    "                \n",
    "#         # add dot at the end of paragraph\n",
    "#         if row[0][len(row[0])-1] is not '.':\n",
    "#             row_arr.append(row[0] + \".\")\n",
    "#         else:\n",
    "#             row_arr.append(row[0])\n",
    "            \n",
    "#         row_no_apostrophe = row[0]\n",
    "#         row_text_processed = row_no_apostrophe\n",
    "    \n",
    "#     query = \"UPDATE tafsir_id SET ringkas_kemenag ='\" + row_text_processed + \"' WHERE id = \" + str(idx+1) # tafsir_id changes quran_id_complete, tafsir_ringkas changes ringkas_kemenag\n",
    "#     c.execute(query)"
   ]
  },
  {
   "cell_type": "code",
   "execution_count": null,
   "metadata": {
    "collapsed": true
   },
   "outputs": [],
   "source": [
    "db.commit()"
   ]
  },
  {
   "cell_type": "markdown",
   "metadata": {},
   "source": [
    "### Reset all tafsir text (optional)"
   ]
  },
  {
   "cell_type": "code",
   "execution_count": null,
   "metadata": {
    "collapsed": true
   },
   "outputs": [],
   "source": [
    "for idx, row in enumerate(result):    \n",
    "    pass\n",
    "    # print(idx)\n",
    "    # query = \"UPDATE tafsir_id SET ringkas_kemenag ='' WHERE id = \" + str(idx+1) # tafsir_id changes quran_id_complete\n",
    "    # c.execute(query)"
   ]
  },
  {
   "cell_type": "code",
   "execution_count": null,
   "metadata": {
    "collapsed": true
   },
   "outputs": [],
   "source": [
    "db.commit()"
   ]
  },
  {
   "cell_type": "code",
   "execution_count": null,
   "metadata": {
    "collapsed": true
   },
   "outputs": [],
   "source": [
    "db.close()"
   ]
  },
  {
   "cell_type": "markdown",
   "metadata": {},
   "source": [
    "Todo:\n",
    "\n",
    "1. Remove duplicate line spacing\n",
    "2. Remove duplicate words "
   ]
  },
  {
   "cell_type": "markdown",
   "metadata": {},
   "source": [
    "<hr/>"
   ]
  }
 ],
 "metadata": {
  "kernelspec": {
   "display_name": "Python 3",
   "language": "python",
   "name": "python3"
  },
  "language_info": {
   "codemirror_mode": {
    "name": "ipython",
    "version": 3
   },
   "file_extension": ".py",
   "mimetype": "text/x-python",
   "name": "python",
   "nbconvert_exporter": "python",
   "pygments_lexer": "ipython3",
   "version": "3.6.3"
  }
 },
 "nbformat": 4,
 "nbformat_minor": 2
}
