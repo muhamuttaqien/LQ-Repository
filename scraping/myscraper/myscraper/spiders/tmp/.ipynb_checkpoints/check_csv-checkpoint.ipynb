{
 "cells": [
  {
   "cell_type": "code",
   "execution_count": 5,
   "metadata": {
    "collapsed": true
   },
   "outputs": [],
   "source": [
    "import pandas as pd"
   ]
  },
  {
   "cell_type": "code",
   "execution_count": 6,
   "metadata": {},
   "outputs": [
    {
     "data": {
      "text/html": [
       "<div>\n",
       "<style>\n",
       "    .dataframe thead tr:only-child th {\n",
       "        text-align: right;\n",
       "    }\n",
       "\n",
       "    .dataframe thead th {\n",
       "        text-align: left;\n",
       "    }\n",
       "\n",
       "    .dataframe tbody tr th {\n",
       "        vertical-align: top;\n",
       "    }\n",
       "</style>\n",
       "<table border=\"1\" class=\"dataframe\">\n",
       "  <thead>\n",
       "    <tr style=\"text-align: right;\">\n",
       "      <th></th>\n",
       "      <th>titles</th>\n",
       "      <th>prices</th>\n",
       "      <th>discounts</th>\n",
       "      <th>image_urls</th>\n",
       "      <th>images</th>\n",
       "    </tr>\n",
       "  </thead>\n",
       "  <tbody>\n",
       "    <tr>\n",
       "      <th>0</th>\n",
       "      <td>IKall K72 ( Single Sim, 1.4 inches (3.56 cm)  ...</td>\n",
       "      <td>Rs.299</td>\n",
       "      <td>57% Off</td>\n",
       "      <td>https://cdn.shopclues.com/images/thumbnails/78...</td>\n",
       "      <td>[{'url': 'https://cdn.shopclues.com/images/thu...</td>\n",
       "    </tr>\n",
       "    <tr>\n",
       "      <th>1</th>\n",
       "      <td>IKall K71 (Single Sim, 1.4 Inch Display, 800 M...</td>\n",
       "      <td>Rs.339</td>\n",
       "      <td>52% Off</td>\n",
       "      <td>https://cdn.shopclues.com/images/thumbnails/73...</td>\n",
       "      <td>[{'url': 'https://cdn.shopclues.com/images/thu...</td>\n",
       "    </tr>\n",
       "    <tr>\n",
       "      <th>2</th>\n",
       "      <td>IKall K72 (Single Sim, 1.4 Inch Display, Vibra...</td>\n",
       "      <td>Rs.399</td>\n",
       "      <td>43% Off</td>\n",
       "      <td>https://cdn.shopclues.com/images/thumbnails/78...</td>\n",
       "      <td>[{'url': 'https://cdn.shopclues.com/images/thu...</td>\n",
       "    </tr>\n",
       "    <tr>\n",
       "      <th>3</th>\n",
       "      <td>Combo of IKall K71 (Single Sim, 1.4 Inch Displ...</td>\n",
       "      <td>Rs.399</td>\n",
       "      <td>60% Off</td>\n",
       "      <td>https://cdn.shopclues.com/images1/thumbnails/8...</td>\n",
       "      <td>[{'url': 'https://cdn.shopclues.com/images1/th...</td>\n",
       "    </tr>\n",
       "    <tr>\n",
       "      <th>4</th>\n",
       "      <td>Combo of IKall K71 (Single Sim, 1.4 Inch Displ...</td>\n",
       "      <td>Rs.399</td>\n",
       "      <td>60% Off</td>\n",
       "      <td>https://cdn.shopclues.com/images1/thumbnails/8...</td>\n",
       "      <td>[{'url': 'https://cdn.shopclues.com/images1/th...</td>\n",
       "    </tr>\n",
       "  </tbody>\n",
       "</table>\n",
       "</div>"
      ],
      "text/plain": [
       "                                              titles  prices discounts  \\\n",
       "0  IKall K72 ( Single Sim, 1.4 inches (3.56 cm)  ...  Rs.299   57% Off   \n",
       "1  IKall K71 (Single Sim, 1.4 Inch Display, 800 M...  Rs.339   52% Off   \n",
       "2  IKall K72 (Single Sim, 1.4 Inch Display, Vibra...  Rs.399   43% Off   \n",
       "3  Combo of IKall K71 (Single Sim, 1.4 Inch Displ...  Rs.399   60% Off   \n",
       "4  Combo of IKall K71 (Single Sim, 1.4 Inch Displ...  Rs.399   60% Off   \n",
       "\n",
       "                                          image_urls  \\\n",
       "0  https://cdn.shopclues.com/images/thumbnails/78...   \n",
       "1  https://cdn.shopclues.com/images/thumbnails/73...   \n",
       "2  https://cdn.shopclues.com/images/thumbnails/78...   \n",
       "3  https://cdn.shopclues.com/images1/thumbnails/8...   \n",
       "4  https://cdn.shopclues.com/images1/thumbnails/8...   \n",
       "\n",
       "                                              images  \n",
       "0  [{'url': 'https://cdn.shopclues.com/images/thu...  \n",
       "1  [{'url': 'https://cdn.shopclues.com/images/thu...  \n",
       "2  [{'url': 'https://cdn.shopclues.com/images/thu...  \n",
       "3  [{'url': 'https://cdn.shopclues.com/images1/th...  \n",
       "4  [{'url': 'https://cdn.shopclues.com/images1/th...  "
      ]
     },
     "execution_count": 6,
     "metadata": {},
     "output_type": "execute_result"
    }
   ],
   "source": [
    "df = pd.read_csv('shopclues.csv')\n",
    "df.head()"
   ]
  },
  {
   "cell_type": "markdown",
   "metadata": {},
   "source": [
    "<hr/>"
   ]
  }
 ],
 "metadata": {
  "kernelspec": {
   "display_name": "Python 3",
   "language": "python",
   "name": "python3"
  },
  "language_info": {
   "codemirror_mode": {
    "name": "ipython",
    "version": 3
   },
   "file_extension": ".py",
   "mimetype": "text/x-python",
   "name": "python",
   "nbconvert_exporter": "python",
   "pygments_lexer": "ipython3",
   "version": "3.6.3"
  }
 },
 "nbformat": 4,
 "nbformat_minor": 2
}
