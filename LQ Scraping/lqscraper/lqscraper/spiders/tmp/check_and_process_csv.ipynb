{
 "cells": [
  {
   "cell_type": "code",
   "execution_count": 1,
   "metadata": {
    "collapsed": true
   },
   "outputs": [],
   "source": [
    "import pandas as pd\n",
    "import xml\n",
    "import re\n",
    "from pprint import pprint "
   ]
  },
  {
   "cell_type": "code",
   "execution_count": 2,
   "metadata": {
    "collapsed": true
   },
   "outputs": [],
   "source": [
    "def clean_html(raw_html):\n",
    "    pattern = re.compile('<.*?>')\n",
    "    cleaned_text = re.sub(pattern, '', raw_html)\n",
    "    \n",
    "    return cleaned_text"
   ]
  },
  {
   "cell_type": "markdown",
   "metadata": {},
   "source": [
    "## Load CSV"
   ]
  },
  {
   "cell_type": "code",
   "execution_count": 35,
   "metadata": {},
   "outputs": [
    {
     "data": {
      "text/html": [
       "<div>\n",
       "<style>\n",
       "    .dataframe thead tr:only-child th {\n",
       "        text-align: right;\n",
       "    }\n",
       "\n",
       "    .dataframe thead th {\n",
       "        text-align: left;\n",
       "    }\n",
       "\n",
       "    .dataframe tbody tr th {\n",
       "        vertical-align: top;\n",
       "    }\n",
       "</style>\n",
       "<table border=\"1\" class=\"dataframe\">\n",
       "  <thead>\n",
       "    <tr style=\"text-align: right;\">\n",
       "      <th></th>\n",
       "      <th>titles</th>\n",
       "      <th>contents</th>\n",
       "      <th>images</th>\n",
       "    </tr>\n",
       "  </thead>\n",
       "  <tbody>\n",
       "    <tr>\n",
       "      <th>0</th>\n",
       "      <td>Faedah Sirah Nabi: Umar bin Al-Khaththab Masuk...</td>\n",
       "      <td>&lt;p&gt; &lt;/p&gt;&lt;p&gt;Bagaimana dahulunya Umar bin Al-Kha...</td>\n",
       "      <td>NaN</td>\n",
       "    </tr>\n",
       "    <tr>\n",
       "      <th>1</th>\n",
       "      <td>Masuk Surga Berkat Keshalihan Orang Tua</td>\n",
       "      <td>&lt;p&gt;Masuk surga bisa bersama orang tua kita yan...</td>\n",
       "      <td>NaN</td>\n",
       "    </tr>\n",
       "    <tr>\n",
       "      <th>2</th>\n",
       "      <td>Syarhus Sunnah: Allah itu Al-‘Alim, Al-Khabiir...</td>\n",
       "      <td>&lt;p&gt; &lt;/p&gt;&lt;p&gt;Seorang muslim mesti juga mengimani...</td>\n",
       "      <td>NaN</td>\n",
       "    </tr>\n",
       "    <tr>\n",
       "      <th>3</th>\n",
       "      <td>Khutbah Jumat: Biar Semangat Bangun Shubuh</td>\n",
       "      <td>&lt;p&gt; &lt;/p&gt;&lt;p&gt;Khutbah Jumat kali ini bagus jadi p...</td>\n",
       "      <td>NaN</td>\n",
       "    </tr>\n",
       "    <tr>\n",
       "      <th>4</th>\n",
       "      <td>Khutbah Idul Fitri: Pemuda Pemberani, Saat Ini...</td>\n",
       "      <td>&lt;p&gt; &lt;/p&gt;&lt;p&gt;Semoga kita bisa mengambil pelajara...</td>\n",
       "      <td>NaN</td>\n",
       "    </tr>\n",
       "  </tbody>\n",
       "</table>\n",
       "</div>"
      ],
      "text/plain": [
       "                                              titles  \\\n",
       "0  Faedah Sirah Nabi: Umar bin Al-Khaththab Masuk...   \n",
       "1            Masuk Surga Berkat Keshalihan Orang Tua   \n",
       "2  Syarhus Sunnah: Allah itu Al-‘Alim, Al-Khabiir...   \n",
       "3         Khutbah Jumat: Biar Semangat Bangun Shubuh   \n",
       "4  Khutbah Idul Fitri: Pemuda Pemberani, Saat Ini...   \n",
       "\n",
       "                                            contents  images  \n",
       "0  <p> </p><p>Bagaimana dahulunya Umar bin Al-Kha...     NaN  \n",
       "1  <p>Masuk surga bisa bersama orang tua kita yan...     NaN  \n",
       "2  <p> </p><p>Seorang muslim mesti juga mengimani...     NaN  \n",
       "3  <p> </p><p>Khutbah Jumat kali ini bagus jadi p...     NaN  \n",
       "4  <p> </p><p>Semoga kita bisa mengambil pelajara...     NaN  "
      ]
     },
     "execution_count": 35,
     "metadata": {},
     "output_type": "execute_result"
    }
   ],
   "source": [
    "df_rumaysho = pd.read_csv('./rumaysho.csv')\n",
    "df_rumaysho.head()"
   ]
  },
  {
   "cell_type": "markdown",
   "metadata": {},
   "source": [
    "## Clean Up CSV"
   ]
  },
  {
   "cell_type": "code",
   "execution_count": 43,
   "metadata": {},
   "outputs": [
    {
     "name": "stderr",
     "output_type": "stream",
     "text": [
      "/anaconda3/lib/python3.6/site-packages/ipykernel_launcher.py:12: SettingWithCopyWarning: \n",
      "A value is trying to be set on a copy of a slice from a DataFrame\n",
      "\n",
      "See the caveats in the documentation: http://pandas.pydata.org/pandas-docs/stable/indexing.html#indexing-view-versus-copy\n",
      "  if sys.path[0] == '':\n"
     ]
    }
   ],
   "source": [
    "df_rumaysho['cleaned_contents'] = ''\n",
    "for idx, _ in enumerate(df_rumaysho['contents']):\n",
    "    # remove html tags\n",
    "    cleaned_contents = clean_html(df_rumaysho['contents'][idx])\n",
    "    \n",
    "    # remove strange symbols\n",
    "    cleaned_contents = cleaned_contents.replace('\\xa0', '')\n",
    "\n",
    "    df_rumaysho['cleaned_contents'][idx] = cleaned_contents"
   ]
  },
  {
   "cell_type": "code",
   "execution_count": 45,
   "metadata": {
    "collapsed": true
   },
   "outputs": [],
   "source": [
    "# drop unnecessary columns\n",
    "df_rumaysho.drop(['images', 'contents'], axis=1, inplace=True)"
   ]
  },
  {
   "cell_type": "markdown",
   "metadata": {},
   "source": [
    "## Save Final CSV"
   ]
  },
  {
   "cell_type": "code",
   "execution_count": 48,
   "metadata": {},
   "outputs": [
    {
     "data": {
      "text/html": [
       "<div>\n",
       "<style>\n",
       "    .dataframe thead tr:only-child th {\n",
       "        text-align: right;\n",
       "    }\n",
       "\n",
       "    .dataframe thead th {\n",
       "        text-align: left;\n",
       "    }\n",
       "\n",
       "    .dataframe tbody tr th {\n",
       "        vertical-align: top;\n",
       "    }\n",
       "</style>\n",
       "<table border=\"1\" class=\"dataframe\">\n",
       "  <thead>\n",
       "    <tr style=\"text-align: right;\">\n",
       "      <th></th>\n",
       "      <th>titles</th>\n",
       "      <th>cleaned_contents</th>\n",
       "    </tr>\n",
       "  </thead>\n",
       "  <tbody>\n",
       "    <tr>\n",
       "      <th>0</th>\n",
       "      <td>Faedah Sirah Nabi: Umar bin Al-Khaththab Masuk...</td>\n",
       "      <td>Bagaimana dahulunya Umar bin Al-Khaththab masu...</td>\n",
       "    </tr>\n",
       "    <tr>\n",
       "      <th>1</th>\n",
       "      <td>Masuk Surga Berkat Keshalihan Orang Tua</td>\n",
       "      <td>Masuk surga bisa bersama orang tua kita yang b...</td>\n",
       "    </tr>\n",
       "    <tr>\n",
       "      <th>2</th>\n",
       "      <td>Syarhus Sunnah: Allah itu Al-‘Alim, Al-Khabiir...</td>\n",
       "      <td>Seorang muslim mesti juga mengimani Allah itu ...</td>\n",
       "    </tr>\n",
       "    <tr>\n",
       "      <th>3</th>\n",
       "      <td>Khutbah Jumat: Biar Semangat Bangun Shubuh</td>\n",
       "      <td>Khutbah Jumat kali ini bagus jadi pelajaran be...</td>\n",
       "    </tr>\n",
       "    <tr>\n",
       "      <th>4</th>\n",
       "      <td>Khutbah Idul Fitri: Pemuda Pemberani, Saat Ini...</td>\n",
       "      <td>Semoga kita bisa mengambil pelajaran dari Khut...</td>\n",
       "    </tr>\n",
       "    <tr>\n",
       "      <th>5</th>\n",
       "      <td>Faedah Surat Yasin: Masuk Neraka Karena Kekafiran</td>\n",
       "      <td>Bagaimana seseorang bisa masuk neraka, bagaima...</td>\n",
       "    </tr>\n",
       "    <tr>\n",
       "      <th>6</th>\n",
       "      <td>Tsalatsatul Ushul: Allah Tidak Ridha pada Syirik</td>\n",
       "      <td>﻿Syaikh Muhammad bin ‘Abdul Wahhab rahimahulla...</td>\n",
       "    </tr>\n",
       "    <tr>\n",
       "      <th>7</th>\n",
       "      <td>Mengingat Allah Ketika Berbaring</td>\n",
       "      <td>Bagaimana cara mengingat Allah ketika akan tid...</td>\n",
       "    </tr>\n",
       "    <tr>\n",
       "      <th>8</th>\n",
       "      <td>Faedah Surat An-Nuur #22: Taubat dari Mengumba...</td>\n",
       "      <td>Bertaubatlah karena masa silam yang dulu perna...</td>\n",
       "    </tr>\n",
       "    <tr>\n",
       "      <th>9</th>\n",
       "      <td>Khutbah Jumat: Bagi yang Mau Bermaksiat Ba’da ...</td>\n",
       "      <td>Bagi yang mau bermaksiat ba’da Ramadhan, coba ...</td>\n",
       "    </tr>\n",
       "    <tr>\n",
       "      <th>10</th>\n",
       "      <td>Khutbah Idul Adha: 11 Kekeliruan dalam Ibadah ...</td>\n",
       "      <td>Ada sebelas kekeliruan dalam ibadah qurban yan...</td>\n",
       "    </tr>\n",
       "    <tr>\n",
       "      <th>11</th>\n",
       "      <td>Lebih Besar Pahala Baca Al Quran Lewat Mushaf ...</td>\n",
       "      <td>Syaikh Muhammad Musa Alu Nashr hafizahullah me...</td>\n",
       "    </tr>\n",
       "    <tr>\n",
       "      <th>12</th>\n",
       "      <td>Tsalatsatul Ushul: Tidak Loyal pada Non-Muslim</td>\n",
       "      <td>﻿\\nSalah satu prinsip akidah yang dilupakan ba...</td>\n",
       "    </tr>\n",
       "    <tr>\n",
       "      <th>13</th>\n",
       "      <td>Faedah Surat Yasin: Jalan Lurus vs Jalan Setan</td>\n",
       "      <td>Mau tahu bagaimana jalan lurus? Terus jalan se...</td>\n",
       "    </tr>\n",
       "    <tr>\n",
       "      <th>14</th>\n",
       "      <td>Syarhus Sunnah: Allah itu As-Samii’, Maha Mend...</td>\n",
       "      <td>Allah itu Maha Mendengar. Hal ini bagus sekali...</td>\n",
       "    </tr>\n",
       "    <tr>\n",
       "      <th>15</th>\n",
       "      <td>[Booklet] Buku Kecil Pesugihan</td>\n",
       "      <td>Mau tahu bagaimanakah terjadinya pesugihan di ...</td>\n",
       "    </tr>\n",
       "    <tr>\n",
       "      <th>16</th>\n",
       "      <td>7 Alasan Kenapa Kita Harus Belajar Bahasa Arab</td>\n",
       "      <td>Baca tulisan ini, moga termotivasi belajar Bah...</td>\n",
       "    </tr>\n",
       "    <tr>\n",
       "      <th>17</th>\n",
       "      <td>[Booklet] Jangan Pandang Masa Lalunya</td>\n",
       "      <td>Biarkan yang berlalu biarlah berlalu. Sekarang...</td>\n",
       "    </tr>\n",
       "    <tr>\n",
       "      <th>18</th>\n",
       "      <td>Dzikir Petang Amsaynaa wa Amsal Mulku Lillah …</td>\n",
       "      <td>Dzikir petang ini bagus sekali untuk diamalkan...</td>\n",
       "    </tr>\n",
       "    <tr>\n",
       "      <th>19</th>\n",
       "      <td>Syarhus Sunnah: Allah itu Al-Bashiir, Maha Mel...</td>\n",
       "      <td>Allah itu Maha Melihat atau Al-Bashiir. Hal in...</td>\n",
       "    </tr>\n",
       "  </tbody>\n",
       "</table>\n",
       "</div>"
      ],
      "text/plain": [
       "                                               titles  \\\n",
       "0   Faedah Sirah Nabi: Umar bin Al-Khaththab Masuk...   \n",
       "1             Masuk Surga Berkat Keshalihan Orang Tua   \n",
       "2   Syarhus Sunnah: Allah itu Al-‘Alim, Al-Khabiir...   \n",
       "3          Khutbah Jumat: Biar Semangat Bangun Shubuh   \n",
       "4   Khutbah Idul Fitri: Pemuda Pemberani, Saat Ini...   \n",
       "5   Faedah Surat Yasin: Masuk Neraka Karena Kekafiran   \n",
       "6    Tsalatsatul Ushul: Allah Tidak Ridha pada Syirik   \n",
       "7                    Mengingat Allah Ketika Berbaring   \n",
       "8   Faedah Surat An-Nuur #22: Taubat dari Mengumba...   \n",
       "9   Khutbah Jumat: Bagi yang Mau Bermaksiat Ba’da ...   \n",
       "10  Khutbah Idul Adha: 11 Kekeliruan dalam Ibadah ...   \n",
       "11  Lebih Besar Pahala Baca Al Quran Lewat Mushaf ...   \n",
       "12     Tsalatsatul Ushul: Tidak Loyal pada Non-Muslim   \n",
       "13     Faedah Surat Yasin: Jalan Lurus vs Jalan Setan   \n",
       "14  Syarhus Sunnah: Allah itu As-Samii’, Maha Mend...   \n",
       "15                     [Booklet] Buku Kecil Pesugihan   \n",
       "16     7 Alasan Kenapa Kita Harus Belajar Bahasa Arab   \n",
       "17              [Booklet] Jangan Pandang Masa Lalunya   \n",
       "18     Dzikir Petang Amsaynaa wa Amsal Mulku Lillah …   \n",
       "19  Syarhus Sunnah: Allah itu Al-Bashiir, Maha Mel...   \n",
       "\n",
       "                                     cleaned_contents  \n",
       "0   Bagaimana dahulunya Umar bin Al-Khaththab masu...  \n",
       "1   Masuk surga bisa bersama orang tua kita yang b...  \n",
       "2   Seorang muslim mesti juga mengimani Allah itu ...  \n",
       "3   Khutbah Jumat kali ini bagus jadi pelajaran be...  \n",
       "4   Semoga kita bisa mengambil pelajaran dari Khut...  \n",
       "5   Bagaimana seseorang bisa masuk neraka, bagaima...  \n",
       "6   ﻿Syaikh Muhammad bin ‘Abdul Wahhab rahimahulla...  \n",
       "7   Bagaimana cara mengingat Allah ketika akan tid...  \n",
       "8   Bertaubatlah karena masa silam yang dulu perna...  \n",
       "9   Bagi yang mau bermaksiat ba’da Ramadhan, coba ...  \n",
       "10  Ada sebelas kekeliruan dalam ibadah qurban yan...  \n",
       "11  Syaikh Muhammad Musa Alu Nashr hafizahullah me...  \n",
       "12  ﻿\\nSalah satu prinsip akidah yang dilupakan ba...  \n",
       "13  Mau tahu bagaimana jalan lurus? Terus jalan se...  \n",
       "14  Allah itu Maha Mendengar. Hal ini bagus sekali...  \n",
       "15  Mau tahu bagaimanakah terjadinya pesugihan di ...  \n",
       "16  Baca tulisan ini, moga termotivasi belajar Bah...  \n",
       "17  Biarkan yang berlalu biarlah berlalu. Sekarang...  \n",
       "18  Dzikir petang ini bagus sekali untuk diamalkan...  \n",
       "19  Allah itu Maha Melihat atau Al-Bashiir. Hal in...  "
      ]
     },
     "execution_count": 48,
     "metadata": {},
     "output_type": "execute_result"
    }
   ],
   "source": [
    "df_rumaysho.head(20)"
   ]
  },
  {
   "cell_type": "code",
   "execution_count": 49,
   "metadata": {
    "collapsed": true
   },
   "outputs": [],
   "source": [
    "df_rumaysho.to_csv('results/final_rumaysho.csv')"
   ]
  },
  {
   "cell_type": "markdown",
   "metadata": {},
   "source": [
    "<hr/>"
   ]
  }
 ],
 "metadata": {
  "kernelspec": {
   "display_name": "Python 3",
   "language": "python",
   "name": "python3"
  },
  "language_info": {
   "codemirror_mode": {
    "name": "ipython",
    "version": 3
   },
   "file_extension": ".py",
   "mimetype": "text/x-python",
   "name": "python",
   "nbconvert_exporter": "python",
   "pygments_lexer": "ipython3",
   "version": "3.6.3"
  }
 },
 "nbformat": 4,
 "nbformat_minor": 2
}
