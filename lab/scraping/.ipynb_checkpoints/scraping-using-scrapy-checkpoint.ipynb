{
 "cells": [
  {
   "cell_type": "code",
   "execution_count": 11,
   "metadata": {},
   "outputs": [],
   "source": [
    "import pprint\n",
    "import scrapy"
   ]
  },
  {
   "cell_type": "code",
   "execution_count": 12,
   "metadata": {},
   "outputs": [],
   "source": [
    "class RedditbotSpider(scrapy.Spider):\n",
    "    name = 'redditbot'\n",
    "    allowed_domains = ['www.reddit.com/r/gameofthrones/']\n",
    "    start_urls = ['http://www.reddit.com/r/gameofthrones/']\n",
    "    \n",
    "    def parse(self, response):\n",
    "        # extracting the content using css selectors\n",
    "        titles = response.css('.title.may-blank::text').extract()\n",
    "        votes = response.css('.score.unvoted::text').extract()\n",
    "        times = response.css('time::attr(title)').extract()\n",
    "        comments = response.css('.comments::text').extract()\n",
    "       \n",
    "        # give the extracted content row wise\n",
    "        for item in zip(titles,votes,times,comments):\n",
    "            # create a dictionary to store the scraped info\n",
    "            scraped_info = {\n",
    "                'title' : item[0],\n",
    "                'vote' : item[1],\n",
    "                'created_at' : item[2],\n",
    "                'comments' : item[3],\n",
    "            }\n",
    "\n",
    "            # yield or give the scraped info to scrapy\n",
    "            yield scraped_info"
   ]
  },
  {
   "cell_type": "markdown",
   "metadata": {},
   "source": [
    "<hr/>"
   ]
  }
 ],
 "metadata": {
  "kernelspec": {
   "display_name": "Python 3",
   "language": "python",
   "name": "python3"
  },
  "language_info": {
   "codemirror_mode": {
    "name": "ipython",
    "version": 3
   },
   "file_extension": ".py",
   "mimetype": "text/x-python",
   "name": "python",
   "nbconvert_exporter": "python",
   "pygments_lexer": "ipython3",
   "version": "3.6.6"
  }
 },
 "nbformat": 4,
 "nbformat_minor": 2
}
