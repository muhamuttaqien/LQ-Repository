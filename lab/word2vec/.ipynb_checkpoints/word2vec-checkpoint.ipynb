{
 "cells": [
  {
   "cell_type": "code",
   "execution_count": 1,
   "metadata": {
    "collapsed": true
   },
   "outputs": [],
   "source": [
    "# imports needed and logging\n",
    "import gzip\n",
    "import gensim\n",
    "import logging\n",
    "from pprint import pprint"
   ]
  },
  {
   "cell_type": "code",
   "execution_count": 2,
   "metadata": {
    "collapsed": true
   },
   "outputs": [],
   "source": [
    "logging.basicConfig(format='%(asctime)s : %(levelname)s : %(message)s', level=logging.INFO)"
   ]
  },
  {
   "cell_type": "markdown",
   "metadata": {},
   "source": [
    "## Import Dataset"
   ]
  },
  {
   "cell_type": "code",
   "execution_count": 3,
   "metadata": {},
   "outputs": [
    {
     "name": "stdout",
     "output_type": "stream",
     "text": [
      "b\"Oct 12 2009 \\tNice trendy hotel location not too bad.\\tI stayed in this hotel for one night. As this is a fairly new place some of the taxi drivers did not know where it was and/or did not want to drive there. Once I have eventually arrived at the hotel, I was very pleasantly surprised with the decor of the lobby/ground floor area. It was very stylish and modern. I found the reception's staff geeting me with 'Aloha' a bit out of place, but I guess they are briefed to say that to keep up the coroporate image.As I have a Starwood Preferred Guest member, I was given a small gift upon-check in. It was only a couple of fridge magnets in a gift box, but nevertheless a nice gesture.My room was nice and roomy, there are tea and coffee facilities in each room and you get two complimentary bottles of water plus some toiletries by 'bliss'.The location is not great. It is at the last metro stop and you then need to take a taxi, but if you are not planning on going to see the historic sites in Beijing, then you will be ok.I chose to have some breakfast in the hotel, which was really tasty and there was a good selection of dishes. There are a couple of computers to use in the communal area, as well as a pool table. There is also a small swimming pool and a gym area.I would definitely stay in this hotel again, but only if I did not plan to travel to central Beijing, as it can take a long time. The location is ok if you plan to do a lot of shopping, as there is a big shopping centre just few minutes away from the hotel and there are plenty of eating options around, including restaurants that serve a dog meat!\\t\\r\\n\"\n"
     ]
    }
   ],
   "source": [
    "input_file = \"./reviews_data.txt.gz\"\n",
    "\n",
    "with gzip.open(input_file, 'rb') as f:\n",
    "    total_line=0\n",
    "    for i, line in enumerate(f):\n",
    "        total_line+=1\n",
    "        if i == 0: print(line)"
   ]
  },
  {
   "cell_type": "code",
   "execution_count": 4,
   "metadata": {},
   "outputs": [
    {
     "name": "stdout",
     "output_type": "stream",
     "text": [
      "There are 255404 reviews in this dataset.\n"
     ]
    }
   ],
   "source": [
    "print(\"There are %s reviews in this dataset.\" % total_line)"
   ]
  },
  {
   "cell_type": "markdown",
   "metadata": {},
   "source": [
    "## Preprocess Dataset"
   ]
  },
  {
   "cell_type": "code",
   "execution_count": 5,
   "metadata": {},
   "outputs": [
    {
     "name": "stderr",
     "output_type": "stream",
     "text": [
      "2018-11-24 11:31:45,878 : INFO : reading file ./reviews_data.txt.gz...this may take a while\n",
      "2018-11-24 11:31:45,887 : INFO : read 0 reviews\n",
      "2018-11-24 11:31:48,845 : INFO : read 10000 reviews\n",
      "2018-11-24 11:31:51,907 : INFO : read 20000 reviews\n",
      "2018-11-24 11:31:55,368 : INFO : read 30000 reviews\n",
      "2018-11-24 11:31:58,583 : INFO : read 40000 reviews\n",
      "2018-11-24 11:32:02,301 : INFO : read 50000 reviews\n",
      "2018-11-24 11:32:05,941 : INFO : read 60000 reviews\n",
      "2018-11-24 11:32:09,027 : INFO : read 70000 reviews\n",
      "2018-11-24 11:32:11,768 : INFO : read 80000 reviews\n",
      "2018-11-24 11:32:14,866 : INFO : read 90000 reviews\n",
      "2018-11-24 11:32:18,098 : INFO : read 100000 reviews\n",
      "2018-11-24 11:32:20,896 : INFO : read 110000 reviews\n",
      "2018-11-24 11:32:25,515 : INFO : read 120000 reviews\n",
      "2018-11-24 11:32:28,387 : INFO : read 130000 reviews\n",
      "2018-11-24 11:32:32,903 : INFO : read 140000 reviews\n",
      "2018-11-24 11:32:36,024 : INFO : read 150000 reviews\n",
      "2018-11-24 11:32:39,919 : INFO : read 160000 reviews\n",
      "2018-11-24 11:32:43,469 : INFO : read 170000 reviews\n",
      "2018-11-24 11:32:47,013 : INFO : read 180000 reviews\n",
      "2018-11-24 11:32:50,181 : INFO : read 190000 reviews\n",
      "2018-11-24 11:32:53,628 : INFO : read 200000 reviews\n",
      "2018-11-24 11:33:00,693 : INFO : read 210000 reviews\n",
      "2018-11-24 11:33:05,274 : INFO : read 220000 reviews\n",
      "2018-11-24 11:33:08,911 : INFO : read 230000 reviews\n",
      "2018-11-24 11:33:12,597 : INFO : read 240000 reviews\n",
      "2018-11-24 11:33:15,779 : INFO : read 250000 reviews\n",
      "2018-11-24 11:33:17,405 : INFO : Done reading data file\n"
     ]
    }
   ],
   "source": [
    "def read_input(input_file):\n",
    "    \"\"\"This method reads the input file which is in gzip format\"\"\"\n",
    "    \n",
    "    logging.info(\"reading file {0}... his may take a while\".format(input_file))\n",
    "    \n",
    "    with gzip.open(input_file, 'rb') as f:\n",
    "        for i, line in enumerate(f):\n",
    "            \n",
    "            if(i%10000==0):\n",
    "                logging.info(\"read {0} reviews\".format(i))\n",
    "                \n",
    "            # do some pre-processing and return a list of words for each review text\n",
    "            yield gensim.utils.simple_preprocess(line)\n",
    "            \n",
    "# read the tokenized reviews into a list\n",
    "# each review item becomes a series of words\n",
    "# so this becomes a list of lists\n",
    "documents = list(read_input(input_file))\n",
    "logging.info(\"Done reading data file\")"
   ]
  },
  {
   "cell_type": "markdown",
   "metadata": {},
   "source": [
    "## Train The Word2Vec Model"
   ]
  },
  {
   "cell_type": "code",
   "execution_count": 6,
   "metadata": {},
   "outputs": [
    {
     "name": "stderr",
     "output_type": "stream",
     "text": [
      "2018-11-24 13:03:20,734 : WARNING : consider setting layer size to a multiple of 4 for greater performance\n",
      "2018-11-24 13:03:20,739 : INFO : collecting all words and their counts\n",
      "2018-11-24 13:03:20,742 : INFO : PROGRESS: at sentence #0, processed 0 words, keeping 0 word types\n",
      "2018-11-24 13:03:21,369 : INFO : PROGRESS: at sentence #10000, processed 1655714 words, keeping 25777 word types\n",
      "2018-11-24 13:03:21,871 : INFO : PROGRESS: at sentence #20000, processed 3317863 words, keeping 35016 word types\n",
      "2018-11-24 13:03:22,894 : INFO : PROGRESS: at sentence #30000, processed 5264072 words, keeping 47518 word types\n",
      "2018-11-24 13:03:23,639 : INFO : PROGRESS: at sentence #40000, processed 7081746 words, keeping 56675 word types\n",
      "2018-11-24 13:03:24,180 : INFO : PROGRESS: at sentence #50000, processed 9089491 words, keeping 63744 word types\n",
      "2018-11-24 13:03:24,724 : INFO : PROGRESS: at sentence #60000, processed 11013723 words, keeping 76781 word types\n",
      "2018-11-24 13:03:25,196 : INFO : PROGRESS: at sentence #70000, processed 12637525 words, keeping 83194 word types\n",
      "2018-11-24 13:03:25,662 : INFO : PROGRESS: at sentence #80000, processed 14099751 words, keeping 88454 word types\n",
      "2018-11-24 13:03:26,081 : INFO : PROGRESS: at sentence #90000, processed 15662149 words, keeping 93352 word types\n",
      "2018-11-24 13:03:26,485 : INFO : PROGRESS: at sentence #100000, processed 17164487 words, keeping 97881 word types\n",
      "2018-11-24 13:03:27,230 : INFO : PROGRESS: at sentence #110000, processed 18652292 words, keeping 102127 word types\n",
      "2018-11-24 13:03:27,642 : INFO : PROGRESS: at sentence #120000, processed 20152529 words, keeping 105918 word types\n",
      "2018-11-24 13:03:28,175 : INFO : PROGRESS: at sentence #130000, processed 21684330 words, keeping 110099 word types\n",
      "2018-11-24 13:03:28,652 : INFO : PROGRESS: at sentence #140000, processed 23330206 words, keeping 114103 word types\n",
      "2018-11-24 13:03:29,082 : INFO : PROGRESS: at sentence #150000, processed 24838754 words, keeping 118169 word types\n",
      "2018-11-24 13:03:29,505 : INFO : PROGRESS: at sentence #160000, processed 26390910 words, keeping 118665 word types\n",
      "2018-11-24 13:03:29,943 : INFO : PROGRESS: at sentence #170000, processed 27913916 words, keeping 123350 word types\n",
      "2018-11-24 13:03:30,364 : INFO : PROGRESS: at sentence #180000, processed 29535612 words, keeping 126742 word types\n",
      "2018-11-24 13:03:30,854 : INFO : PROGRESS: at sentence #190000, processed 31096459 words, keeping 129841 word types\n",
      "2018-11-24 13:03:31,487 : INFO : PROGRESS: at sentence #200000, processed 32805271 words, keeping 133249 word types\n",
      "2018-11-24 13:03:31,962 : INFO : PROGRESS: at sentence #210000, processed 34434198 words, keeping 136358 word types\n",
      "2018-11-24 13:03:32,630 : INFO : PROGRESS: at sentence #220000, processed 36083482 words, keeping 139412 word types\n",
      "2018-11-24 13:03:33,107 : INFO : PROGRESS: at sentence #230000, processed 37571762 words, keeping 142393 word types\n",
      "2018-11-24 13:03:33,590 : INFO : PROGRESS: at sentence #240000, processed 39138190 words, keeping 145226 word types\n",
      "2018-11-24 13:03:34,027 : INFO : PROGRESS: at sentence #250000, processed 40695049 words, keeping 147960 word types\n",
      "2018-11-24 13:03:34,250 : INFO : collected 150053 word types from a corpus of 41519355 raw words and 255404 sentences\n",
      "2018-11-24 13:03:34,255 : INFO : Loading a fresh vocabulary\n",
      "2018-11-24 13:03:34,484 : INFO : min_count=2 retains 70538 unique words (47% of original 150053, drops 79515)\n",
      "2018-11-24 13:03:34,486 : INFO : min_count=2 leaves 41439840 word corpus (99% of original 41519355, drops 79515)\n",
      "2018-11-24 13:03:34,755 : INFO : deleting the raw counts dictionary of 150053 items\n",
      "2018-11-24 13:03:34,771 : INFO : sample=0.001 downsamples 55 most-common words\n",
      "2018-11-24 13:03:34,775 : INFO : downsampling leaves estimated 30349255 word corpus (73.2% of prior 41439840)\n",
      "2018-11-24 13:03:35,085 : INFO : estimated required memory for 70538 words and 150 dimensions: 119914600 bytes\n",
      "2018-11-24 13:03:35,087 : INFO : resetting layer weights\n",
      "2018-11-24 13:03:36,307 : INFO : training model with 10 workers on 70538 vocabulary and 150 features, using sg=0 hs=0 sample=0.001 negative=5 window=10\n",
      "2018-11-24 13:03:37,343 : INFO : EPOCH 1 - PROGRESS: at 1.76% examples, 553763 words/s, in_qsize 18, out_qsize 1\n",
      "2018-11-24 13:03:38,357 : INFO : EPOCH 1 - PROGRESS: at 3.84% examples, 589521 words/s, in_qsize 19, out_qsize 0\n",
      "2018-11-24 13:03:39,361 : INFO : EPOCH 1 - PROGRESS: at 6.28% examples, 641609 words/s, in_qsize 19, out_qsize 0\n",
      "2018-11-24 13:03:40,366 : INFO : EPOCH 1 - PROGRESS: at 8.53% examples, 654670 words/s, in_qsize 19, out_qsize 0\n",
      "2018-11-24 13:03:41,372 : INFO : EPOCH 1 - PROGRESS: at 10.23% examples, 649442 words/s, in_qsize 17, out_qsize 2\n",
      "2018-11-24 13:03:42,392 : INFO : EPOCH 1 - PROGRESS: at 11.63% examples, 626812 words/s, in_qsize 18, out_qsize 1\n",
      "2018-11-24 13:03:43,396 : INFO : EPOCH 1 - PROGRESS: at 13.05% examples, 609898 words/s, in_qsize 19, out_qsize 0\n",
      "2018-11-24 13:03:44,396 : INFO : EPOCH 1 - PROGRESS: at 15.13% examples, 622596 words/s, in_qsize 19, out_qsize 0\n",
      "2018-11-24 13:03:45,433 : INFO : EPOCH 1 - PROGRESS: at 17.11% examples, 628461 words/s, in_qsize 19, out_qsize 0\n",
      "2018-11-24 13:03:46,484 : INFO : EPOCH 1 - PROGRESS: at 19.14% examples, 637734 words/s, in_qsize 18, out_qsize 1\n",
      "2018-11-24 13:03:47,511 : INFO : EPOCH 1 - PROGRESS: at 21.03% examples, 646520 words/s, in_qsize 17, out_qsize 2\n",
      "2018-11-24 13:03:48,518 : INFO : EPOCH 1 - PROGRESS: at 23.13% examples, 649579 words/s, in_qsize 19, out_qsize 0\n",
      "2018-11-24 13:03:49,521 : INFO : EPOCH 1 - PROGRESS: at 25.19% examples, 654678 words/s, in_qsize 19, out_qsize 0\n",
      "2018-11-24 13:03:50,523 : INFO : EPOCH 1 - PROGRESS: at 27.80% examples, 657855 words/s, in_qsize 20, out_qsize 0\n",
      "2018-11-24 13:03:51,541 : INFO : EPOCH 1 - PROGRESS: at 30.26% examples, 660289 words/s, in_qsize 20, out_qsize 0\n",
      "2018-11-24 13:03:52,557 : INFO : EPOCH 1 - PROGRESS: at 32.98% examples, 663856 words/s, in_qsize 18, out_qsize 1\n",
      "2018-11-24 13:03:53,588 : INFO : EPOCH 1 - PROGRESS: at 35.37% examples, 666115 words/s, in_qsize 19, out_qsize 0\n",
      "2018-11-24 13:03:54,606 : INFO : EPOCH 1 - PROGRESS: at 37.50% examples, 662120 words/s, in_qsize 19, out_qsize 0\n",
      "2018-11-24 13:03:55,607 : INFO : EPOCH 1 - PROGRESS: at 39.29% examples, 653142 words/s, in_qsize 19, out_qsize 0\n",
      "2018-11-24 13:03:56,608 : INFO : EPOCH 1 - PROGRESS: at 41.32% examples, 648686 words/s, in_qsize 14, out_qsize 5\n",
      "2018-11-24 13:03:57,614 : INFO : EPOCH 1 - PROGRESS: at 43.66% examples, 648470 words/s, in_qsize 19, out_qsize 0\n",
      "2018-11-24 13:03:58,619 : INFO : EPOCH 1 - PROGRESS: at 46.27% examples, 651276 words/s, in_qsize 19, out_qsize 0\n",
      "2018-11-24 13:03:59,631 : INFO : EPOCH 1 - PROGRESS: at 48.52% examples, 651444 words/s, in_qsize 19, out_qsize 0\n",
      "2018-11-24 13:04:00,633 : INFO : EPOCH 1 - PROGRESS: at 51.16% examples, 655943 words/s, in_qsize 19, out_qsize 0\n",
      "2018-11-24 13:04:01,644 : INFO : EPOCH 1 - PROGRESS: at 53.35% examples, 656730 words/s, in_qsize 17, out_qsize 2\n",
      "2018-11-24 13:04:02,688 : INFO : EPOCH 1 - PROGRESS: at 56.14% examples, 660360 words/s, in_qsize 19, out_qsize 0\n",
      "2018-11-24 13:04:03,700 : INFO : EPOCH 1 - PROGRESS: at 58.42% examples, 660520 words/s, in_qsize 19, out_qsize 0\n",
      "2018-11-24 13:04:04,787 : INFO : EPOCH 1 - PROGRESS: at 60.51% examples, 656443 words/s, in_qsize 19, out_qsize 7\n",
      "2018-11-24 13:04:05,787 : INFO : EPOCH 1 - PROGRESS: at 63.15% examples, 659945 words/s, in_qsize 19, out_qsize 0\n",
      "2018-11-24 13:04:06,795 : INFO : EPOCH 1 - PROGRESS: at 65.37% examples, 657957 words/s, in_qsize 19, out_qsize 0\n",
      "2018-11-24 13:04:07,797 : INFO : EPOCH 1 - PROGRESS: at 66.71% examples, 650194 words/s, in_qsize 19, out_qsize 0\n",
      "2018-11-24 13:04:08,800 : INFO : EPOCH 1 - PROGRESS: at 68.51% examples, 646494 words/s, in_qsize 18, out_qsize 1\n",
      "2018-11-24 13:04:09,806 : INFO : EPOCH 1 - PROGRESS: at 70.63% examples, 646637 words/s, in_qsize 20, out_qsize 0\n",
      "2018-11-24 13:04:10,810 : INFO : EPOCH 1 - PROGRESS: at 72.69% examples, 645627 words/s, in_qsize 18, out_qsize 1\n",
      "2018-11-24 13:04:11,833 : INFO : EPOCH 1 - PROGRESS: at 74.86% examples, 644426 words/s, in_qsize 19, out_qsize 0\n",
      "2018-11-24 13:04:12,877 : INFO : EPOCH 1 - PROGRESS: at 76.61% examples, 641576 words/s, in_qsize 18, out_qsize 1\n"
     ]
    },
    {
     "name": "stderr",
     "output_type": "stream",
     "text": [
      "2018-11-24 13:04:13,890 : INFO : EPOCH 1 - PROGRESS: at 78.81% examples, 642839 words/s, in_qsize 16, out_qsize 4\n",
      "2018-11-24 13:04:14,902 : INFO : EPOCH 1 - PROGRESS: at 81.21% examples, 645202 words/s, in_qsize 18, out_qsize 2\n",
      "2018-11-24 13:04:15,921 : INFO : EPOCH 1 - PROGRESS: at 83.63% examples, 646809 words/s, in_qsize 17, out_qsize 2\n",
      "2018-11-24 13:04:16,926 : INFO : EPOCH 1 - PROGRESS: at 86.08% examples, 649552 words/s, in_qsize 19, out_qsize 0\n",
      "2018-11-24 13:04:17,926 : INFO : EPOCH 1 - PROGRESS: at 88.52% examples, 649899 words/s, in_qsize 17, out_qsize 2\n",
      "2018-11-24 13:04:18,938 : INFO : EPOCH 1 - PROGRESS: at 90.83% examples, 649904 words/s, in_qsize 19, out_qsize 0\n",
      "2018-11-24 13:04:19,951 : INFO : EPOCH 1 - PROGRESS: at 92.96% examples, 649184 words/s, in_qsize 20, out_qsize 0\n",
      "2018-11-24 13:04:20,970 : INFO : EPOCH 1 - PROGRESS: at 95.06% examples, 648118 words/s, in_qsize 19, out_qsize 0\n",
      "2018-11-24 13:04:21,986 : INFO : EPOCH 1 - PROGRESS: at 97.29% examples, 647747 words/s, in_qsize 20, out_qsize 0\n",
      "2018-11-24 13:04:23,007 : INFO : EPOCH 1 - PROGRESS: at 99.57% examples, 647813 words/s, in_qsize 17, out_qsize 0\n",
      "2018-11-24 13:04:23,110 : INFO : worker thread finished; awaiting finish of 9 more threads\n",
      "2018-11-24 13:04:23,114 : INFO : worker thread finished; awaiting finish of 8 more threads\n",
      "2018-11-24 13:04:23,117 : INFO : worker thread finished; awaiting finish of 7 more threads\n",
      "2018-11-24 13:04:23,154 : INFO : worker thread finished; awaiting finish of 6 more threads\n",
      "2018-11-24 13:04:23,189 : INFO : worker thread finished; awaiting finish of 5 more threads\n",
      "2018-11-24 13:04:23,209 : INFO : worker thread finished; awaiting finish of 4 more threads\n",
      "2018-11-24 13:04:23,224 : INFO : worker thread finished; awaiting finish of 3 more threads\n",
      "2018-11-24 13:04:23,230 : INFO : worker thread finished; awaiting finish of 2 more threads\n",
      "2018-11-24 13:04:23,242 : INFO : worker thread finished; awaiting finish of 1 more threads\n",
      "2018-11-24 13:04:23,254 : INFO : worker thread finished; awaiting finish of 0 more threads\n",
      "2018-11-24 13:04:23,257 : INFO : EPOCH - 1 : training on 41519355 raw words (30350188 effective words) took 46.9s, 646886 effective words/s\n",
      "2018-11-24 13:04:24,282 : INFO : EPOCH 2 - PROGRESS: at 1.71% examples, 537256 words/s, in_qsize 15, out_qsize 4\n",
      "2018-11-24 13:04:25,328 : INFO : EPOCH 2 - PROGRESS: at 3.73% examples, 561618 words/s, in_qsize 20, out_qsize 1\n",
      "2018-11-24 13:04:26,342 : INFO : EPOCH 2 - PROGRESS: at 5.64% examples, 566190 words/s, in_qsize 19, out_qsize 0\n",
      "2018-11-24 13:04:27,350 : INFO : EPOCH 2 - PROGRESS: at 7.95% examples, 604394 words/s, in_qsize 19, out_qsize 0\n",
      "2018-11-24 13:04:28,360 : INFO : EPOCH 2 - PROGRESS: at 10.07% examples, 629672 words/s, in_qsize 18, out_qsize 1\n",
      "2018-11-24 13:04:29,364 : INFO : EPOCH 2 - PROGRESS: at 12.07% examples, 649880 words/s, in_qsize 19, out_qsize 0\n",
      "2018-11-24 13:04:30,384 : INFO : EPOCH 2 - PROGRESS: at 13.69% examples, 633694 words/s, in_qsize 19, out_qsize 0\n",
      "2018-11-24 13:04:31,399 : INFO : EPOCH 2 - PROGRESS: at 15.79% examples, 643312 words/s, in_qsize 17, out_qsize 2\n",
      "2018-11-24 13:04:32,401 : INFO : EPOCH 2 - PROGRESS: at 17.16% examples, 628640 words/s, in_qsize 19, out_qsize 0\n",
      "2018-11-24 13:04:33,402 : INFO : EPOCH 2 - PROGRESS: at 18.64% examples, 619124 words/s, in_qsize 20, out_qsize 0\n",
      "2018-11-24 13:04:34,447 : INFO : EPOCH 2 - PROGRESS: at 20.15% examples, 614872 words/s, in_qsize 17, out_qsize 2\n",
      "2018-11-24 13:04:35,449 : INFO : EPOCH 2 - PROGRESS: at 22.09% examples, 616079 words/s, in_qsize 19, out_qsize 0\n",
      "2018-11-24 13:04:36,465 : INFO : EPOCH 2 - PROGRESS: at 23.59% examples, 612912 words/s, in_qsize 18, out_qsize 1\n",
      "2018-11-24 13:04:37,478 : INFO : EPOCH 2 - PROGRESS: at 25.24% examples, 608667 words/s, in_qsize 19, out_qsize 0\n",
      "2018-11-24 13:04:38,493 : INFO : EPOCH 2 - PROGRESS: at 27.27% examples, 604174 words/s, in_qsize 18, out_qsize 1\n",
      "2018-11-24 13:04:39,494 : INFO : EPOCH 2 - PROGRESS: at 29.15% examples, 598926 words/s, in_qsize 17, out_qsize 2\n",
      "2018-11-24 13:04:40,494 : INFO : EPOCH 2 - PROGRESS: at 31.64% examples, 603535 words/s, in_qsize 18, out_qsize 1\n",
      "2018-11-24 13:04:41,516 : INFO : EPOCH 2 - PROGRESS: at 33.59% examples, 600902 words/s, in_qsize 19, out_qsize 0\n",
      "2018-11-24 13:04:42,516 : INFO : EPOCH 2 - PROGRESS: at 35.25% examples, 595255 words/s, in_qsize 18, out_qsize 1\n",
      "2018-11-24 13:04:43,535 : INFO : EPOCH 2 - PROGRESS: at 37.35% examples, 594873 words/s, in_qsize 18, out_qsize 1\n",
      "2018-11-24 13:04:44,543 : INFO : EPOCH 2 - PROGRESS: at 39.54% examples, 595472 words/s, in_qsize 18, out_qsize 1\n",
      "2018-11-24 13:04:45,570 : INFO : EPOCH 2 - PROGRESS: at 41.71% examples, 594260 words/s, in_qsize 20, out_qsize 0\n",
      "2018-11-24 13:04:46,585 : INFO : EPOCH 2 - PROGRESS: at 43.77% examples, 593093 words/s, in_qsize 19, out_qsize 0\n",
      "2018-11-24 13:04:47,588 : INFO : EPOCH 2 - PROGRESS: at 46.10% examples, 594391 words/s, in_qsize 19, out_qsize 1\n",
      "2018-11-24 13:04:48,596 : INFO : EPOCH 2 - PROGRESS: at 47.86% examples, 591768 words/s, in_qsize 17, out_qsize 2\n",
      "2018-11-24 13:04:49,606 : INFO : EPOCH 2 - PROGRESS: at 50.03% examples, 592332 words/s, in_qsize 20, out_qsize 0\n",
      "2018-11-24 13:04:50,619 : INFO : EPOCH 2 - PROGRESS: at 51.90% examples, 590609 words/s, in_qsize 20, out_qsize 2\n",
      "2018-11-24 13:04:51,645 : INFO : EPOCH 2 - PROGRESS: at 53.74% examples, 589814 words/s, in_qsize 18, out_qsize 1\n",
      "2018-11-24 13:04:52,693 : INFO : EPOCH 2 - PROGRESS: at 55.75% examples, 587735 words/s, in_qsize 16, out_qsize 3\n",
      "2018-11-24 13:04:53,714 : INFO : EPOCH 2 - PROGRESS: at 57.77% examples, 587268 words/s, in_qsize 19, out_qsize 0\n",
      "2018-11-24 13:04:54,715 : INFO : EPOCH 2 - PROGRESS: at 60.00% examples, 589265 words/s, in_qsize 19, out_qsize 0\n",
      "2018-11-24 13:04:55,723 : INFO : EPOCH 2 - PROGRESS: at 62.06% examples, 589741 words/s, in_qsize 19, out_qsize 0\n",
      "2018-11-24 13:04:56,732 : INFO : EPOCH 2 - PROGRESS: at 64.65% examples, 591990 words/s, in_qsize 19, out_qsize 0\n",
      "2018-11-24 13:04:57,742 : INFO : EPOCH 2 - PROGRESS: at 67.04% examples, 596272 words/s, in_qsize 20, out_qsize 0\n",
      "2018-11-24 13:04:58,750 : INFO : EPOCH 2 - PROGRESS: at 69.39% examples, 599000 words/s, in_qsize 18, out_qsize 1\n",
      "2018-11-24 13:04:59,756 : INFO : EPOCH 2 - PROGRESS: at 71.71% examples, 602263 words/s, in_qsize 19, out_qsize 0\n",
      "2018-11-24 13:05:00,771 : INFO : EPOCH 2 - PROGRESS: at 74.22% examples, 604808 words/s, in_qsize 19, out_qsize 0\n",
      "2018-11-24 13:05:01,790 : INFO : EPOCH 2 - PROGRESS: at 76.51% examples, 607862 words/s, in_qsize 20, out_qsize 1\n",
      "2018-11-24 13:05:02,805 : INFO : EPOCH 2 - PROGRESS: at 78.59% examples, 608645 words/s, in_qsize 19, out_qsize 0\n",
      "2018-11-24 13:05:03,818 : INFO : EPOCH 2 - PROGRESS: at 80.37% examples, 607144 words/s, in_qsize 18, out_qsize 1\n",
      "2018-11-24 13:05:04,839 : INFO : EPOCH 2 - PROGRESS: at 82.80% examples, 609688 words/s, in_qsize 19, out_qsize 0\n",
      "2018-11-24 13:05:05,845 : INFO : EPOCH 2 - PROGRESS: at 85.13% examples, 612504 words/s, in_qsize 17, out_qsize 2\n",
      "2018-11-24 13:05:06,893 : INFO : EPOCH 2 - PROGRESS: at 87.83% examples, 615140 words/s, in_qsize 18, out_qsize 2\n",
      "2018-11-24 13:05:07,907 : INFO : EPOCH 2 - PROGRESS: at 90.54% examples, 618509 words/s, in_qsize 20, out_qsize 0\n",
      "2018-11-24 13:05:08,912 : INFO : EPOCH 2 - PROGRESS: at 93.03% examples, 620823 words/s, in_qsize 19, out_qsize 0\n",
      "2018-11-24 13:05:09,928 : INFO : EPOCH 2 - PROGRESS: at 95.49% examples, 622506 words/s, in_qsize 19, out_qsize 1\n",
      "2018-11-24 13:05:10,954 : INFO : EPOCH 2 - PROGRESS: at 97.86% examples, 623740 words/s, in_qsize 20, out_qsize 1\n",
      "2018-11-24 13:05:11,696 : INFO : worker thread finished; awaiting finish of 9 more threads\n",
      "2018-11-24 13:05:11,701 : INFO : worker thread finished; awaiting finish of 8 more threads\n",
      "2018-11-24 13:05:11,715 : INFO : worker thread finished; awaiting finish of 7 more threads\n",
      "2018-11-24 13:05:11,718 : INFO : worker thread finished; awaiting finish of 6 more threads\n",
      "2018-11-24 13:05:11,722 : INFO : worker thread finished; awaiting finish of 5 more threads\n",
      "2018-11-24 13:05:11,726 : INFO : worker thread finished; awaiting finish of 4 more threads\n",
      "2018-11-24 13:05:11,737 : INFO : worker thread finished; awaiting finish of 3 more threads\n",
      "2018-11-24 13:05:11,752 : INFO : worker thread finished; awaiting finish of 2 more threads\n"
     ]
    },
    {
     "name": "stderr",
     "output_type": "stream",
     "text": [
      "2018-11-24 13:05:11,757 : INFO : worker thread finished; awaiting finish of 1 more threads\n",
      "2018-11-24 13:05:11,769 : INFO : worker thread finished; awaiting finish of 0 more threads\n",
      "2018-11-24 13:05:11,773 : INFO : EPOCH - 2 : training on 41519355 raw words (30350511 effective words) took 48.5s, 625787 effective words/s\n",
      "2018-11-24 13:05:12,816 : INFO : EPOCH 3 - PROGRESS: at 2.21% examples, 687730 words/s, in_qsize 18, out_qsize 1\n",
      "2018-11-24 13:05:13,828 : INFO : EPOCH 3 - PROGRESS: at 4.65% examples, 707486 words/s, in_qsize 19, out_qsize 0\n",
      "2018-11-24 13:05:14,851 : INFO : EPOCH 3 - PROGRESS: at 7.08% examples, 713019 words/s, in_qsize 17, out_qsize 2\n",
      "2018-11-24 13:05:15,872 : INFO : EPOCH 3 - PROGRESS: at 9.22% examples, 705319 words/s, in_qsize 19, out_qsize 0\n",
      "2018-11-24 13:05:16,874 : INFO : EPOCH 3 - PROGRESS: at 11.10% examples, 707633 words/s, in_qsize 19, out_qsize 0\n",
      "2018-11-24 13:05:17,907 : INFO : EPOCH 3 - PROGRESS: at 13.14% examples, 708191 words/s, in_qsize 16, out_qsize 3\n",
      "2018-11-24 13:05:18,920 : INFO : EPOCH 3 - PROGRESS: at 15.41% examples, 715697 words/s, in_qsize 19, out_qsize 0\n",
      "2018-11-24 13:05:19,937 : INFO : EPOCH 3 - PROGRESS: at 17.30% examples, 711329 words/s, in_qsize 19, out_qsize 0\n",
      "2018-11-24 13:05:20,947 : INFO : EPOCH 3 - PROGRESS: at 18.77% examples, 690906 words/s, in_qsize 20, out_qsize 0\n",
      "2018-11-24 13:05:21,963 : INFO : EPOCH 3 - PROGRESS: at 20.26% examples, 680252 words/s, in_qsize 20, out_qsize 0\n",
      "2018-11-24 13:05:22,973 : INFO : EPOCH 3 - PROGRESS: at 22.46% examples, 683522 words/s, in_qsize 17, out_qsize 2\n",
      "2018-11-24 13:05:23,991 : INFO : EPOCH 3 - PROGRESS: at 24.27% examples, 684895 words/s, in_qsize 19, out_qsize 0\n",
      "2018-11-24 13:05:24,994 : INFO : EPOCH 3 - PROGRESS: at 26.68% examples, 684770 words/s, in_qsize 19, out_qsize 1\n",
      "2018-11-24 13:05:25,995 : INFO : EPOCH 3 - PROGRESS: at 28.97% examples, 680241 words/s, in_qsize 19, out_qsize 0\n",
      "2018-11-24 13:05:27,022 : INFO : EPOCH 3 - PROGRESS: at 31.57% examples, 681238 words/s, in_qsize 16, out_qsize 3\n",
      "2018-11-24 13:05:28,044 : INFO : EPOCH 3 - PROGRESS: at 34.10% examples, 684562 words/s, in_qsize 19, out_qsize 0\n",
      "2018-11-24 13:05:29,069 : INFO : EPOCH 3 - PROGRESS: at 36.72% examples, 686982 words/s, in_qsize 19, out_qsize 0\n",
      "2018-11-24 13:05:30,088 : INFO : EPOCH 3 - PROGRESS: at 38.78% examples, 680599 words/s, in_qsize 19, out_qsize 1\n",
      "2018-11-24 13:05:31,099 : INFO : EPOCH 3 - PROGRESS: at 40.56% examples, 671463 words/s, in_qsize 18, out_qsize 1\n",
      "2018-11-24 13:05:32,102 : INFO : EPOCH 3 - PROGRESS: at 42.76% examples, 667755 words/s, in_qsize 19, out_qsize 0\n",
      "2018-11-24 13:05:33,107 : INFO : EPOCH 3 - PROGRESS: at 45.28% examples, 667728 words/s, in_qsize 17, out_qsize 2\n",
      "2018-11-24 13:05:34,124 : INFO : EPOCH 3 - PROGRESS: at 47.81% examples, 670602 words/s, in_qsize 20, out_qsize 1\n",
      "2018-11-24 13:05:35,150 : INFO : EPOCH 3 - PROGRESS: at 50.39% examples, 672568 words/s, in_qsize 20, out_qsize 0\n",
      "2018-11-24 13:05:36,155 : INFO : EPOCH 3 - PROGRESS: at 52.69% examples, 673441 words/s, in_qsize 20, out_qsize 0\n",
      "2018-11-24 13:05:37,156 : INFO : EPOCH 3 - PROGRESS: at 54.20% examples, 665035 words/s, in_qsize 16, out_qsize 3\n",
      "2018-11-24 13:05:38,160 : INFO : EPOCH 3 - PROGRESS: at 56.45% examples, 663563 words/s, in_qsize 19, out_qsize 0\n",
      "2018-11-24 13:05:39,179 : INFO : EPOCH 3 - PROGRESS: at 57.97% examples, 655260 words/s, in_qsize 19, out_qsize 0\n",
      "2018-11-24 13:05:40,183 : INFO : EPOCH 3 - PROGRESS: at 60.06% examples, 653253 words/s, in_qsize 18, out_qsize 1\n",
      "2018-11-24 13:05:41,219 : INFO : EPOCH 3 - PROGRESS: at 62.46% examples, 653867 words/s, in_qsize 20, out_qsize 0\n",
      "2018-11-24 13:05:42,220 : INFO : EPOCH 3 - PROGRESS: at 65.37% examples, 658618 words/s, in_qsize 19, out_qsize 0\n",
      "2018-11-24 13:05:43,256 : INFO : EPOCH 3 - PROGRESS: at 66.63% examples, 649429 words/s, in_qsize 16, out_qsize 3\n",
      "2018-11-24 13:05:44,272 : INFO : EPOCH 3 - PROGRESS: at 68.17% examples, 642851 words/s, in_qsize 19, out_qsize 0\n",
      "2018-11-24 13:05:45,300 : INFO : EPOCH 3 - PROGRESS: at 69.66% examples, 636847 words/s, in_qsize 20, out_qsize 1\n",
      "2018-11-24 13:05:46,312 : INFO : EPOCH 3 - PROGRESS: at 71.39% examples, 633675 words/s, in_qsize 18, out_qsize 4\n",
      "2018-11-24 13:05:47,339 : INFO : EPOCH 3 - PROGRESS: at 72.83% examples, 627135 words/s, in_qsize 19, out_qsize 0\n",
      "2018-11-24 13:05:48,359 : INFO : EPOCH 3 - PROGRESS: at 74.98% examples, 626728 words/s, in_qsize 17, out_qsize 2\n",
      "2018-11-24 13:05:49,367 : INFO : EPOCH 3 - PROGRESS: at 76.38% examples, 622215 words/s, in_qsize 19, out_qsize 0\n",
      "2018-11-24 13:05:50,377 : INFO : EPOCH 3 - PROGRESS: at 78.30% examples, 621611 words/s, in_qsize 19, out_qsize 0\n",
      "2018-11-24 13:05:51,387 : INFO : EPOCH 3 - PROGRESS: at 80.58% examples, 623396 words/s, in_qsize 18, out_qsize 2\n",
      "2018-11-24 13:05:52,391 : INFO : EPOCH 3 - PROGRESS: at 83.15% examples, 626771 words/s, in_qsize 20, out_qsize 0\n",
      "2018-11-24 13:05:53,394 : INFO : EPOCH 3 - PROGRESS: at 85.42% examples, 629083 words/s, in_qsize 20, out_qsize 0\n",
      "2018-11-24 13:05:54,418 : INFO : EPOCH 3 - PROGRESS: at 86.98% examples, 624119 words/s, in_qsize 18, out_qsize 1\n",
      "2018-11-24 13:05:55,435 : INFO : EPOCH 3 - PROGRESS: at 88.41% examples, 618665 words/s, in_qsize 19, out_qsize 0\n",
      "2018-11-24 13:05:56,453 : INFO : EPOCH 3 - PROGRESS: at 89.82% examples, 613631 words/s, in_qsize 20, out_qsize 0\n",
      "2018-11-24 13:05:57,466 : INFO : EPOCH 3 - PROGRESS: at 91.69% examples, 611567 words/s, in_qsize 19, out_qsize 0\n",
      "2018-11-24 13:05:58,513 : INFO : EPOCH 3 - PROGRESS: at 92.95% examples, 606028 words/s, in_qsize 20, out_qsize 0\n",
      "2018-11-24 13:05:59,544 : INFO : EPOCH 3 - PROGRESS: at 94.33% examples, 601259 words/s, in_qsize 20, out_qsize 0\n",
      "2018-11-24 13:06:00,545 : INFO : EPOCH 3 - PROGRESS: at 95.86% examples, 598103 words/s, in_qsize 20, out_qsize 0\n",
      "2018-11-24 13:06:01,556 : INFO : EPOCH 3 - PROGRESS: at 97.91% examples, 597935 words/s, in_qsize 19, out_qsize 2\n",
      "2018-11-24 13:06:02,515 : INFO : worker thread finished; awaiting finish of 9 more threads\n",
      "2018-11-24 13:06:02,535 : INFO : worker thread finished; awaiting finish of 8 more threads\n",
      "2018-11-24 13:06:02,554 : INFO : worker thread finished; awaiting finish of 7 more threads\n",
      "2018-11-24 13:06:02,557 : INFO : EPOCH 3 - PROGRESS: at 99.87% examples, 597025 words/s, in_qsize 5, out_qsize 3\n",
      "2018-11-24 13:06:02,560 : INFO : worker thread finished; awaiting finish of 6 more threads\n",
      "2018-11-24 13:06:02,565 : INFO : worker thread finished; awaiting finish of 5 more threads\n",
      "2018-11-24 13:06:02,569 : INFO : worker thread finished; awaiting finish of 4 more threads\n",
      "2018-11-24 13:06:02,577 : INFO : worker thread finished; awaiting finish of 3 more threads\n",
      "2018-11-24 13:06:02,596 : INFO : worker thread finished; awaiting finish of 2 more threads\n",
      "2018-11-24 13:06:02,602 : INFO : worker thread finished; awaiting finish of 1 more threads\n",
      "2018-11-24 13:06:02,612 : INFO : worker thread finished; awaiting finish of 0 more threads\n",
      "2018-11-24 13:06:02,614 : INFO : EPOCH - 3 : training on 41519355 raw words (30347283 effective words) took 50.8s, 597211 effective words/s\n",
      "2018-11-24 13:06:03,630 : INFO : EPOCH 4 - PROGRESS: at 2.34% examples, 736465 words/s, in_qsize 19, out_qsize 0\n",
      "2018-11-24 13:06:04,633 : INFO : EPOCH 4 - PROGRESS: at 4.48% examples, 688240 words/s, in_qsize 20, out_qsize 0\n",
      "2018-11-24 13:06:05,634 : INFO : EPOCH 4 - PROGRESS: at 6.42% examples, 657879 words/s, in_qsize 18, out_qsize 1\n",
      "2018-11-24 13:06:06,647 : INFO : EPOCH 4 - PROGRESS: at 8.86% examples, 683539 words/s, in_qsize 17, out_qsize 2\n",
      "2018-11-24 13:06:07,651 : INFO : EPOCH 4 - PROGRESS: at 10.93% examples, 700010 words/s, in_qsize 19, out_qsize 0\n",
      "2018-11-24 13:06:08,656 : INFO : EPOCH 4 - PROGRESS: at 12.92% examples, 706118 words/s, in_qsize 19, out_qsize 0\n",
      "2018-11-24 13:06:09,668 : INFO : EPOCH 4 - PROGRESS: at 15.19% examples, 715115 words/s, in_qsize 19, out_qsize 1\n",
      "2018-11-24 13:06:10,674 : INFO : EPOCH 4 - PROGRESS: at 17.21% examples, 714452 words/s, in_qsize 20, out_qsize 3\n",
      "2018-11-24 13:06:11,678 : INFO : EPOCH 4 - PROGRESS: at 19.08% examples, 712175 words/s, in_qsize 19, out_qsize 0\n",
      "2018-11-24 13:06:12,707 : INFO : EPOCH 4 - PROGRESS: at 21.02% examples, 716280 words/s, in_qsize 16, out_qsize 3\n"
     ]
    },
    {
     "name": "stderr",
     "output_type": "stream",
     "text": [
      "2018-11-24 13:06:13,721 : INFO : EPOCH 4 - PROGRESS: at 23.33% examples, 719238 words/s, in_qsize 17, out_qsize 2\n",
      "2018-11-24 13:06:14,736 : INFO : EPOCH 4 - PROGRESS: at 25.37% examples, 716548 words/s, in_qsize 16, out_qsize 4\n",
      "2018-11-24 13:06:15,754 : INFO : EPOCH 4 - PROGRESS: at 27.94% examples, 713307 words/s, in_qsize 20, out_qsize 0\n",
      "2018-11-24 13:06:16,762 : INFO : EPOCH 4 - PROGRESS: at 30.22% examples, 708801 words/s, in_qsize 18, out_qsize 1\n",
      "2018-11-24 13:06:17,790 : INFO : EPOCH 4 - PROGRESS: at 32.66% examples, 704502 words/s, in_qsize 17, out_qsize 2\n",
      "2018-11-24 13:06:18,819 : INFO : EPOCH 4 - PROGRESS: at 35.07% examples, 704014 words/s, in_qsize 18, out_qsize 1\n",
      "2018-11-24 13:06:19,822 : INFO : EPOCH 4 - PROGRESS: at 37.60% examples, 704843 words/s, in_qsize 18, out_qsize 1\n",
      "2018-11-24 13:06:20,829 : INFO : EPOCH 4 - PROGRESS: at 40.01% examples, 703035 words/s, in_qsize 19, out_qsize 0\n",
      "2018-11-24 13:06:21,864 : INFO : EPOCH 4 - PROGRESS: at 42.49% examples, 700384 words/s, in_qsize 19, out_qsize 0\n",
      "2018-11-24 13:06:22,875 : INFO : EPOCH 4 - PROGRESS: at 45.29% examples, 702836 words/s, in_qsize 19, out_qsize 1\n",
      "2018-11-24 13:06:23,876 : INFO : EPOCH 4 - PROGRESS: at 47.94% examples, 705992 words/s, in_qsize 19, out_qsize 0\n",
      "2018-11-24 13:06:24,898 : INFO : EPOCH 4 - PROGRESS: at 50.49% examples, 706265 words/s, in_qsize 20, out_qsize 1\n",
      "2018-11-24 13:06:25,906 : INFO : EPOCH 4 - PROGRESS: at 52.85% examples, 706566 words/s, in_qsize 18, out_qsize 1\n",
      "2018-11-24 13:06:26,916 : INFO : EPOCH 4 - PROGRESS: at 55.03% examples, 703682 words/s, in_qsize 18, out_qsize 1\n",
      "2018-11-24 13:06:27,946 : INFO : EPOCH 4 - PROGRESS: at 57.70% examples, 705039 words/s, in_qsize 18, out_qsize 2\n",
      "2018-11-24 13:06:28,947 : INFO : EPOCH 4 - PROGRESS: at 60.31% examples, 707348 words/s, in_qsize 19, out_qsize 0\n",
      "2018-11-24 13:06:29,953 : INFO : EPOCH 4 - PROGRESS: at 63.00% examples, 709647 words/s, in_qsize 19, out_qsize 0\n",
      "2018-11-24 13:06:30,971 : INFO : EPOCH 4 - PROGRESS: at 65.57% examples, 709050 words/s, in_qsize 19, out_qsize 0\n",
      "2018-11-24 13:06:31,973 : INFO : EPOCH 4 - PROGRESS: at 67.90% examples, 708534 words/s, in_qsize 19, out_qsize 0\n",
      "2018-11-24 13:06:32,997 : INFO : EPOCH 4 - PROGRESS: at 70.45% examples, 710686 words/s, in_qsize 18, out_qsize 1\n",
      "2018-11-24 13:06:34,009 : INFO : EPOCH 4 - PROGRESS: at 72.98% examples, 711483 words/s, in_qsize 19, out_qsize 0\n",
      "2018-11-24 13:06:35,022 : INFO : EPOCH 4 - PROGRESS: at 75.52% examples, 712605 words/s, in_qsize 19, out_qsize 0\n",
      "2018-11-24 13:06:36,032 : INFO : EPOCH 4 - PROGRESS: at 77.71% examples, 712148 words/s, in_qsize 18, out_qsize 1\n",
      "2018-11-24 13:06:37,036 : INFO : EPOCH 4 - PROGRESS: at 80.05% examples, 712300 words/s, in_qsize 19, out_qsize 0\n",
      "2018-11-24 13:06:38,050 : INFO : EPOCH 4 - PROGRESS: at 82.37% examples, 711818 words/s, in_qsize 18, out_qsize 1\n",
      "2018-11-24 13:06:39,051 : INFO : EPOCH 4 - PROGRESS: at 84.77% examples, 712580 words/s, in_qsize 20, out_qsize 0\n",
      "2018-11-24 13:06:40,055 : INFO : EPOCH 4 - PROGRESS: at 87.29% examples, 712886 words/s, in_qsize 18, out_qsize 1\n",
      "2018-11-24 13:06:41,095 : INFO : EPOCH 4 - PROGRESS: at 90.00% examples, 713343 words/s, in_qsize 19, out_qsize 0\n",
      "2018-11-24 13:06:42,108 : INFO : EPOCH 4 - PROGRESS: at 92.52% examples, 713512 words/s, in_qsize 19, out_qsize 0\n",
      "2018-11-24 13:06:43,111 : INFO : EPOCH 4 - PROGRESS: at 94.97% examples, 713660 words/s, in_qsize 18, out_qsize 1\n",
      "2018-11-24 13:06:44,134 : INFO : EPOCH 4 - PROGRESS: at 97.46% examples, 713593 words/s, in_qsize 18, out_qsize 1\n",
      "2018-11-24 13:06:45,022 : INFO : worker thread finished; awaiting finish of 9 more threads\n",
      "2018-11-24 13:06:45,028 : INFO : worker thread finished; awaiting finish of 8 more threads\n",
      "2018-11-24 13:06:45,040 : INFO : worker thread finished; awaiting finish of 7 more threads\n",
      "2018-11-24 13:06:45,044 : INFO : worker thread finished; awaiting finish of 6 more threads\n",
      "2018-11-24 13:06:45,047 : INFO : worker thread finished; awaiting finish of 5 more threads\n",
      "2018-11-24 13:06:45,068 : INFO : worker thread finished; awaiting finish of 4 more threads\n",
      "2018-11-24 13:06:45,072 : INFO : worker thread finished; awaiting finish of 3 more threads\n",
      "2018-11-24 13:06:45,077 : INFO : worker thread finished; awaiting finish of 2 more threads\n",
      "2018-11-24 13:06:45,080 : INFO : worker thread finished; awaiting finish of 1 more threads\n",
      "2018-11-24 13:06:45,083 : INFO : worker thread finished; awaiting finish of 0 more threads\n",
      "2018-11-24 13:06:45,086 : INFO : EPOCH - 4 : training on 41519355 raw words (30348953 effective words) took 42.5s, 714698 effective words/s\n",
      "2018-11-24 13:06:46,111 : INFO : EPOCH 5 - PROGRESS: at 2.21% examples, 689150 words/s, in_qsize 18, out_qsize 2\n",
      "2018-11-24 13:06:47,112 : INFO : EPOCH 5 - PROGRESS: at 4.75% examples, 726665 words/s, in_qsize 18, out_qsize 1\n",
      "2018-11-24 13:06:48,113 : INFO : EPOCH 5 - PROGRESS: at 7.07% examples, 721446 words/s, in_qsize 19, out_qsize 0\n",
      "2018-11-24 13:06:49,123 : INFO : EPOCH 5 - PROGRESS: at 9.17% examples, 709905 words/s, in_qsize 18, out_qsize 1\n",
      "2018-11-24 13:06:50,168 : INFO : EPOCH 5 - PROGRESS: at 11.15% examples, 710902 words/s, in_qsize 18, out_qsize 1\n",
      "2018-11-24 13:06:51,169 : INFO : EPOCH 5 - PROGRESS: at 13.18% examples, 714683 words/s, in_qsize 19, out_qsize 0\n",
      "2018-11-24 13:06:52,175 : INFO : EPOCH 5 - PROGRESS: at 15.27% examples, 714889 words/s, in_qsize 18, out_qsize 1\n",
      "2018-11-24 13:06:53,208 : INFO : EPOCH 5 - PROGRESS: at 17.22% examples, 710205 words/s, in_qsize 19, out_qsize 0\n",
      "2018-11-24 13:06:54,234 : INFO : EPOCH 5 - PROGRESS: at 19.26% examples, 713615 words/s, in_qsize 19, out_qsize 1\n",
      "2018-11-24 13:06:55,295 : INFO : EPOCH 5 - PROGRESS: at 21.56% examples, 715891 words/s, in_qsize 19, out_qsize 3\n",
      "2018-11-24 13:06:56,306 : INFO : EPOCH 5 - PROGRESS: at 23.54% examples, 720013 words/s, in_qsize 19, out_qsize 0\n",
      "2018-11-24 13:06:57,307 : INFO : EPOCH 5 - PROGRESS: at 25.72% examples, 719361 words/s, in_qsize 18, out_qsize 2\n",
      "2018-11-24 13:06:58,313 : INFO : EPOCH 5 - PROGRESS: at 28.60% examples, 723682 words/s, in_qsize 18, out_qsize 1\n",
      "2018-11-24 13:06:59,320 : INFO : EPOCH 5 - PROGRESS: at 31.02% examples, 719658 words/s, in_qsize 20, out_qsize 0\n",
      "2018-11-24 13:07:00,327 : INFO : EPOCH 5 - PROGRESS: at 33.58% examples, 719398 words/s, in_qsize 20, out_qsize 0\n",
      "2018-11-24 13:07:01,345 : INFO : EPOCH 5 - PROGRESS: at 35.29% examples, 705937 words/s, in_qsize 19, out_qsize 0\n",
      "2018-11-24 13:07:02,412 : INFO : EPOCH 5 - PROGRESS: at 37.53% examples, 699034 words/s, in_qsize 19, out_qsize 0\n",
      "2018-11-24 13:07:03,429 : INFO : EPOCH 5 - PROGRESS: at 40.09% examples, 699145 words/s, in_qsize 20, out_qsize 1\n",
      "2018-11-24 13:07:04,442 : INFO : EPOCH 5 - PROGRESS: at 42.42% examples, 695630 words/s, in_qsize 18, out_qsize 1\n",
      "2018-11-24 13:07:05,450 : INFO : EPOCH 5 - PROGRESS: at 45.21% examples, 698403 words/s, in_qsize 19, out_qsize 0\n",
      "2018-11-24 13:07:06,488 : INFO : EPOCH 5 - PROGRESS: at 47.82% examples, 699867 words/s, in_qsize 18, out_qsize 1\n",
      "2018-11-24 13:07:07,523 : INFO : EPOCH 5 - PROGRESS: at 49.94% examples, 694533 words/s, in_qsize 19, out_qsize 0\n",
      "2018-11-24 13:07:08,703 : INFO : EPOCH 5 - PROGRESS: at 51.82% examples, 683234 words/s, in_qsize 18, out_qsize 2\n",
      "2018-11-24 13:07:09,728 : INFO : EPOCH 5 - PROGRESS: at 53.70% examples, 678764 words/s, in_qsize 18, out_qsize 1\n",
      "2018-11-24 13:07:10,744 : INFO : EPOCH 5 - PROGRESS: at 56.44% examples, 682053 words/s, in_qsize 20, out_qsize 0\n",
      "2018-11-24 13:07:11,749 : INFO : EPOCH 5 - PROGRESS: at 59.06% examples, 684829 words/s, in_qsize 19, out_qsize 0\n",
      "2018-11-24 13:07:12,770 : INFO : EPOCH 5 - PROGRESS: at 61.27% examples, 682603 words/s, in_qsize 19, out_qsize 0\n",
      "2018-11-24 13:07:13,787 : INFO : EPOCH 5 - PROGRESS: at 64.01% examples, 684857 words/s, in_qsize 19, out_qsize 0\n",
      "2018-11-24 13:07:14,787 : INFO : EPOCH 5 - PROGRESS: at 66.41% examples, 685719 words/s, in_qsize 19, out_qsize 0\n",
      "2018-11-24 13:07:15,791 : INFO : EPOCH 5 - PROGRESS: at 68.66% examples, 685076 words/s, in_qsize 19, out_qsize 0\n",
      "2018-11-24 13:07:16,842 : INFO : EPOCH 5 - PROGRESS: at 70.35% examples, 679132 words/s, in_qsize 20, out_qsize 1\n",
      "2018-11-24 13:07:17,863 : INFO : EPOCH 5 - PROGRESS: at 71.92% examples, 672749 words/s, in_qsize 19, out_qsize 0\n"
     ]
    },
    {
     "name": "stderr",
     "output_type": "stream",
     "text": [
      "2018-11-24 13:07:18,881 : INFO : EPOCH 5 - PROGRESS: at 73.89% examples, 668037 words/s, in_qsize 19, out_qsize 0\n",
      "2018-11-24 13:07:19,916 : INFO : EPOCH 5 - PROGRESS: at 75.36% examples, 661623 words/s, in_qsize 20, out_qsize 1\n",
      "2018-11-24 13:07:20,934 : INFO : EPOCH 5 - PROGRESS: at 77.13% examples, 658702 words/s, in_qsize 17, out_qsize 3\n",
      "2018-11-24 13:07:21,941 : INFO : EPOCH 5 - PROGRESS: at 79.15% examples, 657859 words/s, in_qsize 18, out_qsize 1\n",
      "2018-11-24 13:07:22,952 : INFO : EPOCH 5 - PROGRESS: at 81.31% examples, 657784 words/s, in_qsize 19, out_qsize 0\n",
      "2018-11-24 13:07:23,968 : INFO : EPOCH 5 - PROGRESS: at 83.59% examples, 658211 words/s, in_qsize 19, out_qsize 0\n",
      "2018-11-24 13:07:25,016 : INFO : EPOCH 5 - PROGRESS: at 85.21% examples, 653876 words/s, in_qsize 14, out_qsize 5\n",
      "2018-11-24 13:07:26,019 : INFO : EPOCH 5 - PROGRESS: at 87.21% examples, 651591 words/s, in_qsize 19, out_qsize 1\n",
      "2018-11-24 13:07:27,047 : INFO : EPOCH 5 - PROGRESS: at 89.10% examples, 648192 words/s, in_qsize 19, out_qsize 0\n",
      "2018-11-24 13:07:28,063 : INFO : EPOCH 5 - PROGRESS: at 91.18% examples, 646662 words/s, in_qsize 18, out_qsize 1\n",
      "2018-11-24 13:07:29,073 : INFO : EPOCH 5 - PROGRESS: at 93.71% examples, 648854 words/s, in_qsize 20, out_qsize 0\n",
      "2018-11-24 13:07:30,090 : INFO : EPOCH 5 - PROGRESS: at 96.29% examples, 650885 words/s, in_qsize 19, out_qsize 0\n",
      "2018-11-24 13:07:31,094 : INFO : EPOCH 5 - PROGRESS: at 98.69% examples, 651702 words/s, in_qsize 19, out_qsize 0\n",
      "2018-11-24 13:07:31,545 : INFO : worker thread finished; awaiting finish of 9 more threads\n",
      "2018-11-24 13:07:31,549 : INFO : worker thread finished; awaiting finish of 8 more threads\n",
      "2018-11-24 13:07:31,558 : INFO : worker thread finished; awaiting finish of 7 more threads\n",
      "2018-11-24 13:07:31,564 : INFO : worker thread finished; awaiting finish of 6 more threads\n",
      "2018-11-24 13:07:31,570 : INFO : worker thread finished; awaiting finish of 5 more threads\n",
      "2018-11-24 13:07:31,575 : INFO : worker thread finished; awaiting finish of 4 more threads\n",
      "2018-11-24 13:07:31,588 : INFO : worker thread finished; awaiting finish of 3 more threads\n",
      "2018-11-24 13:07:31,590 : INFO : worker thread finished; awaiting finish of 2 more threads\n",
      "2018-11-24 13:07:31,598 : INFO : worker thread finished; awaiting finish of 1 more threads\n",
      "2018-11-24 13:07:31,604 : INFO : worker thread finished; awaiting finish of 0 more threads\n",
      "2018-11-24 13:07:31,607 : INFO : EPOCH - 5 : training on 41519355 raw words (30348759 effective words) took 46.5s, 652510 effective words/s\n",
      "2018-11-24 13:07:31,609 : INFO : training on a 207596775 raw words (151745694 effective words) took 235.3s, 644923 effective words/s\n"
     ]
    }
   ],
   "source": [
    "word2vec_model = gensim.models.Word2Vec(documents, size=150, window=10, min_count=2, workers=10)"
   ]
  },
  {
   "cell_type": "code",
   "execution_count": 9,
   "metadata": {},
   "outputs": [
    {
     "name": "stderr",
     "output_type": "stream",
     "text": [
      "2018-11-24 13:09:43,670 : WARNING : Effective 'alpha' higher than previous training cycles\n",
      "2018-11-24 13:09:43,673 : INFO : training model with 10 workers on 70538 vocabulary and 150 features, using sg=0 hs=0 sample=0.001 negative=5 window=10\n",
      "2018-11-24 13:09:44,691 : INFO : EPOCH 1 - PROGRESS: at 2.10% examples, 661895 words/s, in_qsize 20, out_qsize 0\n",
      "2018-11-24 13:09:45,707 : INFO : EPOCH 1 - PROGRESS: at 4.16% examples, 636344 words/s, in_qsize 20, out_qsize 0\n",
      "2018-11-24 13:09:46,727 : INFO : EPOCH 1 - PROGRESS: at 6.45% examples, 654860 words/s, in_qsize 18, out_qsize 1\n",
      "2018-11-24 13:09:47,755 : INFO : EPOCH 1 - PROGRESS: at 8.62% examples, 655579 words/s, in_qsize 19, out_qsize 0\n",
      "2018-11-24 13:09:48,763 : INFO : EPOCH 1 - PROGRESS: at 10.54% examples, 664226 words/s, in_qsize 20, out_qsize 1\n",
      "2018-11-24 13:09:49,787 : INFO : EPOCH 1 - PROGRESS: at 12.52% examples, 678656 words/s, in_qsize 19, out_qsize 0\n",
      "2018-11-24 13:09:50,790 : INFO : EPOCH 1 - PROGRESS: at 14.52% examples, 675952 words/s, in_qsize 20, out_qsize 6\n",
      "2018-11-24 13:09:51,818 : INFO : EPOCH 1 - PROGRESS: at 16.87% examples, 691722 words/s, in_qsize 19, out_qsize 0\n",
      "2018-11-24 13:09:52,827 : INFO : EPOCH 1 - PROGRESS: at 18.26% examples, 672122 words/s, in_qsize 18, out_qsize 1\n",
      "2018-11-24 13:09:53,876 : INFO : EPOCH 1 - PROGRESS: at 19.79% examples, 660638 words/s, in_qsize 19, out_qsize 0\n",
      "2018-11-24 13:09:54,898 : INFO : EPOCH 1 - PROGRESS: at 21.94% examples, 664774 words/s, in_qsize 19, out_qsize 0\n",
      "2018-11-24 13:09:55,925 : INFO : EPOCH 1 - PROGRESS: at 23.70% examples, 664317 words/s, in_qsize 19, out_qsize 0\n",
      "2018-11-24 13:09:56,929 : INFO : EPOCH 1 - PROGRESS: at 25.95% examples, 668323 words/s, in_qsize 19, out_qsize 0\n",
      "2018-11-24 13:09:57,953 : INFO : EPOCH 1 - PROGRESS: at 28.44% examples, 666979 words/s, in_qsize 19, out_qsize 0\n",
      "2018-11-24 13:09:58,968 : INFO : EPOCH 1 - PROGRESS: at 30.84% examples, 667038 words/s, in_qsize 19, out_qsize 0\n",
      "2018-11-24 13:09:59,984 : INFO : EPOCH 1 - PROGRESS: at 33.02% examples, 661642 words/s, in_qsize 19, out_qsize 0\n",
      "2018-11-24 13:10:00,995 : INFO : EPOCH 1 - PROGRESS: at 34.97% examples, 657696 words/s, in_qsize 19, out_qsize 0\n",
      "2018-11-24 13:10:02,005 : INFO : EPOCH 1 - PROGRESS: at 37.37% examples, 658438 words/s, in_qsize 16, out_qsize 3\n",
      "2018-11-24 13:10:03,008 : INFO : EPOCH 1 - PROGRESS: at 39.61% examples, 657007 words/s, in_qsize 18, out_qsize 1\n",
      "2018-11-24 13:10:04,022 : INFO : EPOCH 1 - PROGRESS: at 41.88% examples, 653666 words/s, in_qsize 18, out_qsize 1\n",
      "2018-11-24 13:10:05,045 : INFO : EPOCH 1 - PROGRESS: at 44.18% examples, 652409 words/s, in_qsize 17, out_qsize 2\n",
      "2018-11-24 13:10:06,050 : INFO : EPOCH 1 - PROGRESS: at 46.48% examples, 651732 words/s, in_qsize 20, out_qsize 1\n",
      "2018-11-24 13:10:07,069 : INFO : EPOCH 1 - PROGRESS: at 48.65% examples, 650428 words/s, in_qsize 17, out_qsize 2\n",
      "2018-11-24 13:10:08,074 : INFO : EPOCH 1 - PROGRESS: at 50.85% examples, 649286 words/s, in_qsize 19, out_qsize 0\n",
      "2018-11-24 13:10:09,078 : INFO : EPOCH 1 - PROGRESS: at 52.74% examples, 646501 words/s, in_qsize 20, out_qsize 0\n",
      "2018-11-24 13:10:10,088 : INFO : EPOCH 1 - PROGRESS: at 54.82% examples, 645881 words/s, in_qsize 18, out_qsize 1\n",
      "2018-11-24 13:10:11,091 : INFO : EPOCH 1 - PROGRESS: at 57.17% examples, 645680 words/s, in_qsize 19, out_qsize 0\n",
      "2018-11-24 13:10:12,094 : INFO : EPOCH 1 - PROGRESS: at 59.29% examples, 644770 words/s, in_qsize 19, out_qsize 0\n",
      "2018-11-24 13:10:13,128 : INFO : EPOCH 1 - PROGRESS: at 60.96% examples, 638405 words/s, in_qsize 19, out_qsize 0\n",
      "2018-11-24 13:10:14,152 : INFO : EPOCH 1 - PROGRESS: at 62.63% examples, 633092 words/s, in_qsize 19, out_qsize 1\n",
      "2018-11-24 13:10:15,194 : INFO : EPOCH 1 - PROGRESS: at 64.18% examples, 624976 words/s, in_qsize 16, out_qsize 3\n",
      "2018-11-24 13:10:16,216 : INFO : EPOCH 1 - PROGRESS: at 65.95% examples, 621917 words/s, in_qsize 18, out_qsize 1\n",
      "2018-11-24 13:10:17,225 : INFO : EPOCH 1 - PROGRESS: at 67.73% examples, 618560 words/s, in_qsize 20, out_qsize 0\n",
      "2018-11-24 13:10:18,257 : INFO : EPOCH 1 - PROGRESS: at 69.66% examples, 617169 words/s, in_qsize 19, out_qsize 0\n",
      "2018-11-24 13:10:19,259 : INFO : EPOCH 1 - PROGRESS: at 71.25% examples, 613797 words/s, in_qsize 19, out_qsize 0\n",
      "2018-11-24 13:10:20,277 : INFO : EPOCH 1 - PROGRESS: at 73.22% examples, 612061 words/s, in_qsize 18, out_qsize 1\n",
      "2018-11-24 13:10:21,319 : INFO : EPOCH 1 - PROGRESS: at 75.20% examples, 610810 words/s, in_qsize 18, out_qsize 1\n",
      "2018-11-24 13:10:22,323 : INFO : EPOCH 1 - PROGRESS: at 76.77% examples, 607979 words/s, in_qsize 19, out_qsize 0\n",
      "2018-11-24 13:10:23,340 : INFO : EPOCH 1 - PROGRESS: at 78.71% examples, 607816 words/s, in_qsize 20, out_qsize 0\n",
      "2018-11-24 13:10:24,359 : INFO : EPOCH 1 - PROGRESS: at 80.66% examples, 607475 words/s, in_qsize 19, out_qsize 0\n",
      "2018-11-24 13:10:25,393 : INFO : EPOCH 1 - PROGRESS: at 82.19% examples, 603291 words/s, in_qsize 19, out_qsize 0\n",
      "2018-11-24 13:10:26,393 : INFO : EPOCH 1 - PROGRESS: at 83.62% examples, 599275 words/s, in_qsize 19, out_qsize 0\n",
      "2018-11-24 13:10:27,425 : INFO : EPOCH 1 - PROGRESS: at 85.20% examples, 596628 words/s, in_qsize 19, out_qsize 0\n",
      "2018-11-24 13:10:28,429 : INFO : EPOCH 1 - PROGRESS: at 87.44% examples, 597406 words/s, in_qsize 20, out_qsize 0\n",
      "2018-11-24 13:10:29,430 : INFO : EPOCH 1 - PROGRESS: at 89.50% examples, 596977 words/s, in_qsize 20, out_qsize 0\n",
      "2018-11-24 13:10:30,445 : INFO : EPOCH 1 - PROGRESS: at 91.82% examples, 598076 words/s, in_qsize 20, out_qsize 1\n",
      "2018-11-24 13:10:31,451 : INFO : EPOCH 1 - PROGRESS: at 94.33% examples, 601032 words/s, in_qsize 18, out_qsize 2\n",
      "2018-11-24 13:10:32,456 : INFO : EPOCH 1 - PROGRESS: at 96.84% examples, 603731 words/s, in_qsize 19, out_qsize 0\n",
      "2018-11-24 13:10:33,458 : INFO : EPOCH 1 - PROGRESS: at 99.53% examples, 607074 words/s, in_qsize 18, out_qsize 1\n",
      "2018-11-24 13:10:33,535 : INFO : worker thread finished; awaiting finish of 9 more threads\n",
      "2018-11-24 13:10:33,538 : INFO : worker thread finished; awaiting finish of 8 more threads\n",
      "2018-11-24 13:10:33,554 : INFO : worker thread finished; awaiting finish of 7 more threads\n",
      "2018-11-24 13:10:33,563 : INFO : worker thread finished; awaiting finish of 6 more threads\n",
      "2018-11-24 13:10:33,572 : INFO : worker thread finished; awaiting finish of 5 more threads\n",
      "2018-11-24 13:10:33,593 : INFO : worker thread finished; awaiting finish of 4 more threads\n",
      "2018-11-24 13:10:33,597 : INFO : worker thread finished; awaiting finish of 3 more threads\n",
      "2018-11-24 13:10:33,608 : INFO : worker thread finished; awaiting finish of 2 more threads\n",
      "2018-11-24 13:10:33,611 : INFO : worker thread finished; awaiting finish of 1 more threads\n",
      "2018-11-24 13:10:33,623 : INFO : worker thread finished; awaiting finish of 0 more threads\n",
      "2018-11-24 13:10:33,624 : INFO : EPOCH - 1 : training on 41519355 raw words (30346760 effective words) took 49.9s, 607719 effective words/s\n",
      "2018-11-24 13:10:34,643 : INFO : EPOCH 2 - PROGRESS: at 2.32% examples, 728479 words/s, in_qsize 17, out_qsize 2\n",
      "2018-11-24 13:10:35,667 : INFO : EPOCH 2 - PROGRESS: at 4.73% examples, 716898 words/s, in_qsize 18, out_qsize 1\n",
      "2018-11-24 13:10:36,673 : INFO : EPOCH 2 - PROGRESS: at 7.07% examples, 716232 words/s, in_qsize 18, out_qsize 1\n",
      "2018-11-24 13:10:37,695 : INFO : EPOCH 2 - PROGRESS: at 9.38% examples, 719961 words/s, in_qsize 18, out_qsize 1\n",
      "2018-11-24 13:10:38,713 : INFO : EPOCH 2 - PROGRESS: at 11.11% examples, 707212 words/s, in_qsize 19, out_qsize 0\n",
      "2018-11-24 13:10:39,723 : INFO : EPOCH 2 - PROGRESS: at 12.99% examples, 703468 words/s, in_qsize 18, out_qsize 1\n",
      "2018-11-24 13:10:40,726 : INFO : EPOCH 2 - PROGRESS: at 15.00% examples, 701423 words/s, in_qsize 19, out_qsize 0\n",
      "2018-11-24 13:10:41,737 : INFO : EPOCH 2 - PROGRESS: at 16.73% examples, 687793 words/s, in_qsize 17, out_qsize 2\n",
      "2018-11-24 13:10:42,750 : INFO : EPOCH 2 - PROGRESS: at 18.58% examples, 685631 words/s, in_qsize 20, out_qsize 2\n",
      "2018-11-24 13:10:43,770 : INFO : EPOCH 2 - PROGRESS: at 20.30% examples, 683612 words/s, in_qsize 17, out_qsize 2\n",
      "2018-11-24 13:10:44,802 : INFO : EPOCH 2 - PROGRESS: at 22.39% examples, 682113 words/s, in_qsize 19, out_qsize 0\n",
      "2018-11-24 13:10:45,814 : INFO : EPOCH 2 - PROGRESS: at 24.19% examples, 683270 words/s, in_qsize 19, out_qsize 0\n"
     ]
    },
    {
     "name": "stderr",
     "output_type": "stream",
     "text": [
      "2018-11-24 13:10:46,844 : INFO : EPOCH 2 - PROGRESS: at 26.51% examples, 680210 words/s, in_qsize 18, out_qsize 1\n",
      "2018-11-24 13:10:47,896 : INFO : EPOCH 2 - PROGRESS: at 29.09% examples, 679628 words/s, in_qsize 18, out_qsize 1\n",
      "2018-11-24 13:10:48,899 : INFO : EPOCH 2 - PROGRESS: at 31.67% examples, 681281 words/s, in_qsize 19, out_qsize 0\n",
      "2018-11-24 13:10:49,900 : INFO : EPOCH 2 - PROGRESS: at 34.12% examples, 684165 words/s, in_qsize 19, out_qsize 0\n",
      "2018-11-24 13:10:50,908 : INFO : EPOCH 2 - PROGRESS: at 36.76% examples, 687696 words/s, in_qsize 17, out_qsize 5\n",
      "2018-11-24 13:10:51,909 : INFO : EPOCH 2 - PROGRESS: at 39.46% examples, 691414 words/s, in_qsize 16, out_qsize 3\n",
      "2018-11-24 13:10:52,935 : INFO : EPOCH 2 - PROGRESS: at 42.12% examples, 691948 words/s, in_qsize 18, out_qsize 1\n",
      "2018-11-24 13:10:53,941 : INFO : EPOCH 2 - PROGRESS: at 44.70% examples, 692844 words/s, in_qsize 19, out_qsize 0\n",
      "2018-11-24 13:10:54,972 : INFO : EPOCH 2 - PROGRESS: at 47.35% examples, 695452 words/s, in_qsize 17, out_qsize 2\n",
      "2018-11-24 13:10:55,973 : INFO : EPOCH 2 - PROGRESS: at 50.07% examples, 698481 words/s, in_qsize 19, out_qsize 0\n",
      "2018-11-24 13:10:57,001 : INFO : EPOCH 2 - PROGRESS: at 52.60% examples, 700663 words/s, in_qsize 19, out_qsize 1\n",
      "2018-11-24 13:10:58,002 : INFO : EPOCH 2 - PROGRESS: at 54.96% examples, 701252 words/s, in_qsize 19, out_qsize 0\n",
      "2018-11-24 13:10:59,015 : INFO : EPOCH 2 - PROGRESS: at 57.59% examples, 702047 words/s, in_qsize 18, out_qsize 1\n",
      "2018-11-24 13:11:00,035 : INFO : EPOCH 2 - PROGRESS: at 60.09% examples, 702858 words/s, in_qsize 18, out_qsize 1\n",
      "2018-11-24 13:11:01,042 : INFO : EPOCH 2 - PROGRESS: at 62.76% examples, 705043 words/s, in_qsize 18, out_qsize 1\n",
      "2018-11-24 13:11:02,056 : INFO : EPOCH 2 - PROGRESS: at 65.50% examples, 706526 words/s, in_qsize 18, out_qsize 2\n",
      "2018-11-24 13:11:03,115 : INFO : EPOCH 2 - PROGRESS: at 67.93% examples, 705725 words/s, in_qsize 17, out_qsize 2\n",
      "2018-11-24 13:11:04,123 : INFO : EPOCH 2 - PROGRESS: at 70.38% examples, 707389 words/s, in_qsize 19, out_qsize 0\n",
      "2018-11-24 13:11:05,139 : INFO : EPOCH 2 - PROGRESS: at 72.98% examples, 708862 words/s, in_qsize 19, out_qsize 0\n",
      "2018-11-24 13:11:06,156 : INFO : EPOCH 2 - PROGRESS: at 75.57% examples, 710429 words/s, in_qsize 19, out_qsize 0\n",
      "2018-11-24 13:11:07,166 : INFO : EPOCH 2 - PROGRESS: at 77.89% examples, 711525 words/s, in_qsize 18, out_qsize 1\n",
      "2018-11-24 13:11:08,181 : INFO : EPOCH 2 - PROGRESS: at 80.50% examples, 713582 words/s, in_qsize 19, out_qsize 0\n",
      "2018-11-24 13:11:09,188 : INFO : EPOCH 2 - PROGRESS: at 82.79% examples, 712789 words/s, in_qsize 18, out_qsize 1\n",
      "2018-11-24 13:11:10,192 : INFO : EPOCH 2 - PROGRESS: at 85.18% examples, 713666 words/s, in_qsize 19, out_qsize 0\n",
      "2018-11-24 13:11:11,202 : INFO : EPOCH 2 - PROGRESS: at 87.71% examples, 713494 words/s, in_qsize 20, out_qsize 0\n",
      "2018-11-24 13:11:12,236 : INFO : EPOCH 2 - PROGRESS: at 90.50% examples, 714788 words/s, in_qsize 20, out_qsize 1\n",
      "2018-11-24 13:11:13,262 : INFO : EPOCH 2 - PROGRESS: at 93.13% examples, 715945 words/s, in_qsize 19, out_qsize 0\n",
      "2018-11-24 13:11:14,279 : INFO : EPOCH 2 - PROGRESS: at 95.77% examples, 716692 words/s, in_qsize 19, out_qsize 0\n",
      "2018-11-24 13:11:15,283 : INFO : EPOCH 2 - PROGRESS: at 98.05% examples, 715457 words/s, in_qsize 17, out_qsize 2\n",
      "2018-11-24 13:11:15,957 : INFO : worker thread finished; awaiting finish of 9 more threads\n",
      "2018-11-24 13:11:15,964 : INFO : worker thread finished; awaiting finish of 8 more threads\n",
      "2018-11-24 13:11:15,968 : INFO : worker thread finished; awaiting finish of 7 more threads\n",
      "2018-11-24 13:11:15,970 : INFO : worker thread finished; awaiting finish of 6 more threads\n",
      "2018-11-24 13:11:15,982 : INFO : worker thread finished; awaiting finish of 5 more threads\n",
      "2018-11-24 13:11:15,986 : INFO : worker thread finished; awaiting finish of 4 more threads\n",
      "2018-11-24 13:11:16,000 : INFO : worker thread finished; awaiting finish of 3 more threads\n",
      "2018-11-24 13:11:16,003 : INFO : worker thread finished; awaiting finish of 2 more threads\n",
      "2018-11-24 13:11:16,007 : INFO : worker thread finished; awaiting finish of 1 more threads\n",
      "2018-11-24 13:11:16,013 : INFO : worker thread finished; awaiting finish of 0 more threads\n",
      "2018-11-24 13:11:16,015 : INFO : EPOCH - 2 : training on 41519355 raw words (30350858 effective words) took 42.4s, 716128 effective words/s\n",
      "2018-11-24 13:11:17,031 : INFO : EPOCH 3 - PROGRESS: at 2.39% examples, 751701 words/s, in_qsize 19, out_qsize 2\n",
      "2018-11-24 13:11:18,044 : INFO : EPOCH 3 - PROGRESS: at 4.96% examples, 757357 words/s, in_qsize 17, out_qsize 2\n",
      "2018-11-24 13:11:19,062 : INFO : EPOCH 3 - PROGRESS: at 7.52% examples, 763836 words/s, in_qsize 19, out_qsize 0\n",
      "2018-11-24 13:11:20,074 : INFO : EPOCH 3 - PROGRESS: at 9.75% examples, 759145 words/s, in_qsize 19, out_qsize 0\n",
      "2018-11-24 13:11:21,102 : INFO : EPOCH 3 - PROGRESS: at 11.25% examples, 715929 words/s, in_qsize 19, out_qsize 0\n",
      "2018-11-24 13:11:22,108 : INFO : EPOCH 3 - PROGRESS: at 12.70% examples, 690880 words/s, in_qsize 18, out_qsize 1\n",
      "2018-11-24 13:11:23,110 : INFO : EPOCH 3 - PROGRESS: at 14.59% examples, 680469 words/s, in_qsize 16, out_qsize 3\n",
      "2018-11-24 13:11:24,144 : INFO : EPOCH 3 - PROGRESS: at 16.63% examples, 682844 words/s, in_qsize 19, out_qsize 0\n",
      "2018-11-24 13:11:25,161 : INFO : EPOCH 3 - PROGRESS: at 18.73% examples, 690273 words/s, in_qsize 19, out_qsize 0\n",
      "2018-11-24 13:11:26,163 : INFO : EPOCH 3 - PROGRESS: at 20.58% examples, 694860 words/s, in_qsize 19, out_qsize 0\n",
      "2018-11-24 13:11:27,199 : INFO : EPOCH 3 - PROGRESS: at 22.43% examples, 682931 words/s, in_qsize 19, out_qsize 0\n",
      "2018-11-24 13:11:28,206 : INFO : EPOCH 3 - PROGRESS: at 24.06% examples, 679644 words/s, in_qsize 19, out_qsize 0\n",
      "2018-11-24 13:11:29,209 : INFO : EPOCH 3 - PROGRESS: at 26.18% examples, 675532 words/s, in_qsize 19, out_qsize 0\n",
      "2018-11-24 13:11:30,266 : INFO : EPOCH 3 - PROGRESS: at 28.60% examples, 671045 words/s, in_qsize 19, out_qsize 0\n",
      "2018-11-24 13:11:31,296 : INFO : EPOCH 3 - PROGRESS: at 31.01% examples, 670176 words/s, in_qsize 19, out_qsize 0\n",
      "2018-11-24 13:11:32,324 : INFO : EPOCH 3 - PROGRESS: at 33.18% examples, 664548 words/s, in_qsize 19, out_qsize 0\n",
      "2018-11-24 13:11:33,332 : INFO : EPOCH 3 - PROGRESS: at 35.33% examples, 663032 words/s, in_qsize 19, out_qsize 0\n",
      "2018-11-24 13:11:34,347 : INFO : EPOCH 3 - PROGRESS: at 38.02% examples, 667944 words/s, in_qsize 19, out_qsize 0\n",
      "2018-11-24 13:11:35,352 : INFO : EPOCH 3 - PROGRESS: at 40.69% examples, 672383 words/s, in_qsize 19, out_qsize 0\n",
      "2018-11-24 13:11:36,399 : INFO : EPOCH 3 - PROGRESS: at 43.48% examples, 674945 words/s, in_qsize 17, out_qsize 2\n",
      "2018-11-24 13:11:37,415 : INFO : EPOCH 3 - PROGRESS: at 46.27% examples, 678290 words/s, in_qsize 18, out_qsize 1\n",
      "2018-11-24 13:11:38,432 : INFO : EPOCH 3 - PROGRESS: at 48.24% examples, 673528 words/s, in_qsize 17, out_qsize 2\n",
      "2018-11-24 13:11:39,434 : INFO : EPOCH 3 - PROGRESS: at 50.92% examples, 677314 words/s, in_qsize 18, out_qsize 1\n",
      "2018-11-24 13:11:40,437 : INFO : EPOCH 3 - PROGRESS: at 53.25% examples, 679161 words/s, in_qsize 20, out_qsize 1\n",
      "2018-11-24 13:11:41,439 : INFO : EPOCH 3 - PROGRESS: at 56.02% examples, 683155 words/s, in_qsize 19, out_qsize 0\n",
      "2018-11-24 13:11:42,474 : INFO : EPOCH 3 - PROGRESS: at 57.65% examples, 674450 words/s, in_qsize 20, out_qsize 0\n",
      "2018-11-24 13:11:43,480 : INFO : EPOCH 3 - PROGRESS: at 59.51% examples, 669475 words/s, in_qsize 18, out_qsize 1\n",
      "2018-11-24 13:11:44,495 : INFO : EPOCH 3 - PROGRESS: at 61.79% examples, 669029 words/s, in_qsize 19, out_qsize 0\n",
      "2018-11-24 13:11:45,496 : INFO : EPOCH 3 - PROGRESS: at 64.23% examples, 668367 words/s, in_qsize 18, out_qsize 1\n",
      "2018-11-24 13:11:46,506 : INFO : EPOCH 3 - PROGRESS: at 66.48% examples, 668607 words/s, in_qsize 19, out_qsize 0\n",
      "2018-11-24 13:11:47,518 : INFO : EPOCH 3 - PROGRESS: at 69.02% examples, 670869 words/s, in_qsize 18, out_qsize 1\n",
      "2018-11-24 13:11:48,518 : INFO : EPOCH 3 - PROGRESS: at 71.19% examples, 671504 words/s, in_qsize 19, out_qsize 0\n",
      "2018-11-24 13:11:49,523 : INFO : EPOCH 3 - PROGRESS: at 72.96% examples, 666413 words/s, in_qsize 19, out_qsize 0\n",
      "2018-11-24 13:11:50,583 : INFO : EPOCH 3 - PROGRESS: at 75.23% examples, 665336 words/s, in_qsize 19, out_qsize 0\n"
     ]
    },
    {
     "name": "stderr",
     "output_type": "stream",
     "text": [
      "2018-11-24 13:11:51,586 : INFO : EPOCH 3 - PROGRESS: at 77.00% examples, 662575 words/s, in_qsize 20, out_qsize 0\n",
      "2018-11-24 13:11:52,600 : INFO : EPOCH 3 - PROGRESS: at 79.40% examples, 664652 words/s, in_qsize 20, out_qsize 0\n",
      "2018-11-24 13:11:53,612 : INFO : EPOCH 3 - PROGRESS: at 81.72% examples, 665716 words/s, in_qsize 19, out_qsize 1\n",
      "2018-11-24 13:11:54,613 : INFO : EPOCH 3 - PROGRESS: at 83.67% examples, 663575 words/s, in_qsize 16, out_qsize 3\n",
      "2018-11-24 13:11:55,639 : INFO : EPOCH 3 - PROGRESS: at 85.94% examples, 664156 words/s, in_qsize 19, out_qsize 0\n",
      "2018-11-24 13:11:56,643 : INFO : EPOCH 3 - PROGRESS: at 88.63% examples, 666034 words/s, in_qsize 20, out_qsize 0\n",
      "2018-11-24 13:11:57,649 : INFO : EPOCH 3 - PROGRESS: at 91.11% examples, 666973 words/s, in_qsize 19, out_qsize 0\n",
      "2018-11-24 13:11:58,664 : INFO : EPOCH 3 - PROGRESS: at 93.38% examples, 667001 words/s, in_qsize 19, out_qsize 0\n",
      "2018-11-24 13:11:59,690 : INFO : EPOCH 3 - PROGRESS: at 95.60% examples, 665882 words/s, in_qsize 19, out_qsize 0\n",
      "2018-11-24 13:12:00,704 : INFO : EPOCH 3 - PROGRESS: at 97.99% examples, 666371 words/s, in_qsize 19, out_qsize 0\n",
      "2018-11-24 13:12:01,416 : INFO : worker thread finished; awaiting finish of 9 more threads\n",
      "2018-11-24 13:12:01,420 : INFO : worker thread finished; awaiting finish of 8 more threads\n",
      "2018-11-24 13:12:01,425 : INFO : worker thread finished; awaiting finish of 7 more threads\n",
      "2018-11-24 13:12:01,429 : INFO : worker thread finished; awaiting finish of 6 more threads\n",
      "2018-11-24 13:12:01,433 : INFO : worker thread finished; awaiting finish of 5 more threads\n",
      "2018-11-24 13:12:01,437 : INFO : worker thread finished; awaiting finish of 4 more threads\n",
      "2018-11-24 13:12:01,441 : INFO : worker thread finished; awaiting finish of 3 more threads\n",
      "2018-11-24 13:12:01,444 : INFO : worker thread finished; awaiting finish of 2 more threads\n",
      "2018-11-24 13:12:01,453 : INFO : worker thread finished; awaiting finish of 1 more threads\n",
      "2018-11-24 13:12:01,457 : INFO : worker thread finished; awaiting finish of 0 more threads\n",
      "2018-11-24 13:12:01,459 : INFO : EPOCH - 3 : training on 41519355 raw words (30347894 effective words) took 45.4s, 667941 effective words/s\n",
      "2018-11-24 13:12:02,485 : INFO : EPOCH 4 - PROGRESS: at 2.21% examples, 687028 words/s, in_qsize 19, out_qsize 0\n",
      "2018-11-24 13:12:03,492 : INFO : EPOCH 4 - PROGRESS: at 4.67% examples, 712665 words/s, in_qsize 19, out_qsize 0\n",
      "2018-11-24 13:12:04,499 : INFO : EPOCH 4 - PROGRESS: at 6.97% examples, 708142 words/s, in_qsize 19, out_qsize 0\n",
      "2018-11-24 13:12:05,503 : INFO : EPOCH 4 - PROGRESS: at 9.01% examples, 695944 words/s, in_qsize 18, out_qsize 1\n",
      "2018-11-24 13:12:06,521 : INFO : EPOCH 4 - PROGRESS: at 10.90% examples, 695179 words/s, in_qsize 19, out_qsize 0\n",
      "2018-11-24 13:12:07,553 : INFO : EPOCH 4 - PROGRESS: at 12.84% examples, 696647 words/s, in_qsize 20, out_qsize 0\n",
      "2018-11-24 13:12:08,610 : INFO : EPOCH 4 - PROGRESS: at 14.86% examples, 689254 words/s, in_qsize 18, out_qsize 1\n",
      "2018-11-24 13:12:09,624 : INFO : EPOCH 4 - PROGRESS: at 16.92% examples, 691057 words/s, in_qsize 19, out_qsize 0\n",
      "2018-11-24 13:12:10,637 : INFO : EPOCH 4 - PROGRESS: at 18.82% examples, 691640 words/s, in_qsize 18, out_qsize 1\n",
      "2018-11-24 13:12:11,644 : INFO : EPOCH 4 - PROGRESS: at 20.71% examples, 697057 words/s, in_qsize 18, out_qsize 1\n",
      "2018-11-24 13:12:12,670 : INFO : EPOCH 4 - PROGRESS: at 22.97% examples, 699192 words/s, in_qsize 18, out_qsize 1\n",
      "2018-11-24 13:12:13,683 : INFO : EPOCH 4 - PROGRESS: at 25.14% examples, 705418 words/s, in_qsize 18, out_qsize 1\n",
      "2018-11-24 13:12:14,692 : INFO : EPOCH 4 - PROGRESS: at 27.79% examples, 705125 words/s, in_qsize 19, out_qsize 0\n",
      "2018-11-24 13:12:15,701 : INFO : EPOCH 4 - PROGRESS: at 30.21% examples, 704248 words/s, in_qsize 19, out_qsize 0\n",
      "2018-11-24 13:12:16,732 : INFO : EPOCH 4 - PROGRESS: at 33.09% examples, 708210 words/s, in_qsize 18, out_qsize 1\n",
      "2018-11-24 13:12:17,732 : INFO : EPOCH 4 - PROGRESS: at 35.72% examples, 712251 words/s, in_qsize 19, out_qsize 0\n",
      "2018-11-24 13:12:18,760 : INFO : EPOCH 4 - PROGRESS: at 38.44% examples, 713962 words/s, in_qsize 19, out_qsize 0\n",
      "2018-11-24 13:12:19,779 : INFO : EPOCH 4 - PROGRESS: at 41.25% examples, 716856 words/s, in_qsize 20, out_qsize 1\n",
      "2018-11-24 13:12:20,795 : INFO : EPOCH 4 - PROGRESS: at 43.89% examples, 717211 words/s, in_qsize 20, out_qsize 1\n",
      "2018-11-24 13:12:21,797 : INFO : EPOCH 4 - PROGRESS: at 46.45% examples, 716642 words/s, in_qsize 18, out_qsize 1\n",
      "2018-11-24 13:12:22,815 : INFO : EPOCH 4 - PROGRESS: at 49.25% examples, 719898 words/s, in_qsize 19, out_qsize 0\n",
      "2018-11-24 13:12:23,840 : INFO : EPOCH 4 - PROGRESS: at 51.80% examples, 720635 words/s, in_qsize 18, out_qsize 1\n",
      "2018-11-24 13:12:24,872 : INFO : EPOCH 4 - PROGRESS: at 54.29% examples, 721804 words/s, in_qsize 20, out_qsize 0\n",
      "2018-11-24 13:12:25,876 : INFO : EPOCH 4 - PROGRESS: at 56.84% examples, 721464 words/s, in_qsize 19, out_qsize 0\n",
      "2018-11-24 13:12:26,893 : INFO : EPOCH 4 - PROGRESS: at 59.04% examples, 717599 words/s, in_qsize 19, out_qsize 0\n",
      "2018-11-24 13:12:27,900 : INFO : EPOCH 4 - PROGRESS: at 61.40% examples, 716323 words/s, in_qsize 19, out_qsize 0\n",
      "2018-11-24 13:12:28,904 : INFO : EPOCH 4 - PROGRESS: at 64.12% examples, 717222 words/s, in_qsize 19, out_qsize 0\n",
      "2018-11-24 13:12:29,940 : INFO : EPOCH 4 - PROGRESS: at 66.47% examples, 715840 words/s, in_qsize 18, out_qsize 1\n",
      "2018-11-24 13:12:30,978 : INFO : EPOCH 4 - PROGRESS: at 68.98% examples, 715527 words/s, in_qsize 15, out_qsize 4\n",
      "2018-11-24 13:12:31,996 : INFO : EPOCH 4 - PROGRESS: at 71.31% examples, 715765 words/s, in_qsize 18, out_qsize 1\n",
      "2018-11-24 13:12:32,998 : INFO : EPOCH 4 - PROGRESS: at 74.02% examples, 717233 words/s, in_qsize 16, out_qsize 3\n",
      "2018-11-24 13:12:34,001 : INFO : EPOCH 4 - PROGRESS: at 76.40% examples, 718769 words/s, in_qsize 18, out_qsize 1\n",
      "2018-11-24 13:12:35,011 : INFO : EPOCH 4 - PROGRESS: at 78.73% examples, 718806 words/s, in_qsize 16, out_qsize 3\n",
      "2018-11-24 13:12:36,012 : INFO : EPOCH 4 - PROGRESS: at 80.90% examples, 717355 words/s, in_qsize 20, out_qsize 0\n",
      "2018-11-24 13:12:37,019 : INFO : EPOCH 4 - PROGRESS: at 82.90% examples, 713656 words/s, in_qsize 15, out_qsize 5\n",
      "2018-11-24 13:12:38,023 : INFO : EPOCH 4 - PROGRESS: at 84.93% examples, 711716 words/s, in_qsize 19, out_qsize 0\n",
      "2018-11-24 13:12:39,051 : INFO : EPOCH 4 - PROGRESS: at 87.40% examples, 711044 words/s, in_qsize 19, out_qsize 0\n",
      "2018-11-24 13:12:40,061 : INFO : EPOCH 4 - PROGRESS: at 90.07% examples, 711739 words/s, in_qsize 19, out_qsize 0\n",
      "2018-11-24 13:12:41,085 : INFO : EPOCH 4 - PROGRESS: at 92.57% examples, 711551 words/s, in_qsize 19, out_qsize 0\n",
      "2018-11-24 13:12:42,097 : INFO : EPOCH 4 - PROGRESS: at 94.62% examples, 708760 words/s, in_qsize 17, out_qsize 2\n",
      "2018-11-24 13:12:43,099 : INFO : EPOCH 4 - PROGRESS: at 96.90% examples, 707648 words/s, in_qsize 15, out_qsize 4\n",
      "2018-11-24 13:12:44,102 : INFO : EPOCH 4 - PROGRESS: at 99.13% examples, 706044 words/s, in_qsize 19, out_qsize 0\n",
      "2018-11-24 13:12:44,359 : INFO : worker thread finished; awaiting finish of 9 more threads\n",
      "2018-11-24 13:12:44,364 : INFO : worker thread finished; awaiting finish of 8 more threads\n",
      "2018-11-24 13:12:44,382 : INFO : worker thread finished; awaiting finish of 7 more threads\n",
      "2018-11-24 13:12:44,402 : INFO : worker thread finished; awaiting finish of 6 more threads\n",
      "2018-11-24 13:12:44,414 : INFO : worker thread finished; awaiting finish of 5 more threads\n",
      "2018-11-24 13:12:44,419 : INFO : worker thread finished; awaiting finish of 4 more threads\n",
      "2018-11-24 13:12:44,422 : INFO : worker thread finished; awaiting finish of 3 more threads\n",
      "2018-11-24 13:12:44,426 : INFO : worker thread finished; awaiting finish of 2 more threads\n",
      "2018-11-24 13:12:44,435 : INFO : worker thread finished; awaiting finish of 1 more threads\n",
      "2018-11-24 13:12:44,442 : INFO : worker thread finished; awaiting finish of 0 more threads\n",
      "2018-11-24 13:12:44,444 : INFO : EPOCH - 4 : training on 41519355 raw words (30350668 effective words) took 43.0s, 706213 effective words/s\n",
      "2018-11-24 13:12:45,459 : INFO : EPOCH 5 - PROGRESS: at 2.08% examples, 653166 words/s, in_qsize 20, out_qsize 0\n",
      "2018-11-24 13:12:46,473 : INFO : EPOCH 5 - PROGRESS: at 4.39% examples, 667881 words/s, in_qsize 19, out_qsize 0\n"
     ]
    },
    {
     "name": "stderr",
     "output_type": "stream",
     "text": [
      "2018-11-24 13:12:47,496 : INFO : EPOCH 5 - PROGRESS: at 6.69% examples, 677569 words/s, in_qsize 20, out_qsize 1\n",
      "2018-11-24 13:12:48,507 : INFO : EPOCH 5 - PROGRESS: at 8.63% examples, 657676 words/s, in_qsize 20, out_qsize 1\n",
      "2018-11-24 13:12:49,524 : INFO : EPOCH 5 - PROGRESS: at 10.43% examples, 657609 words/s, in_qsize 19, out_qsize 0\n",
      "2018-11-24 13:12:50,534 : INFO : EPOCH 5 - PROGRESS: at 12.15% examples, 657015 words/s, in_qsize 20, out_qsize 2\n",
      "2018-11-24 13:12:51,557 : INFO : EPOCH 5 - PROGRESS: at 14.32% examples, 665687 words/s, in_qsize 19, out_qsize 1\n",
      "2018-11-24 13:12:52,583 : INFO : EPOCH 5 - PROGRESS: at 16.31% examples, 666949 words/s, in_qsize 19, out_qsize 0\n",
      "2018-11-24 13:12:53,598 : INFO : EPOCH 5 - PROGRESS: at 18.15% examples, 666926 words/s, in_qsize 18, out_qsize 1\n",
      "2018-11-24 13:12:54,599 : INFO : EPOCH 5 - PROGRESS: at 20.01% examples, 671700 words/s, in_qsize 19, out_qsize 0\n",
      "2018-11-24 13:12:55,670 : INFO : EPOCH 5 - PROGRESS: at 22.33% examples, 677228 words/s, in_qsize 17, out_qsize 2\n",
      "2018-11-24 13:12:56,687 : INFO : EPOCH 5 - PROGRESS: at 24.34% examples, 685004 words/s, in_qsize 19, out_qsize 0\n",
      "2018-11-24 13:12:57,704 : INFO : EPOCH 5 - PROGRESS: at 27.04% examples, 689611 words/s, in_qsize 19, out_qsize 0\n",
      "2018-11-24 13:12:58,717 : INFO : EPOCH 5 - PROGRESS: at 29.53% examples, 688660 words/s, in_qsize 19, out_qsize 0\n",
      "2018-11-24 13:12:59,734 : INFO : EPOCH 5 - PROGRESS: at 31.75% examples, 682081 words/s, in_qsize 17, out_qsize 2\n",
      "2018-11-24 13:13:00,737 : INFO : EPOCH 5 - PROGRESS: at 33.66% examples, 674554 words/s, in_qsize 19, out_qsize 0\n",
      "2018-11-24 13:13:01,742 : INFO : EPOCH 5 - PROGRESS: at 35.48% examples, 666339 words/s, in_qsize 19, out_qsize 0\n",
      "2018-11-24 13:13:02,753 : INFO : EPOCH 5 - PROGRESS: at 37.16% examples, 655912 words/s, in_qsize 18, out_qsize 1\n",
      "2018-11-24 13:13:03,775 : INFO : EPOCH 5 - PROGRESS: at 38.93% examples, 646516 words/s, in_qsize 20, out_qsize 1\n",
      "2018-11-24 13:13:04,838 : INFO : EPOCH 5 - PROGRESS: at 40.67% examples, 637214 words/s, in_qsize 20, out_qsize 0\n",
      "2018-11-24 13:13:05,867 : INFO : EPOCH 5 - PROGRESS: at 42.57% examples, 630459 words/s, in_qsize 20, out_qsize 2\n",
      "2018-11-24 13:13:06,872 : INFO : EPOCH 5 - PROGRESS: at 44.60% examples, 626358 words/s, in_qsize 19, out_qsize 0\n",
      "2018-11-24 13:13:07,913 : INFO : EPOCH 5 - PROGRESS: at 46.38% examples, 620093 words/s, in_qsize 19, out_qsize 0\n",
      "2018-11-24 13:13:08,937 : INFO : EPOCH 5 - PROGRESS: at 47.98% examples, 613570 words/s, in_qsize 18, out_qsize 1\n",
      "2018-11-24 13:13:10,023 : INFO : EPOCH 5 - PROGRESS: at 49.70% examples, 606657 words/s, in_qsize 18, out_qsize 1\n",
      "2018-11-24 13:13:11,032 : INFO : EPOCH 5 - PROGRESS: at 51.54% examples, 603661 words/s, in_qsize 19, out_qsize 0\n",
      "2018-11-24 13:13:12,040 : INFO : EPOCH 5 - PROGRESS: at 53.16% examples, 600335 words/s, in_qsize 19, out_qsize 0\n",
      "2018-11-24 13:13:13,071 : INFO : EPOCH 5 - PROGRESS: at 55.03% examples, 597684 words/s, in_qsize 19, out_qsize 0\n",
      "2018-11-24 13:13:14,071 : INFO : EPOCH 5 - PROGRESS: at 56.87% examples, 594833 words/s, in_qsize 19, out_qsize 0\n",
      "2018-11-24 13:13:15,094 : INFO : EPOCH 5 - PROGRESS: at 58.48% examples, 590528 words/s, in_qsize 18, out_qsize 1\n",
      "2018-11-24 13:13:16,114 : INFO : EPOCH 5 - PROGRESS: at 60.10% examples, 586165 words/s, in_qsize 14, out_qsize 5\n",
      "2018-11-24 13:13:17,141 : INFO : EPOCH 5 - PROGRESS: at 61.89% examples, 583708 words/s, in_qsize 20, out_qsize 2\n",
      "2018-11-24 13:13:18,144 : INFO : EPOCH 5 - PROGRESS: at 63.61% examples, 580277 words/s, in_qsize 19, out_qsize 0\n",
      "2018-11-24 13:13:19,179 : INFO : EPOCH 5 - PROGRESS: at 65.53% examples, 578503 words/s, in_qsize 20, out_qsize 0\n",
      "2018-11-24 13:13:20,182 : INFO : EPOCH 5 - PROGRESS: at 67.13% examples, 575894 words/s, in_qsize 19, out_qsize 0\n",
      "2018-11-24 13:13:21,199 : INFO : EPOCH 5 - PROGRESS: at 68.77% examples, 573092 words/s, in_qsize 16, out_qsize 3\n",
      "2018-11-24 13:13:22,226 : INFO : EPOCH 5 - PROGRESS: at 70.45% examples, 571599 words/s, in_qsize 19, out_qsize 0\n",
      "2018-11-24 13:13:23,241 : INFO : EPOCH 5 - PROGRESS: at 72.17% examples, 570055 words/s, in_qsize 17, out_qsize 2\n",
      "2018-11-24 13:13:24,284 : INFO : EPOCH 5 - PROGRESS: at 74.13% examples, 568677 words/s, in_qsize 19, out_qsize 0\n",
      "2018-11-24 13:13:25,314 : INFO : EPOCH 5 - PROGRESS: at 75.57% examples, 565470 words/s, in_qsize 18, out_qsize 1\n",
      "2018-11-24 13:13:26,318 : INFO : EPOCH 5 - PROGRESS: at 76.93% examples, 562370 words/s, in_qsize 18, out_qsize 3\n",
      "2018-11-24 13:13:27,336 : INFO : EPOCH 5 - PROGRESS: at 78.93% examples, 563766 words/s, in_qsize 19, out_qsize 0\n",
      "2018-11-24 13:13:28,346 : INFO : EPOCH 5 - PROGRESS: at 81.09% examples, 566058 words/s, in_qsize 18, out_qsize 1\n",
      "2018-11-24 13:13:29,354 : INFO : EPOCH 5 - PROGRESS: at 83.22% examples, 567316 words/s, in_qsize 19, out_qsize 0\n",
      "2018-11-24 13:13:30,382 : INFO : EPOCH 5 - PROGRESS: at 85.14% examples, 567739 words/s, in_qsize 17, out_qsize 2\n",
      "2018-11-24 13:13:31,395 : INFO : EPOCH 5 - PROGRESS: at 87.81% examples, 571604 words/s, in_qsize 19, out_qsize 0\n",
      "2018-11-24 13:13:32,414 : INFO : EPOCH 5 - PROGRESS: at 90.41% examples, 574678 words/s, in_qsize 19, out_qsize 0\n",
      "2018-11-24 13:13:33,417 : INFO : EPOCH 5 - PROGRESS: at 92.82% examples, 577331 words/s, in_qsize 18, out_qsize 1\n",
      "2018-11-24 13:13:34,446 : INFO : EPOCH 5 - PROGRESS: at 95.32% examples, 580029 words/s, in_qsize 16, out_qsize 3\n",
      "2018-11-24 13:13:35,452 : INFO : EPOCH 5 - PROGRESS: at 97.79% examples, 582710 words/s, in_qsize 19, out_qsize 0\n",
      "2018-11-24 13:13:36,338 : INFO : worker thread finished; awaiting finish of 9 more threads\n",
      "2018-11-24 13:13:36,362 : INFO : worker thread finished; awaiting finish of 8 more threads\n",
      "2018-11-24 13:13:36,365 : INFO : worker thread finished; awaiting finish of 7 more threads\n",
      "2018-11-24 13:13:36,382 : INFO : worker thread finished; awaiting finish of 6 more threads\n",
      "2018-11-24 13:13:36,386 : INFO : worker thread finished; awaiting finish of 5 more threads\n",
      "2018-11-24 13:13:36,403 : INFO : worker thread finished; awaiting finish of 4 more threads\n",
      "2018-11-24 13:13:36,409 : INFO : worker thread finished; awaiting finish of 3 more threads\n",
      "2018-11-24 13:13:36,415 : INFO : worker thread finished; awaiting finish of 2 more threads\n",
      "2018-11-24 13:13:36,419 : INFO : worker thread finished; awaiting finish of 1 more threads\n",
      "2018-11-24 13:13:36,422 : INFO : worker thread finished; awaiting finish of 0 more threads\n",
      "2018-11-24 13:13:36,425 : INFO : EPOCH - 5 : training on 41519355 raw words (30348839 effective words) took 52.0s, 583967 effective words/s\n",
      "2018-11-24 13:13:37,437 : INFO : EPOCH 6 - PROGRESS: at 2.21% examples, 698513 words/s, in_qsize 18, out_qsize 1\n",
      "2018-11-24 13:13:38,450 : INFO : EPOCH 6 - PROGRESS: at 4.83% examples, 737871 words/s, in_qsize 18, out_qsize 1\n",
      "2018-11-24 13:13:39,455 : INFO : EPOCH 6 - PROGRESS: at 7.17% examples, 732564 words/s, in_qsize 20, out_qsize 4\n",
      "2018-11-24 13:13:40,460 : INFO : EPOCH 6 - PROGRESS: at 9.09% examples, 704818 words/s, in_qsize 19, out_qsize 0\n",
      "2018-11-24 13:13:41,474 : INFO : EPOCH 6 - PROGRESS: at 11.11% examples, 712771 words/s, in_qsize 19, out_qsize 0\n",
      "2018-11-24 13:13:42,500 : INFO : EPOCH 6 - PROGRESS: at 12.86% examples, 700100 words/s, in_qsize 17, out_qsize 2\n",
      "2018-11-24 13:13:43,510 : INFO : EPOCH 6 - PROGRESS: at 14.85% examples, 695828 words/s, in_qsize 19, out_qsize 0\n",
      "2018-11-24 13:13:44,523 : INFO : EPOCH 6 - PROGRESS: at 16.78% examples, 690721 words/s, in_qsize 19, out_qsize 0\n",
      "2018-11-24 13:13:45,528 : INFO : EPOCH 6 - PROGRESS: at 18.53% examples, 685800 words/s, in_qsize 19, out_qsize 0\n",
      "2018-11-24 13:13:46,555 : INFO : EPOCH 6 - PROGRESS: at 20.48% examples, 691140 words/s, in_qsize 17, out_qsize 2\n",
      "2018-11-24 13:13:47,558 : INFO : EPOCH 6 - PROGRESS: at 22.71% examples, 695250 words/s, in_qsize 19, out_qsize 0\n",
      "2018-11-24 13:13:48,563 : INFO : EPOCH 6 - PROGRESS: at 24.29% examples, 689756 words/s, in_qsize 19, out_qsize 0\n",
      "2018-11-24 13:13:49,572 : INFO : EPOCH 6 - PROGRESS: at 26.55% examples, 685084 words/s, in_qsize 19, out_qsize 0\n",
      "2018-11-24 13:13:50,619 : INFO : EPOCH 6 - PROGRESS: at 29.32% examples, 688444 words/s, in_qsize 18, out_qsize 1\n",
      "2018-11-24 13:13:51,638 : INFO : EPOCH 6 - PROGRESS: at 32.06% examples, 691687 words/s, in_qsize 18, out_qsize 1\n"
     ]
    },
    {
     "name": "stderr",
     "output_type": "stream",
     "text": [
      "2018-11-24 13:13:52,643 : INFO : EPOCH 6 - PROGRESS: at 34.54% examples, 693348 words/s, in_qsize 20, out_qsize 0\n",
      "2018-11-24 13:13:53,644 : INFO : EPOCH 6 - PROGRESS: at 36.89% examples, 692408 words/s, in_qsize 19, out_qsize 0\n",
      "2018-11-24 13:13:54,667 : INFO : EPOCH 6 - PROGRESS: at 39.38% examples, 691904 words/s, in_qsize 19, out_qsize 0\n",
      "2018-11-24 13:13:55,685 : INFO : EPOCH 6 - PROGRESS: at 42.26% examples, 696062 words/s, in_qsize 19, out_qsize 0\n",
      "2018-11-24 13:13:56,719 : INFO : EPOCH 6 - PROGRESS: at 44.92% examples, 696524 words/s, in_qsize 15, out_qsize 4\n",
      "2018-11-24 13:13:57,725 : INFO : EPOCH 6 - PROGRESS: at 47.22% examples, 695051 words/s, in_qsize 19, out_qsize 0\n",
      "2018-11-24 13:13:58,767 : INFO : EPOCH 6 - PROGRESS: at 49.66% examples, 693911 words/s, in_qsize 19, out_qsize 0\n",
      "2018-11-24 13:13:59,770 : INFO : EPOCH 6 - PROGRESS: at 52.22% examples, 696442 words/s, in_qsize 19, out_qsize 0\n",
      "2018-11-24 13:14:00,770 : INFO : EPOCH 6 - PROGRESS: at 54.63% examples, 698401 words/s, in_qsize 18, out_qsize 0\n",
      "2018-11-24 13:14:01,779 : INFO : EPOCH 6 - PROGRESS: at 57.22% examples, 698799 words/s, in_qsize 19, out_qsize 0\n",
      "2018-11-24 13:14:02,796 : INFO : EPOCH 6 - PROGRESS: at 59.71% examples, 699279 words/s, in_qsize 19, out_qsize 0\n",
      "2018-11-24 13:14:03,809 : INFO : EPOCH 6 - PROGRESS: at 61.88% examples, 696971 words/s, in_qsize 19, out_qsize 0\n",
      "2018-11-24 13:14:04,822 : INFO : EPOCH 6 - PROGRESS: at 64.69% examples, 698294 words/s, in_qsize 20, out_qsize 0\n",
      "2018-11-24 13:14:05,834 : INFO : EPOCH 6 - PROGRESS: at 67.19% examples, 700353 words/s, in_qsize 20, out_qsize 0\n",
      "2018-11-24 13:14:06,837 : INFO : EPOCH 6 - PROGRESS: at 69.65% examples, 701852 words/s, in_qsize 19, out_qsize 0\n",
      "2018-11-24 13:14:07,851 : INFO : EPOCH 6 - PROGRESS: at 71.90% examples, 701467 words/s, in_qsize 19, out_qsize 0\n",
      "2018-11-24 13:14:08,874 : INFO : EPOCH 6 - PROGRESS: at 74.32% examples, 699992 words/s, in_qsize 19, out_qsize 0\n",
      "2018-11-24 13:14:09,891 : INFO : EPOCH 6 - PROGRESS: at 76.62% examples, 700672 words/s, in_qsize 19, out_qsize 0\n",
      "2018-11-24 13:14:10,903 : INFO : EPOCH 6 - PROGRESS: at 78.91% examples, 701158 words/s, in_qsize 19, out_qsize 0\n",
      "2018-11-24 13:14:11,916 : INFO : EPOCH 6 - PROGRESS: at 81.30% examples, 701847 words/s, in_qsize 19, out_qsize 1\n",
      "2018-11-24 13:14:12,922 : INFO : EPOCH 6 - PROGRESS: at 83.59% examples, 701062 words/s, in_qsize 19, out_qsize 0\n",
      "2018-11-24 13:14:13,927 : INFO : EPOCH 6 - PROGRESS: at 85.75% examples, 700275 words/s, in_qsize 18, out_qsize 1\n",
      "2018-11-24 13:14:14,940 : INFO : EPOCH 6 - PROGRESS: at 88.46% examples, 701536 words/s, in_qsize 19, out_qsize 0\n",
      "2018-11-24 13:14:15,958 : INFO : EPOCH 6 - PROGRESS: at 91.00% examples, 701766 words/s, in_qsize 19, out_qsize 1\n",
      "2018-11-24 13:14:16,971 : INFO : EPOCH 6 - PROGRESS: at 93.58% examples, 703079 words/s, in_qsize 19, out_qsize 0\n",
      "2018-11-24 13:14:17,981 : INFO : EPOCH 6 - PROGRESS: at 96.08% examples, 703413 words/s, in_qsize 20, out_qsize 2\n",
      "2018-11-24 13:14:18,989 : INFO : EPOCH 6 - PROGRESS: at 98.28% examples, 701800 words/s, in_qsize 19, out_qsize 0\n",
      "2018-11-24 13:14:19,589 : INFO : worker thread finished; awaiting finish of 9 more threads\n",
      "2018-11-24 13:14:19,593 : INFO : worker thread finished; awaiting finish of 8 more threads\n",
      "2018-11-24 13:14:19,611 : INFO : worker thread finished; awaiting finish of 7 more threads\n",
      "2018-11-24 13:14:19,626 : INFO : worker thread finished; awaiting finish of 6 more threads\n",
      "2018-11-24 13:14:19,649 : INFO : worker thread finished; awaiting finish of 5 more threads\n",
      "2018-11-24 13:14:19,652 : INFO : worker thread finished; awaiting finish of 4 more threads\n",
      "2018-11-24 13:14:19,655 : INFO : worker thread finished; awaiting finish of 3 more threads\n",
      "2018-11-24 13:14:19,666 : INFO : worker thread finished; awaiting finish of 2 more threads\n",
      "2018-11-24 13:14:19,669 : INFO : worker thread finished; awaiting finish of 1 more threads\n",
      "2018-11-24 13:14:19,678 : INFO : worker thread finished; awaiting finish of 0 more threads\n",
      "2018-11-24 13:14:19,680 : INFO : EPOCH - 6 : training on 41519355 raw words (30351407 effective words) took 43.2s, 701852 effective words/s\n",
      "2018-11-24 13:14:20,697 : INFO : EPOCH 7 - PROGRESS: at 2.14% examples, 672218 words/s, in_qsize 16, out_qsize 3\n",
      "2018-11-24 13:14:21,740 : INFO : EPOCH 7 - PROGRESS: at 4.34% examples, 650574 words/s, in_qsize 19, out_qsize 0\n",
      "2018-11-24 13:14:22,759 : INFO : EPOCH 7 - PROGRESS: at 5.90% examples, 594180 words/s, in_qsize 18, out_qsize 1\n",
      "2018-11-24 13:14:23,792 : INFO : EPOCH 7 - PROGRESS: at 8.02% examples, 605800 words/s, in_qsize 19, out_qsize 0\n",
      "2018-11-24 13:14:24,801 : INFO : EPOCH 7 - PROGRESS: at 9.99% examples, 621023 words/s, in_qsize 18, out_qsize 1\n",
      "2018-11-24 13:14:25,825 : INFO : EPOCH 7 - PROGRESS: at 11.94% examples, 636879 words/s, in_qsize 19, out_qsize 0\n",
      "2018-11-24 13:14:26,837 : INFO : EPOCH 7 - PROGRESS: at 14.10% examples, 651324 words/s, in_qsize 19, out_qsize 0\n",
      "2018-11-24 13:14:27,840 : INFO : EPOCH 7 - PROGRESS: at 16.19% examples, 658908 words/s, in_qsize 19, out_qsize 0\n",
      "2018-11-24 13:14:28,848 : INFO : EPOCH 7 - PROGRESS: at 18.09% examples, 663426 words/s, in_qsize 19, out_qsize 0\n",
      "2018-11-24 13:14:29,857 : INFO : EPOCH 7 - PROGRESS: at 19.64% examples, 656018 words/s, in_qsize 18, out_qsize 1\n",
      "2018-11-24 13:14:30,940 : INFO : EPOCH 7 - PROGRESS: at 20.83% examples, 634385 words/s, in_qsize 20, out_qsize 1\n",
      "2018-11-24 13:14:31,981 : INFO : EPOCH 7 - PROGRESS: at 22.60% examples, 626639 words/s, in_qsize 19, out_qsize 0\n",
      "2018-11-24 13:14:33,002 : INFO : EPOCH 7 - PROGRESS: at 23.85% examples, 615302 words/s, in_qsize 19, out_qsize 0\n",
      "2018-11-24 13:14:34,015 : INFO : EPOCH 7 - PROGRESS: at 25.24% examples, 603443 words/s, in_qsize 19, out_qsize 0\n",
      "2018-11-24 13:14:35,030 : INFO : EPOCH 7 - PROGRESS: at 26.99% examples, 594596 words/s, in_qsize 19, out_qsize 0\n",
      "2018-11-24 13:14:36,038 : INFO : EPOCH 7 - PROGRESS: at 28.58% examples, 584421 words/s, in_qsize 18, out_qsize 1\n",
      "2018-11-24 13:14:37,050 : INFO : EPOCH 7 - PROGRESS: at 30.44% examples, 581062 words/s, in_qsize 18, out_qsize 1\n",
      "2018-11-24 13:14:38,060 : INFO : EPOCH 7 - PROGRESS: at 32.38% examples, 576998 words/s, in_qsize 19, out_qsize 0\n",
      "2018-11-24 13:14:39,062 : INFO : EPOCH 7 - PROGRESS: at 34.12% examples, 574359 words/s, in_qsize 20, out_qsize 0\n",
      "2018-11-24 13:14:40,069 : INFO : EPOCH 7 - PROGRESS: at 35.82% examples, 570134 words/s, in_qsize 20, out_qsize 0\n",
      "2018-11-24 13:14:41,086 : INFO : EPOCH 7 - PROGRESS: at 37.67% examples, 567599 words/s, in_qsize 19, out_qsize 0\n",
      "2018-11-24 13:14:42,119 : INFO : EPOCH 7 - PROGRESS: at 39.40% examples, 562350 words/s, in_qsize 16, out_qsize 3\n",
      "2018-11-24 13:14:43,206 : INFO : EPOCH 7 - PROGRESS: at 41.33% examples, 559043 words/s, in_qsize 17, out_qsize 2\n",
      "2018-11-24 13:14:44,214 : INFO : EPOCH 7 - PROGRESS: at 43.07% examples, 555963 words/s, in_qsize 19, out_qsize 4\n",
      "2018-11-24 13:14:45,258 : INFO : EPOCH 7 - PROGRESS: at 45.11% examples, 554744 words/s, in_qsize 15, out_qsize 5\n",
      "2018-11-24 13:14:46,261 : INFO : EPOCH 7 - PROGRESS: at 46.87% examples, 553029 words/s, in_qsize 19, out_qsize 0\n",
      "2018-11-24 13:14:47,278 : INFO : EPOCH 7 - PROGRESS: at 48.63% examples, 550946 words/s, in_qsize 18, out_qsize 1\n",
      "2018-11-24 13:14:48,293 : INFO : EPOCH 7 - PROGRESS: at 50.48% examples, 549755 words/s, in_qsize 17, out_qsize 2\n",
      "2018-11-24 13:14:49,294 : INFO : EPOCH 7 - PROGRESS: at 52.08% examples, 547414 words/s, in_qsize 18, out_qsize 1\n",
      "2018-11-24 13:14:50,299 : INFO : EPOCH 7 - PROGRESS: at 53.65% examples, 545668 words/s, in_qsize 19, out_qsize 0\n",
      "2018-11-24 13:14:51,302 : INFO : EPOCH 7 - PROGRESS: at 55.45% examples, 544156 words/s, in_qsize 19, out_qsize 1\n",
      "2018-11-24 13:14:52,350 : INFO : EPOCH 7 - PROGRESS: at 57.03% examples, 540656 words/s, in_qsize 20, out_qsize 0\n",
      "2018-11-24 13:14:53,373 : INFO : EPOCH 7 - PROGRESS: at 58.54% examples, 537504 words/s, in_qsize 19, out_qsize 0\n",
      "2018-11-24 13:14:54,398 : INFO : EPOCH 7 - PROGRESS: at 59.96% examples, 533304 words/s, in_qsize 19, out_qsize 2\n",
      "2018-11-24 13:14:55,399 : INFO : EPOCH 7 - PROGRESS: at 61.52% examples, 531161 words/s, in_qsize 19, out_qsize 0\n",
      "2018-11-24 13:14:56,426 : INFO : EPOCH 7 - PROGRESS: at 63.89% examples, 534007 words/s, in_qsize 18, out_qsize 1\n"
     ]
    },
    {
     "name": "stderr",
     "output_type": "stream",
     "text": [
      "2018-11-24 13:14:57,429 : INFO : EPOCH 7 - PROGRESS: at 65.86% examples, 535242 words/s, in_qsize 20, out_qsize 0\n",
      "2018-11-24 13:14:58,475 : INFO : EPOCH 7 - PROGRESS: at 68.20% examples, 538363 words/s, in_qsize 19, out_qsize 0\n",
      "2018-11-24 13:14:59,496 : INFO : EPOCH 7 - PROGRESS: at 70.17% examples, 540263 words/s, in_qsize 19, out_qsize 0\n",
      "2018-11-24 13:15:00,509 : INFO : EPOCH 7 - PROGRESS: at 72.47% examples, 543501 words/s, in_qsize 16, out_qsize 3\n",
      "2018-11-24 13:15:01,522 : INFO : EPOCH 7 - PROGRESS: at 74.74% examples, 545633 words/s, in_qsize 18, out_qsize 1\n",
      "2018-11-24 13:15:02,559 : INFO : EPOCH 7 - PROGRESS: at 75.86% examples, 541018 words/s, in_qsize 19, out_qsize 0\n",
      "2018-11-24 13:15:03,568 : INFO : EPOCH 7 - PROGRESS: at 77.44% examples, 540211 words/s, in_qsize 19, out_qsize 0\n",
      "2018-11-24 13:15:04,588 : INFO : EPOCH 7 - PROGRESS: at 79.06% examples, 539291 words/s, in_qsize 20, out_qsize 0\n",
      "2018-11-24 13:15:05,623 : INFO : EPOCH 7 - PROGRESS: at 80.78% examples, 538611 words/s, in_qsize 19, out_qsize 0\n",
      "2018-11-24 13:15:06,639 : INFO : EPOCH 7 - PROGRESS: at 82.49% examples, 537840 words/s, in_qsize 19, out_qsize 0\n",
      "2018-11-24 13:15:07,676 : INFO : EPOCH 7 - PROGRESS: at 84.19% examples, 536860 words/s, in_qsize 19, out_qsize 1\n",
      "2018-11-24 13:15:08,700 : INFO : EPOCH 7 - PROGRESS: at 85.79% examples, 535905 words/s, in_qsize 19, out_qsize 0\n",
      "2018-11-24 13:15:09,749 : INFO : EPOCH 7 - PROGRESS: at 87.57% examples, 534609 words/s, in_qsize 20, out_qsize 2\n",
      "2018-11-24 13:15:10,763 : INFO : EPOCH 7 - PROGRESS: at 89.58% examples, 535034 words/s, in_qsize 18, out_qsize 1\n",
      "2018-11-24 13:15:11,774 : INFO : EPOCH 7 - PROGRESS: at 91.41% examples, 534640 words/s, in_qsize 20, out_qsize 0\n",
      "2018-11-24 13:15:12,776 : INFO : EPOCH 7 - PROGRESS: at 93.08% examples, 534055 words/s, in_qsize 18, out_qsize 1\n",
      "2018-11-24 13:15:13,779 : INFO : EPOCH 7 - PROGRESS: at 94.70% examples, 532826 words/s, in_qsize 19, out_qsize 0\n",
      "2018-11-24 13:15:14,829 : INFO : EPOCH 7 - PROGRESS: at 96.47% examples, 531852 words/s, in_qsize 20, out_qsize 5\n",
      "2018-11-24 13:15:15,912 : INFO : EPOCH 7 - PROGRESS: at 98.38% examples, 531590 words/s, in_qsize 19, out_qsize 0\n",
      "2018-11-24 13:15:16,686 : INFO : worker thread finished; awaiting finish of 9 more threads\n",
      "2018-11-24 13:15:16,696 : INFO : worker thread finished; awaiting finish of 8 more threads\n",
      "2018-11-24 13:15:16,706 : INFO : worker thread finished; awaiting finish of 7 more threads\n",
      "2018-11-24 13:15:16,710 : INFO : worker thread finished; awaiting finish of 6 more threads\n",
      "2018-11-24 13:15:16,713 : INFO : worker thread finished; awaiting finish of 5 more threads\n",
      "2018-11-24 13:15:16,716 : INFO : worker thread finished; awaiting finish of 4 more threads\n",
      "2018-11-24 13:15:16,725 : INFO : worker thread finished; awaiting finish of 3 more threads\n",
      "2018-11-24 13:15:16,729 : INFO : worker thread finished; awaiting finish of 2 more threads\n",
      "2018-11-24 13:15:16,740 : INFO : worker thread finished; awaiting finish of 1 more threads\n",
      "2018-11-24 13:15:16,757 : INFO : worker thread finished; awaiting finish of 0 more threads\n",
      "2018-11-24 13:15:16,759 : INFO : EPOCH - 7 : training on 41519355 raw words (30346004 effective words) took 57.1s, 531734 effective words/s\n",
      "2018-11-24 13:15:17,801 : INFO : EPOCH 8 - PROGRESS: at 1.68% examples, 512134 words/s, in_qsize 18, out_qsize 1\n",
      "2018-11-24 13:15:18,808 : INFO : EPOCH 8 - PROGRESS: at 3.39% examples, 517231 words/s, in_qsize 18, out_qsize 1\n",
      "2018-11-24 13:15:19,818 : INFO : EPOCH 8 - PROGRESS: at 5.06% examples, 511493 words/s, in_qsize 17, out_qsize 2\n",
      "2018-11-24 13:15:20,833 : INFO : EPOCH 8 - PROGRESS: at 6.67% examples, 505748 words/s, in_qsize 19, out_qsize 0\n",
      "2018-11-24 13:15:21,849 : INFO : EPOCH 8 - PROGRESS: at 8.02% examples, 489560 words/s, in_qsize 20, out_qsize 1\n",
      "2018-11-24 13:15:22,897 : INFO : EPOCH 8 - PROGRESS: at 9.39% examples, 478631 words/s, in_qsize 15, out_qsize 4\n",
      "2018-11-24 13:15:23,901 : INFO : EPOCH 8 - PROGRESS: at 10.74% examples, 482695 words/s, in_qsize 19, out_qsize 0\n",
      "2018-11-24 13:15:24,968 : INFO : EPOCH 8 - PROGRESS: at 12.20% examples, 489953 words/s, in_qsize 17, out_qsize 2\n",
      "2018-11-24 13:15:25,993 : INFO : EPOCH 8 - PROGRESS: at 14.22% examples, 509665 words/s, in_qsize 19, out_qsize 0\n",
      "2018-11-24 13:15:27,000 : INFO : EPOCH 8 - PROGRESS: at 15.95% examples, 517449 words/s, in_qsize 17, out_qsize 2\n",
      "2018-11-24 13:15:28,008 : INFO : EPOCH 8 - PROGRESS: at 17.58% examples, 524889 words/s, in_qsize 17, out_qsize 2\n",
      "2018-11-24 13:15:29,014 : INFO : EPOCH 8 - PROGRESS: at 19.29% examples, 533815 words/s, in_qsize 19, out_qsize 0\n",
      "2018-11-24 13:15:30,021 : INFO : EPOCH 8 - PROGRESS: at 21.03% examples, 545341 words/s, in_qsize 18, out_qsize 1\n",
      "2018-11-24 13:15:31,056 : INFO : EPOCH 8 - PROGRESS: at 23.26% examples, 556981 words/s, in_qsize 19, out_qsize 0\n",
      "2018-11-24 13:15:32,061 : INFO : EPOCH 8 - PROGRESS: at 24.52% examples, 552748 words/s, in_qsize 20, out_qsize 0\n",
      "2018-11-24 13:15:33,065 : INFO : EPOCH 8 - PROGRESS: at 26.29% examples, 548394 words/s, in_qsize 19, out_qsize 0\n",
      "2018-11-24 13:15:34,073 : INFO : EPOCH 8 - PROGRESS: at 28.18% examples, 545213 words/s, in_qsize 18, out_qsize 1\n",
      "2018-11-24 13:15:35,078 : INFO : EPOCH 8 - PROGRESS: at 30.62% examples, 553495 words/s, in_qsize 19, out_qsize 0\n",
      "2018-11-24 13:15:36,095 : INFO : EPOCH 8 - PROGRESS: at 33.13% examples, 559786 words/s, in_qsize 17, out_qsize 2\n",
      "2018-11-24 13:15:37,130 : INFO : EPOCH 8 - PROGRESS: at 34.82% examples, 556624 words/s, in_qsize 20, out_qsize 0\n",
      "2018-11-24 13:15:38,131 : INFO : EPOCH 8 - PROGRESS: at 37.25% examples, 563306 words/s, in_qsize 17, out_qsize 2\n",
      "2018-11-24 13:15:39,140 : INFO : EPOCH 8 - PROGRESS: at 39.98% examples, 572029 words/s, in_qsize 18, out_qsize 1\n",
      "2018-11-24 13:15:40,152 : INFO : EPOCH 8 - PROGRESS: at 42.67% examples, 578662 words/s, in_qsize 17, out_qsize 2\n",
      "2018-11-24 13:15:41,161 : INFO : EPOCH 8 - PROGRESS: at 45.28% examples, 583420 words/s, in_qsize 20, out_qsize 0\n",
      "2018-11-24 13:15:42,163 : INFO : EPOCH 8 - PROGRESS: at 47.73% examples, 588503 words/s, in_qsize 19, out_qsize 0\n",
      "2018-11-24 13:15:43,168 : INFO : EPOCH 8 - PROGRESS: at 49.55% examples, 585746 words/s, in_qsize 20, out_qsize 2\n",
      "2018-11-24 13:15:44,169 : INFO : EPOCH 8 - PROGRESS: at 51.91% examples, 589797 words/s, in_qsize 18, out_qsize 1\n",
      "2018-11-24 13:15:45,184 : INFO : EPOCH 8 - PROGRESS: at 54.25% examples, 594100 words/s, in_qsize 17, out_qsize 2\n",
      "2018-11-24 13:15:46,191 : INFO : EPOCH 8 - PROGRESS: at 56.91% examples, 599097 words/s, in_qsize 19, out_qsize 0\n",
      "2018-11-24 13:15:47,218 : INFO : EPOCH 8 - PROGRESS: at 59.27% examples, 601413 words/s, in_qsize 19, out_qsize 0\n",
      "2018-11-24 13:15:48,222 : INFO : EPOCH 8 - PROGRESS: at 61.67% examples, 604804 words/s, in_qsize 17, out_qsize 2\n",
      "2018-11-24 13:15:49,280 : INFO : EPOCH 8 - PROGRESS: at 64.23% examples, 606010 words/s, in_qsize 19, out_qsize 0\n",
      "2018-11-24 13:15:50,280 : INFO : EPOCH 8 - PROGRESS: at 66.70% examples, 610403 words/s, in_qsize 18, out_qsize 1\n",
      "2018-11-24 13:15:51,281 : INFO : EPOCH 8 - PROGRESS: at 69.21% examples, 614176 words/s, in_qsize 17, out_qsize 2\n",
      "2018-11-24 13:15:52,283 : INFO : EPOCH 8 - PROGRESS: at 71.42% examples, 616132 words/s, in_qsize 19, out_qsize 0\n",
      "2018-11-24 13:15:53,290 : INFO : EPOCH 8 - PROGRESS: at 74.02% examples, 619252 words/s, in_qsize 19, out_qsize 0\n",
      "2018-11-24 13:15:54,301 : INFO : EPOCH 8 - PROGRESS: at 76.28% examples, 621950 words/s, in_qsize 20, out_qsize 1\n",
      "2018-11-24 13:15:55,309 : INFO : EPOCH 8 - PROGRESS: at 78.63% examples, 624914 words/s, in_qsize 16, out_qsize 3\n",
      "2018-11-24 13:15:56,334 : INFO : EPOCH 8 - PROGRESS: at 81.11% examples, 628200 words/s, in_qsize 19, out_qsize 0\n",
      "2018-11-24 13:15:57,342 : INFO : EPOCH 8 - PROGRESS: at 83.45% examples, 629450 words/s, in_qsize 20, out_qsize 0\n",
      "2018-11-24 13:15:58,362 : INFO : EPOCH 8 - PROGRESS: at 85.66% examples, 630922 words/s, in_qsize 20, out_qsize 1\n",
      "2018-11-24 13:15:59,368 : INFO : EPOCH 8 - PROGRESS: at 88.38% examples, 633631 words/s, in_qsize 19, out_qsize 0\n",
      "2018-11-24 13:16:00,371 : INFO : EPOCH 8 - PROGRESS: at 91.03% examples, 636302 words/s, in_qsize 17, out_qsize 2\n",
      "2018-11-24 13:16:01,379 : INFO : EPOCH 8 - PROGRESS: at 93.72% examples, 639709 words/s, in_qsize 20, out_qsize 0\n"
     ]
    },
    {
     "name": "stderr",
     "output_type": "stream",
     "text": [
      "2018-11-24 13:16:02,390 : INFO : EPOCH 8 - PROGRESS: at 96.29% examples, 642023 words/s, in_qsize 20, out_qsize 0\n",
      "2018-11-24 13:16:03,406 : INFO : EPOCH 8 - PROGRESS: at 98.66% examples, 642671 words/s, in_qsize 20, out_qsize 1\n",
      "2018-11-24 13:16:03,860 : INFO : worker thread finished; awaiting finish of 9 more threads\n",
      "2018-11-24 13:16:03,863 : INFO : worker thread finished; awaiting finish of 8 more threads\n",
      "2018-11-24 13:16:03,874 : INFO : worker thread finished; awaiting finish of 7 more threads\n",
      "2018-11-24 13:16:03,892 : INFO : worker thread finished; awaiting finish of 6 more threads\n",
      "2018-11-24 13:16:03,908 : INFO : worker thread finished; awaiting finish of 5 more threads\n",
      "2018-11-24 13:16:03,912 : INFO : worker thread finished; awaiting finish of 4 more threads\n",
      "2018-11-24 13:16:03,917 : INFO : worker thread finished; awaiting finish of 3 more threads\n",
      "2018-11-24 13:16:03,929 : INFO : worker thread finished; awaiting finish of 2 more threads\n",
      "2018-11-24 13:16:03,936 : INFO : worker thread finished; awaiting finish of 1 more threads\n",
      "2018-11-24 13:16:03,941 : INFO : worker thread finished; awaiting finish of 0 more threads\n",
      "2018-11-24 13:16:03,942 : INFO : EPOCH - 8 : training on 41519355 raw words (30349126 effective words) took 47.2s, 643392 effective words/s\n",
      "2018-11-24 13:16:04,961 : INFO : EPOCH 9 - PROGRESS: at 1.99% examples, 621237 words/s, in_qsize 14, out_qsize 5\n",
      "2018-11-24 13:16:05,969 : INFO : EPOCH 9 - PROGRESS: at 4.50% examples, 689954 words/s, in_qsize 19, out_qsize 0\n",
      "2018-11-24 13:16:07,023 : INFO : EPOCH 9 - PROGRESS: at 6.69% examples, 671227 words/s, in_qsize 20, out_qsize 1\n",
      "2018-11-24 13:16:08,038 : INFO : EPOCH 9 - PROGRESS: at 8.09% examples, 613601 words/s, in_qsize 19, out_qsize 0\n",
      "2018-11-24 13:16:09,054 : INFO : EPOCH 9 - PROGRESS: at 9.95% examples, 622328 words/s, in_qsize 19, out_qsize 0\n",
      "2018-11-24 13:16:10,068 : INFO : EPOCH 9 - PROGRESS: at 11.46% examples, 607430 words/s, in_qsize 18, out_qsize 1\n",
      "2018-11-24 13:16:11,085 : INFO : EPOCH 9 - PROGRESS: at 13.29% examples, 613596 words/s, in_qsize 17, out_qsize 2\n",
      "2018-11-24 13:16:12,087 : INFO : EPOCH 9 - PROGRESS: at 15.35% examples, 623989 words/s, in_qsize 19, out_qsize 0\n",
      "2018-11-24 13:16:13,114 : INFO : EPOCH 9 - PROGRESS: at 17.06% examples, 621632 words/s, in_qsize 19, out_qsize 0\n",
      "2018-11-24 13:16:14,142 : INFO : EPOCH 9 - PROGRESS: at 18.96% examples, 628042 words/s, in_qsize 19, out_qsize 0\n",
      "2018-11-24 13:16:15,155 : INFO : EPOCH 9 - PROGRESS: at 20.82% examples, 637127 words/s, in_qsize 19, out_qsize 0\n",
      "2018-11-24 13:16:16,179 : INFO : EPOCH 9 - PROGRESS: at 22.84% examples, 636485 words/s, in_qsize 19, out_qsize 0\n",
      "2018-11-24 13:16:17,182 : INFO : EPOCH 9 - PROGRESS: at 24.46% examples, 637170 words/s, in_qsize 16, out_qsize 3\n",
      "2018-11-24 13:16:18,208 : INFO : EPOCH 9 - PROGRESS: at 27.04% examples, 640950 words/s, in_qsize 19, out_qsize 0\n",
      "2018-11-24 13:16:19,247 : INFO : EPOCH 9 - PROGRESS: at 29.44% examples, 640279 words/s, in_qsize 18, out_qsize 1\n",
      "2018-11-24 13:16:20,279 : INFO : EPOCH 9 - PROGRESS: at 31.92% examples, 641386 words/s, in_qsize 19, out_qsize 0\n",
      "2018-11-24 13:16:21,293 : INFO : EPOCH 9 - PROGRESS: at 33.62% examples, 632576 words/s, in_qsize 18, out_qsize 1\n",
      "2018-11-24 13:16:22,340 : INFO : EPOCH 9 - PROGRESS: at 35.50% examples, 626507 words/s, in_qsize 16, out_qsize 3\n",
      "2018-11-24 13:16:23,377 : INFO : EPOCH 9 - PROGRESS: at 37.42% examples, 621630 words/s, in_qsize 18, out_qsize 1\n",
      "2018-11-24 13:16:24,383 : INFO : EPOCH 9 - PROGRESS: at 39.38% examples, 617432 words/s, in_qsize 19, out_qsize 1\n",
      "2018-11-24 13:16:25,391 : INFO : EPOCH 9 - PROGRESS: at 41.25% examples, 612286 words/s, in_qsize 19, out_qsize 1\n",
      "2018-11-24 13:16:26,404 : INFO : EPOCH 9 - PROGRESS: at 42.99% examples, 606444 words/s, in_qsize 19, out_qsize 0\n",
      "2018-11-24 13:16:27,455 : INFO : EPOCH 9 - PROGRESS: at 44.89% examples, 600831 words/s, in_qsize 19, out_qsize 0\n",
      "2018-11-24 13:16:28,457 : INFO : EPOCH 9 - PROGRESS: at 46.81% examples, 598861 words/s, in_qsize 18, out_qsize 1\n",
      "2018-11-24 13:16:29,468 : INFO : EPOCH 9 - PROGRESS: at 48.68% examples, 596343 words/s, in_qsize 17, out_qsize 2\n",
      "2018-11-24 13:16:30,481 : INFO : EPOCH 9 - PROGRESS: at 50.41% examples, 592270 words/s, in_qsize 19, out_qsize 0\n",
      "2018-11-24 13:16:31,487 : INFO : EPOCH 9 - PROGRESS: at 51.85% examples, 586013 words/s, in_qsize 20, out_qsize 0\n",
      "2018-11-24 13:16:32,498 : INFO : EPOCH 9 - PROGRESS: at 53.45% examples, 583169 words/s, in_qsize 19, out_qsize 0\n",
      "2018-11-24 13:16:33,563 : INFO : EPOCH 9 - PROGRESS: at 55.52% examples, 581724 words/s, in_qsize 18, out_qsize 1\n",
      "2018-11-24 13:16:34,593 : INFO : EPOCH 9 - PROGRESS: at 57.48% examples, 580582 words/s, in_qsize 18, out_qsize 1\n",
      "2018-11-24 13:16:35,595 : INFO : EPOCH 9 - PROGRESS: at 59.07% examples, 577019 words/s, in_qsize 20, out_qsize 0\n",
      "2018-11-24 13:16:36,615 : INFO : EPOCH 9 - PROGRESS: at 60.86% examples, 574568 words/s, in_qsize 19, out_qsize 0\n",
      "2018-11-24 13:16:37,629 : INFO : EPOCH 9 - PROGRESS: at 62.60% examples, 572506 words/s, in_qsize 17, out_qsize 2\n",
      "2018-11-24 13:16:38,660 : INFO : EPOCH 9 - PROGRESS: at 64.71% examples, 571315 words/s, in_qsize 19, out_qsize 0\n",
      "2018-11-24 13:16:39,692 : INFO : EPOCH 9 - PROGRESS: at 66.47% examples, 570251 words/s, in_qsize 18, out_qsize 1\n",
      "2018-11-24 13:16:40,693 : INFO : EPOCH 9 - PROGRESS: at 68.26% examples, 568993 words/s, in_qsize 19, out_qsize 0\n",
      "2018-11-24 13:16:41,694 : INFO : EPOCH 9 - PROGRESS: at 69.90% examples, 567243 words/s, in_qsize 19, out_qsize 0\n",
      "2018-11-24 13:16:42,725 : INFO : EPOCH 9 - PROGRESS: at 71.54% examples, 565193 words/s, in_qsize 15, out_qsize 4\n",
      "2018-11-24 13:16:43,739 : INFO : EPOCH 9 - PROGRESS: at 73.19% examples, 562740 words/s, in_qsize 16, out_qsize 3\n",
      "2018-11-24 13:16:44,742 : INFO : EPOCH 9 - PROGRESS: at 75.20% examples, 563535 words/s, in_qsize 19, out_qsize 0\n",
      "2018-11-24 13:16:45,745 : INFO : EPOCH 9 - PROGRESS: at 77.39% examples, 566899 words/s, in_qsize 16, out_qsize 3\n",
      "2018-11-24 13:16:46,749 : INFO : EPOCH 9 - PROGRESS: at 79.76% examples, 570579 words/s, in_qsize 19, out_qsize 0\n",
      "2018-11-24 13:16:47,761 : INFO : EPOCH 9 - PROGRESS: at 82.02% examples, 573159 words/s, in_qsize 18, out_qsize 1\n",
      "2018-11-24 13:16:48,768 : INFO : EPOCH 9 - PROGRESS: at 84.31% examples, 575876 words/s, in_qsize 19, out_qsize 0\n",
      "2018-11-24 13:16:49,782 : INFO : EPOCH 9 - PROGRESS: at 85.94% examples, 574090 words/s, in_qsize 19, out_qsize 0\n",
      "2018-11-24 13:16:50,809 : INFO : EPOCH 9 - PROGRESS: at 87.75% examples, 572144 words/s, in_qsize 17, out_qsize 2\n",
      "2018-11-24 13:16:51,815 : INFO : EPOCH 9 - PROGRESS: at 89.32% examples, 569483 words/s, in_qsize 16, out_qsize 3\n",
      "2018-11-24 13:16:52,816 : INFO : EPOCH 9 - PROGRESS: at 91.16% examples, 568445 words/s, in_qsize 18, out_qsize 1\n",
      "2018-11-24 13:16:53,836 : INFO : EPOCH 9 - PROGRESS: at 93.02% examples, 567947 words/s, in_qsize 19, out_qsize 0\n",
      "2018-11-24 13:16:54,863 : INFO : EPOCH 9 - PROGRESS: at 94.84% examples, 566865 words/s, in_qsize 18, out_qsize 1\n",
      "2018-11-24 13:16:55,877 : INFO : EPOCH 9 - PROGRESS: at 96.78% examples, 566765 words/s, in_qsize 19, out_qsize 0\n",
      "2018-11-24 13:16:56,985 : INFO : EPOCH 9 - PROGRESS: at 98.67% examples, 565089 words/s, in_qsize 14, out_qsize 5\n",
      "2018-11-24 13:16:57,557 : INFO : worker thread finished; awaiting finish of 9 more threads\n",
      "2018-11-24 13:16:57,566 : INFO : worker thread finished; awaiting finish of 8 more threads\n",
      "2018-11-24 13:16:57,571 : INFO : worker thread finished; awaiting finish of 7 more threads\n",
      "2018-11-24 13:16:57,574 : INFO : worker thread finished; awaiting finish of 6 more threads\n",
      "2018-11-24 13:16:57,577 : INFO : worker thread finished; awaiting finish of 5 more threads\n",
      "2018-11-24 13:16:57,587 : INFO : worker thread finished; awaiting finish of 4 more threads\n",
      "2018-11-24 13:16:57,591 : INFO : worker thread finished; awaiting finish of 3 more threads\n",
      "2018-11-24 13:16:57,616 : INFO : worker thread finished; awaiting finish of 2 more threads\n",
      "2018-11-24 13:16:57,621 : INFO : worker thread finished; awaiting finish of 1 more threads\n",
      "2018-11-24 13:16:57,624 : INFO : worker thread finished; awaiting finish of 0 more threads\n",
      "2018-11-24 13:16:57,631 : INFO : EPOCH - 9 : training on 41519355 raw words (30347920 effective words) took 53.7s, 565360 effective words/s\n"
     ]
    },
    {
     "name": "stderr",
     "output_type": "stream",
     "text": [
      "2018-11-24 13:16:58,650 : INFO : EPOCH 10 - PROGRESS: at 1.55% examples, 489453 words/s, in_qsize 17, out_qsize 2\n",
      "2018-11-24 13:16:59,667 : INFO : EPOCH 10 - PROGRESS: at 3.12% examples, 478129 words/s, in_qsize 17, out_qsize 2\n",
      "2018-11-24 13:17:00,670 : INFO : EPOCH 10 - PROGRESS: at 5.25% examples, 536692 words/s, in_qsize 18, out_qsize 1\n",
      "2018-11-24 13:17:01,713 : INFO : EPOCH 10 - PROGRESS: at 7.30% examples, 552809 words/s, in_qsize 18, out_qsize 1\n",
      "2018-11-24 13:17:02,737 : INFO : EPOCH 10 - PROGRESS: at 9.16% examples, 560216 words/s, in_qsize 19, out_qsize 0\n",
      "2018-11-24 13:17:03,741 : INFO : EPOCH 10 - PROGRESS: at 10.81% examples, 569469 words/s, in_qsize 17, out_qsize 1\n",
      "2018-11-24 13:17:04,752 : INFO : EPOCH 10 - PROGRESS: at 12.26% examples, 568247 words/s, in_qsize 17, out_qsize 3\n",
      "2018-11-24 13:17:05,774 : INFO : EPOCH 10 - PROGRESS: at 14.20% examples, 577331 words/s, in_qsize 20, out_qsize 1\n",
      "2018-11-24 13:17:06,783 : INFO : EPOCH 10 - PROGRESS: at 15.98% examples, 580774 words/s, in_qsize 19, out_qsize 0\n",
      "2018-11-24 13:17:07,792 : INFO : EPOCH 10 - PROGRESS: at 17.72% examples, 586148 words/s, in_qsize 20, out_qsize 1\n",
      "2018-11-24 13:17:08,795 : INFO : EPOCH 10 - PROGRESS: at 19.26% examples, 584715 words/s, in_qsize 20, out_qsize 2\n",
      "2018-11-24 13:17:09,881 : INFO : EPOCH 10 - PROGRESS: at 20.94% examples, 587449 words/s, in_qsize 19, out_qsize 2\n",
      "2018-11-24 13:17:10,919 : INFO : EPOCH 10 - PROGRESS: at 22.65% examples, 581377 words/s, in_qsize 19, out_qsize 0\n",
      "2018-11-24 13:17:11,931 : INFO : EPOCH 10 - PROGRESS: at 24.42% examples, 588428 words/s, in_qsize 19, out_qsize 0\n",
      "2018-11-24 13:17:12,936 : INFO : EPOCH 10 - PROGRESS: at 27.02% examples, 597000 words/s, in_qsize 19, out_qsize 0\n",
      "2018-11-24 13:17:13,942 : INFO : EPOCH 10 - PROGRESS: at 29.56% examples, 603046 words/s, in_qsize 18, out_qsize 1\n",
      "2018-11-24 13:17:14,944 : INFO : EPOCH 10 - PROGRESS: at 32.21% examples, 610253 words/s, in_qsize 18, out_qsize 1\n",
      "2018-11-24 13:17:15,975 : INFO : EPOCH 10 - PROGRESS: at 34.09% examples, 606685 words/s, in_qsize 19, out_qsize 0\n",
      "2018-11-24 13:17:16,996 : INFO : EPOCH 10 - PROGRESS: at 36.75% examples, 613498 words/s, in_qsize 20, out_qsize 2\n",
      "2018-11-24 13:17:18,016 : INFO : EPOCH 10 - PROGRESS: at 39.49% examples, 620972 words/s, in_qsize 19, out_qsize 0\n",
      "2018-11-24 13:17:19,051 : INFO : EPOCH 10 - PROGRESS: at 42.12% examples, 623917 words/s, in_qsize 17, out_qsize 2\n",
      "2018-11-24 13:17:20,080 : INFO : EPOCH 10 - PROGRESS: at 44.89% examples, 629369 words/s, in_qsize 20, out_qsize 0\n",
      "2018-11-24 13:17:21,103 : INFO : EPOCH 10 - PROGRESS: at 46.50% examples, 621589 words/s, in_qsize 16, out_qsize 3\n",
      "2018-11-24 13:17:22,145 : INFO : EPOCH 10 - PROGRESS: at 48.15% examples, 615132 words/s, in_qsize 19, out_qsize 0\n",
      "2018-11-24 13:17:23,166 : INFO : EPOCH 10 - PROGRESS: at 49.84% examples, 609151 words/s, in_qsize 18, out_qsize 1\n",
      "2018-11-24 13:17:24,167 : INFO : EPOCH 10 - PROGRESS: at 51.96% examples, 609703 words/s, in_qsize 19, out_qsize 0\n",
      "2018-11-24 13:17:25,175 : INFO : EPOCH 10 - PROGRESS: at 54.35% examples, 614109 words/s, in_qsize 19, out_qsize 0\n",
      "2018-11-24 13:17:26,178 : INFO : EPOCH 10 - PROGRESS: at 56.98% examples, 618407 words/s, in_qsize 19, out_qsize 0\n",
      "2018-11-24 13:17:27,183 : INFO : EPOCH 10 - PROGRESS: at 59.56% examples, 622788 words/s, in_qsize 18, out_qsize 1\n",
      "2018-11-24 13:17:28,206 : INFO : EPOCH 10 - PROGRESS: at 61.32% examples, 618794 words/s, in_qsize 16, out_qsize 3\n",
      "2018-11-24 13:17:29,208 : INFO : EPOCH 10 - PROGRESS: at 63.36% examples, 617279 words/s, in_qsize 20, out_qsize 0\n",
      "2018-11-24 13:17:30,288 : INFO : EPOCH 10 - PROGRESS: at 65.13% examples, 611390 words/s, in_qsize 18, out_qsize 1\n",
      "2018-11-24 13:17:31,290 : INFO : EPOCH 10 - PROGRESS: at 66.72% examples, 608050 words/s, in_qsize 19, out_qsize 0\n",
      "2018-11-24 13:17:32,331 : INFO : EPOCH 10 - PROGRESS: at 68.53% examples, 605153 words/s, in_qsize 19, out_qsize 0\n",
      "2018-11-24 13:17:33,334 : INFO : EPOCH 10 - PROGRESS: at 70.28% examples, 603472 words/s, in_qsize 18, out_qsize 1\n",
      "2018-11-24 13:17:34,375 : INFO : EPOCH 10 - PROGRESS: at 71.92% examples, 599933 words/s, in_qsize 13, out_qsize 6\n",
      "2018-11-24 13:17:35,390 : INFO : EPOCH 10 - PROGRESS: at 73.81% examples, 597535 words/s, in_qsize 17, out_qsize 2\n",
      "2018-11-24 13:17:36,405 : INFO : EPOCH 10 - PROGRESS: at 75.56% examples, 596046 words/s, in_qsize 19, out_qsize 0\n",
      "2018-11-24 13:17:37,428 : INFO : EPOCH 10 - PROGRESS: at 77.19% examples, 593896 words/s, in_qsize 18, out_qsize 1\n",
      "2018-11-24 13:17:38,471 : INFO : EPOCH 10 - PROGRESS: at 78.97% examples, 592449 words/s, in_qsize 19, out_qsize 0\n",
      "2018-11-24 13:17:39,524 : INFO : EPOCH 10 - PROGRESS: at 80.69% examples, 590125 words/s, in_qsize 19, out_qsize 4\n",
      "2018-11-24 13:17:40,532 : INFO : EPOCH 10 - PROGRESS: at 82.63% examples, 589703 words/s, in_qsize 19, out_qsize 0\n",
      "2018-11-24 13:17:41,534 : INFO : EPOCH 10 - PROGRESS: at 84.27% examples, 587693 words/s, in_qsize 19, out_qsize 0\n",
      "2018-11-24 13:17:42,554 : INFO : EPOCH 10 - PROGRESS: at 85.94% examples, 585851 words/s, in_qsize 19, out_qsize 0\n",
      "2018-11-24 13:17:43,569 : INFO : EPOCH 10 - PROGRESS: at 87.95% examples, 584998 words/s, in_qsize 19, out_qsize 0\n",
      "2018-11-24 13:17:44,587 : INFO : EPOCH 10 - PROGRESS: at 89.91% examples, 584151 words/s, in_qsize 19, out_qsize 0\n",
      "2018-11-24 13:17:45,627 : INFO : EPOCH 10 - PROGRESS: at 91.83% examples, 582797 words/s, in_qsize 19, out_qsize 0\n",
      "2018-11-24 13:17:46,642 : INFO : EPOCH 10 - PROGRESS: at 93.59% examples, 581596 words/s, in_qsize 18, out_qsize 1\n",
      "2018-11-24 13:17:47,648 : INFO : EPOCH 10 - PROGRESS: at 95.34% examples, 580009 words/s, in_qsize 19, out_qsize 0\n",
      "2018-11-24 13:17:48,658 : INFO : EPOCH 10 - PROGRESS: at 97.11% examples, 578571 words/s, in_qsize 20, out_qsize 0\n",
      "2018-11-24 13:17:49,676 : INFO : EPOCH 10 - PROGRESS: at 98.75% examples, 576386 words/s, in_qsize 18, out_qsize 1\n",
      "2018-11-24 13:17:50,207 : INFO : worker thread finished; awaiting finish of 9 more threads\n",
      "2018-11-24 13:17:50,212 : INFO : worker thread finished; awaiting finish of 8 more threads\n",
      "2018-11-24 13:17:50,217 : INFO : worker thread finished; awaiting finish of 7 more threads\n",
      "2018-11-24 13:17:50,243 : INFO : worker thread finished; awaiting finish of 6 more threads\n",
      "2018-11-24 13:17:50,263 : INFO : worker thread finished; awaiting finish of 5 more threads\n",
      "2018-11-24 13:17:50,277 : INFO : worker thread finished; awaiting finish of 4 more threads\n",
      "2018-11-24 13:17:50,296 : INFO : worker thread finished; awaiting finish of 3 more threads\n",
      "2018-11-24 13:17:50,302 : INFO : worker thread finished; awaiting finish of 2 more threads\n",
      "2018-11-24 13:17:50,318 : INFO : worker thread finished; awaiting finish of 1 more threads\n",
      "2018-11-24 13:17:50,322 : INFO : worker thread finished; awaiting finish of 0 more threads\n",
      "2018-11-24 13:17:50,325 : INFO : EPOCH - 10 : training on 41519355 raw words (30346437 effective words) took 52.7s, 576059 effective words/s\n",
      "2018-11-24 13:17:50,329 : INFO : training on a 415193550 raw words (303485913 effective words) took 486.6s, 623640 effective words/s\n"
     ]
    },
    {
     "data": {
      "text/plain": [
       "(303485913, 415193550)"
      ]
     },
     "execution_count": 9,
     "metadata": {},
     "output_type": "execute_result"
    }
   ],
   "source": [
    "word2vec_model.train(documents, total_examples=len(documents), epochs=10)"
   ]
  },
  {
   "cell_type": "markdown",
   "metadata": {},
   "source": [
    "## Save The Model"
   ]
  },
  {
   "cell_type": "code",
   "execution_count": 11,
   "metadata": {},
   "outputs": [
    {
     "name": "stderr",
     "output_type": "stream",
     "text": [
      "2018-11-24 13:38:46,474 : INFO : saving Word2Vec object under ./weights/word2vec.model, separately None\n",
      "2018-11-24 13:38:46,478 : INFO : storing np array 'vectors' to ./weights/word2vec.model.wv.vectors.npy\n",
      "2018-11-24 13:38:46,773 : INFO : not storing attribute vectors_norm\n",
      "2018-11-24 13:38:46,785 : INFO : storing np array 'syn1neg' to ./weights/word2vec.model.trainables.syn1neg.npy\n",
      "2018-11-24 13:38:48,093 : INFO : saved ./weights/word2vec.model\n"
     ]
    }
   ],
   "source": [
    "word2vec_model.save(\"./weights/word2vec.model\")"
   ]
  },
  {
   "cell_type": "markdown",
   "metadata": {},
   "source": [
    "## Load The Model"
   ]
  },
  {
   "cell_type": "code",
   "execution_count": 13,
   "metadata": {},
   "outputs": [
    {
     "name": "stderr",
     "output_type": "stream",
     "text": [
      "2018-11-24 13:41:29,226 : INFO : loading Word2Vec object from ./weights/word2vec.model\n",
      "2018-11-24 13:41:40,199 : INFO : loading wv recursively from ./weights/word2vec.model.wv.* with mmap=None\n",
      "2018-11-24 13:41:40,201 : INFO : loading vectors from ./weights/word2vec.model.wv.vectors.npy with mmap=None\n",
      "2018-11-24 13:41:40,375 : INFO : setting ignored attribute vectors_norm to None\n",
      "2018-11-24 13:41:40,386 : INFO : loading vocabulary recursively from ./weights/word2vec.model.vocabulary.* with mmap=None\n",
      "2018-11-24 13:41:40,393 : INFO : loading trainables recursively from ./weights/word2vec.model.trainables.* with mmap=None\n",
      "2018-11-24 13:41:40,396 : INFO : loading syn1neg from ./weights/word2vec.model.trainables.syn1neg.npy with mmap=None\n",
      "2018-11-24 13:41:40,570 : INFO : loaded ./weights/word2vec.model\n"
     ]
    }
   ],
   "source": [
    "word2vec_model = gensim.models.Word2Vec.load(\"./weights/word2vec.model\")"
   ]
  },
  {
   "cell_type": "markdown",
   "metadata": {},
   "source": [
    "#### Showing model info"
   ]
  },
  {
   "cell_type": "code",
   "execution_count": 80,
   "metadata": {
    "collapsed": true
   },
   "outputs": [],
   "source": [
    "model_info = {\n",
    "    'epoch': word2vec_model.epochs,\n",
    "    'total_corpus': word2vec_model.corpus_count,\n",
    "    'workers': word2vec_model.workers,\n",
    "    'window': word2vec_model.window,\n",
    "    'vector_size': word2vec_model.vector_size\n",
    "}"
   ]
  },
  {
   "cell_type": "code",
   "execution_count": 91,
   "metadata": {},
   "outputs": [
    {
     "data": {
      "text/html": [
       "<div>\n",
       "<style>\n",
       "    .dataframe thead tr:only-child th {\n",
       "        text-align: right;\n",
       "    }\n",
       "\n",
       "    .dataframe thead th {\n",
       "        text-align: left;\n",
       "    }\n",
       "\n",
       "    .dataframe tbody tr th {\n",
       "        vertical-align: top;\n",
       "    }\n",
       "</style>\n",
       "<table border=\"1\" class=\"dataframe\">\n",
       "  <thead>\n",
       "    <tr style=\"text-align: right;\">\n",
       "      <th></th>\n",
       "      <th>epoch</th>\n",
       "      <th>total_corpus</th>\n",
       "      <th>vector_size</th>\n",
       "      <th>window</th>\n",
       "      <th>workers</th>\n",
       "    </tr>\n",
       "  </thead>\n",
       "  <tbody>\n",
       "    <tr>\n",
       "      <th>0</th>\n",
       "      <td>10</td>\n",
       "      <td>255404</td>\n",
       "      <td>150</td>\n",
       "      <td>10</td>\n",
       "      <td>10</td>\n",
       "    </tr>\n",
       "  </tbody>\n",
       "</table>\n",
       "</div>"
      ],
      "text/plain": [
       "   epoch  total_corpus  vector_size  window  workers\n",
       "0     10        255404          150      10       10"
      ]
     },
     "execution_count": 91,
     "metadata": {},
     "output_type": "execute_result"
    }
   ],
   "source": [
    "import pandas as pd\n",
    "pd.DataFrame(data=[model_info])"
   ]
  },
  {
   "cell_type": "markdown",
   "metadata": {},
   "source": [
    "## Test The Model"
   ]
  },
  {
   "cell_type": "markdown",
   "metadata": {},
   "source": [
    "#### Finding the most related words"
   ]
  },
  {
   "cell_type": "code",
   "execution_count": 23,
   "metadata": {},
   "outputs": [
    {
     "data": {
      "text/plain": [
       "[('filthy', 0.8659749031066895),\n",
       " ('unclean', 0.7855876088142395),\n",
       " ('stained', 0.7721947431564331),\n",
       " ('smelly', 0.7647020220756531),\n",
       " ('dusty', 0.7624214291572571)]"
      ]
     },
     "execution_count": 23,
     "metadata": {},
     "output_type": "execute_result"
    }
   ],
   "source": [
    "word = 'dirty'\n",
    "word2vec_model.wv.most_similar(positive=word, topn=5)"
   ]
  },
  {
   "cell_type": "code",
   "execution_count": 24,
   "metadata": {},
   "outputs": [
    {
     "data": {
      "text/plain": [
       "[('courteous', 0.9253534078598022),\n",
       " ('friendly', 0.8423811793327332),\n",
       " ('cordial', 0.8059393167495728),\n",
       " ('curteous', 0.8040379285812378),\n",
       " ('professional', 0.7898988723754883)]"
      ]
     },
     "execution_count": 24,
     "metadata": {},
     "output_type": "execute_result"
    }
   ],
   "source": [
    "word = 'polite'\n",
    "word2vec_model.wv.most_similar(positive=word, topn=5)"
   ]
  },
  {
   "cell_type": "code",
   "execution_count": 25,
   "metadata": {},
   "outputs": [
    {
     "data": {
      "text/plain": [
       "[('spain', 0.6542340517044067),\n",
       " ('canada', 0.6508133411407471),\n",
       " ('germany', 0.6300669312477112),\n",
       " ('detroit', 0.598978579044342),\n",
       " ('mexico', 0.5975478887557983)]"
      ]
     },
     "execution_count": 25,
     "metadata": {},
     "output_type": "execute_result"
    }
   ],
   "source": [
    "word = 'france'\n",
    "word2vec_model.wv.most_similar(positive=word, topn=5)"
   ]
  },
  {
   "cell_type": "code",
   "execution_count": 26,
   "metadata": {},
   "outputs": [
    {
     "data": {
      "text/plain": [
       "[('horrified', 0.8133686780929565),\n",
       " ('amazed', 0.7889528870582581),\n",
       " ('stunned', 0.7694660425186157),\n",
       " ('astonished', 0.7680845260620117),\n",
       " ('appalled', 0.7520051598548889)]"
      ]
     },
     "execution_count": 26,
     "metadata": {},
     "output_type": "execute_result"
    }
   ],
   "source": [
    "word = 'shocked'\n",
    "word2vec_model.wv.most_similar(positive=word, topn=5)"
   ]
  },
  {
   "cell_type": "code",
   "execution_count": 33,
   "metadata": {},
   "outputs": [
    {
     "data": {
      "text/plain": [
       "[('blanket', 0.6604424118995667),\n",
       " ('duvet', 0.6593495011329651),\n",
       " ('quilt', 0.6290340423583984),\n",
       " ('satin', 0.6129457950592041),\n",
       " ('pillowcase', 0.6124125719070435)]"
      ]
     },
     "execution_count": 33,
     "metadata": {},
     "output_type": "execute_result"
    }
   ],
   "source": [
    "# get everything related to stuff on the bed\n",
    "wordp = ['bed', 'sheet', 'pillow'] # act as context\n",
    "wordn = ['mattress'] # what should not be considered as related\n",
    "word2vec_model.wv.most_similar(positive=wordp, negative=wordn, topn=5)"
   ]
  },
  {
   "cell_type": "markdown",
   "metadata": {},
   "source": [
    "#### Finding similarity between two words in the vocabulary"
   ]
  },
  {
   "cell_type": "code",
   "execution_count": 38,
   "metadata": {},
   "outputs": [
    {
     "data": {
      "text/plain": [
       "1.0000000000000002"
      ]
     },
     "execution_count": 38,
     "metadata": {},
     "output_type": "execute_result"
    }
   ],
   "source": [
    "word2vec_model.wv.similarity(w1=\"dirty\",w2=\"dirty\")"
   ]
  },
  {
   "cell_type": "code",
   "execution_count": 39,
   "metadata": {},
   "outputs": [
    {
     "data": {
      "text/plain": [
       "0.7647020148051664"
      ]
     },
     "execution_count": 39,
     "metadata": {},
     "output_type": "execute_result"
    }
   ],
   "source": [
    "word2vec_model.wv.similarity(w1='dirty',w2= 'smelly')"
   ]
  },
  {
   "cell_type": "code",
   "execution_count": 40,
   "metadata": {},
   "outputs": [
    {
     "data": {
      "text/plain": [
       "0.2601841075222059"
      ]
     },
     "execution_count": 40,
     "metadata": {},
     "output_type": "execute_result"
    }
   ],
   "source": [
    "word2vec_model.wv.similarity(w1=\"dirty\",w2=\"clean\")"
   ]
  },
  {
   "cell_type": "markdown",
   "metadata": {},
   "source": [
    "#### Finding the odd one cut"
   ]
  },
  {
   "cell_type": "code",
   "execution_count": 41,
   "metadata": {},
   "outputs": [
    {
     "data": {
      "text/plain": [
       "'france'"
      ]
     },
     "execution_count": 41,
     "metadata": {},
     "output_type": "execute_result"
    }
   ],
   "source": [
    "word2vec_model.wv.doesnt_match(['cat', 'dog', 'france'])"
   ]
  },
  {
   "cell_type": "code",
   "execution_count": 43,
   "metadata": {},
   "outputs": [
    {
     "data": {
      "text/plain": [
       "'shower'"
      ]
     },
     "execution_count": 43,
     "metadata": {},
     "output_type": "execute_result"
    }
   ],
   "source": [
    "word2vec_model.wv.doesnt_match(['bed', 'pillow', 'duvet', 'shower'])"
   ]
  },
  {
   "cell_type": "markdown",
   "metadata": {},
   "source": [
    "## Great!"
   ]
  },
  {
   "cell_type": "markdown",
   "metadata": {},
   "source": [
    "#### <hr/>"
   ]
  }
 ],
 "metadata": {
  "kernelspec": {
   "display_name": "Python 3",
   "language": "python",
   "name": "python3"
  },
  "language_info": {
   "codemirror_mode": {
    "name": "ipython",
    "version": 3
   },
   "file_extension": ".py",
   "mimetype": "text/x-python",
   "name": "python",
   "nbconvert_exporter": "python",
   "pygments_lexer": "ipython3",
   "version": "3.6.3"
  }
 },
 "nbformat": 4,
 "nbformat_minor": 2
}
